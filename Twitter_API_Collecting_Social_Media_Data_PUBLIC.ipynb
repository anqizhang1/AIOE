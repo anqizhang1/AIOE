{
  "nbformat": 4,
  "nbformat_minor": 0,
  "metadata": {
    "colab": {
      "provenance": [],
      "toc_visible": true,
      "include_colab_link": true
    },
    "kernelspec": {
      "display_name": "Python 3",
      "name": "python3"
    }
  },
  "cells": [
    {
      "cell_type": "markdown",
      "metadata": {
        "id": "view-in-github",
        "colab_type": "text"
      },
      "source": [
        "<a href=\"https://colab.research.google.com/github/anqizhang1/AIOE/blob/main/Twitter_API_Collecting_Social_Media_Data_PUBLIC.ipynb\" target=\"_parent\"><img src=\"https://colab.research.google.com/assets/colab-badge.svg\" alt=\"Open In Colab\"/></a>"
      ]
    },
    {
      "cell_type": "markdown",
      "metadata": {
        "id": "WoaLpew3sCwo"
      },
      "source": [
        "# Intro and Resources"
      ]
    },
    {
      "cell_type": "markdown",
      "metadata": {
        "id": "iRuB_B_B2F-I"
      },
      "source": [
        "---\n",
        "#### *Copyright*\n",
        "The content in this notebook was developed by Jeremy Walker. All sample code and notes are provided under a Creative Commons ShareAlike license.\n",
        "\n",
        "Official Copyright Rules / Restrictions / Priveleges Attribution-ShareAlike 4.0 International (CC BY-SA 4.0) https://creativecommons.org/licenses/by-sa/4.0/\n",
        "\n",
        "---\n",
        "#### References & Resources\n",
        "##### *Twitter*\n",
        "* Twitter API - https://developer.twitter.com/en\n",
        "* Tweepy - http://docs.tweepy.org/en/latest/index.html\n",
        "\n",
        "##### *Library Research Data Services (RDS)*\n",
        "* RDS Homepage - https://research.library.gsu.edu/dataservices\n",
        "* RDS Workshops - https://research.library.gsu.edu/dataservices/rds-workshops\n",
        "\n",
        "##### *General GSU Resources*\n",
        "* O'Reilly For Higher Education - http://go.oreilly.com/georgia-state-university\n",
        "* LinkedIn Learning - https://technology.gsu.edu/technology-services/it-services/training-and-learning-resources/linkedin-learning/\n"
      ]
    },
    {
      "cell_type": "markdown",
      "metadata": {
        "id": "mnkmcn0vzQbk"
      },
      "source": [
        "# Part 0 - Getting Everything Set Up"
      ]
    },
    {
      "cell_type": "code",
      "metadata": {
        "id": "8Rfwfp2hK6OT"
      },
      "source": [
        "# Before getting started with any code, you need to visit the Twitter API\n",
        "# (https://developer.twitter.com/en) website and...\n",
        "# 1. apply for a developer account\n",
        "# 2. then create an \"project\"\n",
        "# 3. then copy+paste the various keys, secrets, and tokens into the following cell.\n",
        "\n",
        "my_consumer_key = \"xeAdMLaPRWZJT3KVOYJvpNNRe\"\n",
        "my_consumer_secret = \"eGa7xCB5mlZb3niapleSipJgg4scV4iavwXqG7VOW9LGM62aeg\"\n",
        "\n",
        "my_access_token = \"1169027097567907841-TCfyJxhniG49yCjEGl7byG5lPBkJXk\"\n",
        "my_access_secret = \"31EWQ5LicvGWQcYzlwUnDIcMb4c3uN2hL1pJATUSR13qf\"\n",
        "\n",
        "my_bearer_token = \"AAAAAAAAAAAAAAAAAAAAANWolAEAAAAA8465wdznPrbS5T0F9gKnmXAkRUk%3DTfrrUZmrDhko4CXKxfPsgFhPVZXuDdWnQYkK4ZXOACGEnGDqc3\""
      ],
      "execution_count": 1,
      "outputs": []
    },
    {
      "cell_type": "code",
      "metadata": {
        "id": "UoMr11G_zd6s",
        "colab": {
          "base_uri": "https://localhost:8080/"
        },
        "outputId": "d0d87f85-3af8-47e2-9cf0-27103e03db64"
      },
      "source": [
        "# To get started, we need to ensure that the absolute latest version of Tweepy is \n",
        "# fully installed and overwrites any preexisting installations.\n",
        "\n",
        "!pip install git+https://github.com/tweepy/tweepy.git --upgrade"
      ],
      "execution_count": 2,
      "outputs": [
        {
          "output_type": "stream",
          "name": "stdout",
          "text": [
            "Looking in indexes: https://pypi.org/simple, https://us-python.pkg.dev/colab-wheels/public/simple/\n",
            "Collecting git+https://github.com/tweepy/tweepy.git\n",
            "  Cloning https://github.com/tweepy/tweepy.git to /tmp/pip-req-build-aqotx4kh\n",
            "  Running command git clone --filter=blob:none --quiet https://github.com/tweepy/tweepy.git /tmp/pip-req-build-aqotx4kh\n",
            "  Resolved https://github.com/tweepy/tweepy.git to commit 0cd96b1918e5e920eb9f8fe4ba303ab5ec899c65\n",
            "  Preparing metadata (setup.py) ... \u001b[?25l\u001b[?25hdone\n",
            "Requirement already satisfied: oauthlib<4,>=3.2.0 in /usr/local/lib/python3.8/dist-packages (from tweepy==4.12.1) (3.2.2)\n",
            "Collecting requests<3,>=2.27.0\n",
            "  Downloading requests-2.28.2-py3-none-any.whl (62 kB)\n",
            "\u001b[2K     \u001b[90m━━━━━━━━━━━━━━━━━━━━━━━━━━━━━━━━━━━━━━━━\u001b[0m \u001b[32m62.8/62.8 KB\u001b[0m \u001b[31m2.4 MB/s\u001b[0m eta \u001b[36m0:00:00\u001b[0m\n",
            "\u001b[?25hRequirement already satisfied: requests-oauthlib<2,>=1.2.0 in /usr/local/lib/python3.8/dist-packages (from tweepy==4.12.1) (1.3.1)\n",
            "Requirement already satisfied: urllib3<1.27,>=1.21.1 in /usr/local/lib/python3.8/dist-packages (from requests<3,>=2.27.0->tweepy==4.12.1) (1.24.3)\n",
            "Requirement already satisfied: charset-normalizer<4,>=2 in /usr/local/lib/python3.8/dist-packages (from requests<3,>=2.27.0->tweepy==4.12.1) (2.1.1)\n",
            "Requirement already satisfied: idna<4,>=2.5 in /usr/local/lib/python3.8/dist-packages (from requests<3,>=2.27.0->tweepy==4.12.1) (2.10)\n",
            "Requirement already satisfied: certifi>=2017.4.17 in /usr/local/lib/python3.8/dist-packages (from requests<3,>=2.27.0->tweepy==4.12.1) (2022.12.7)\n",
            "Building wheels for collected packages: tweepy\n",
            "  Building wheel for tweepy (setup.py) ... \u001b[?25l\u001b[?25hdone\n",
            "  Created wheel for tweepy: filename=tweepy-4.12.1-py3-none-any.whl size=102442 sha256=eb519cf073f426c39ebd441b202636b2c0af41214ad07a02eb1d47cb06fe1b6d\n",
            "  Stored in directory: /tmp/pip-ephem-wheel-cache-jdctxmyq/wheels/ad/05/51/a78f66d15b87f9c623d2f3afc4401660ac4219e526c787fb8b\n",
            "Successfully built tweepy\n",
            "Installing collected packages: requests, tweepy\n",
            "  Attempting uninstall: requests\n",
            "    Found existing installation: requests 2.25.1\n",
            "    Uninstalling requests-2.25.1:\n",
            "      Successfully uninstalled requests-2.25.1\n",
            "  Attempting uninstall: tweepy\n",
            "    Found existing installation: tweepy 3.10.0\n",
            "    Uninstalling tweepy-3.10.0:\n",
            "      Successfully uninstalled tweepy-3.10.0\n",
            "Successfully installed requests-2.28.2 tweepy-4.12.1\n"
          ]
        }
      ]
    },
    {
      "cell_type": "code",
      "metadata": {
        "id": "xVNdmNrAzdyn"
      },
      "source": [
        "# Import the tweepy package\n",
        "import tweepy\n",
        "\n",
        "# Import a variety of other packages that may be useful for working with data.\n",
        "import pandas as pd\n",
        "import json\n",
        "import time"
      ],
      "execution_count": 3,
      "outputs": []
    },
    {
      "cell_type": "markdown",
      "metadata": {
        "id": "X3ZQ3Pg9yLGK"
      },
      "source": [
        "# Part 1 - Twitter API credentials, authentication, and starting the \"client\" class"
      ]
    },
    {
      "cell_type": "markdown",
      "metadata": {
        "id": "C7VJR29WOLu6"
      },
      "source": [
        "In order for your code and commands to effectively communicate with the Twitter API (most APIs, in truth), you will need to \"authenticate\" your credentials with the services.  This is conceptually similar to submitting a username/password to the Twitter API prior to being allowed to access the data.\n",
        "\n",
        "Advanced users will want to read the [official documentation](https://developer.twitter.com/en/docs/authentication/overview) to gain a deeper understanding of various authentication methods (e.g. Oauth1 and Oauth2).\n",
        "\n",
        "However, Tweepy makes it exceptionally easy to authenticate with the Twitter API v2 using the \"Client\" class/function without needing to think too much: https://docs.tweepy.org/en/latest/client.html"
      ]
    },
    {
      "cell_type": "code",
      "metadata": {
        "id": "fvbRs68PKvH1"
      },
      "source": [
        "# Using the tweepy.Client(...) function, you can establish a connection to the \n",
        "# Twitter API.  The example below shows a robust way of creating a \"client\" object\n",
        "#  by passing your credentials to appropriate parameters.\n",
        "\n",
        "# Additionally, the \"wait_on_rate_limit\" parameter is set to True at this stage.\n",
        "# This will be explained more later, but this helps to overcome a lot of errors\n",
        "#  associated with API usage limitations.\n",
        "\n",
        "client = tweepy.Client(\n",
        "    wait_on_rate_limit = True,\n",
        "    consumer_key = my_consumer_key,\n",
        "    consumer_secret = my_consumer_secret,\n",
        "    access_token = my_access_token,\n",
        "    access_token_secret = my_access_secret,\n",
        "    bearer_token = my_bearer_token,\n",
        ")"
      ],
      "execution_count": 6,
      "outputs": []
    },
    {
      "cell_type": "code",
      "metadata": {
        "id": "9Qe4anCZKwQy",
        "colab": {
          "base_uri": "https://localhost:8080/"
        },
        "outputId": "fbc6301d-7b28-437f-c210-45df7a28f86d"
      },
      "source": [
        "# Test to make sure the client object exists\n",
        "\n",
        "client"
      ],
      "execution_count": 7,
      "outputs": [
        {
          "output_type": "execute_result",
          "data": {
            "text/plain": [
              "<tweepy.client.Client at 0x7fd076652c40>"
            ]
          },
          "metadata": {},
          "execution_count": 7
        }
      ]
    },
    {
      "cell_type": "code",
      "metadata": {
        "id": "JD6MUDEyKLlG",
        "colab": {
          "base_uri": "https://localhost:8080/"
        },
        "outputId": "91487464-5260-4763-8f1a-91da125d8f01"
      },
      "source": [
        "# Do a quick test to make sure the client is working.  You should see a \n",
        "# \"Response(...\" object of some form displayed in the output if successful \n",
        "# (don't worry about the details, we will cover everything together)\n",
        "\n",
        "client.get_user(username =\"standupmaths\")"
      ],
      "execution_count": 8,
      "outputs": [
        {
          "output_type": "execute_result",
          "data": {
            "text/plain": [
              "Response(data=<User id=92614042 name=Matt Parker username=standupmaths>, includes={}, errors=[], meta={})"
            ]
          },
          "metadata": {},
          "execution_count": 8
        }
      ]
    },
    {
      "cell_type": "markdown",
      "metadata": {
        "id": "fPevEcm2Jd8R"
      },
      "source": [
        "# Part _____ - The General Pattern"
      ]
    },
    {
      "cell_type": "markdown",
      "metadata": {
        "id": "NqeqXa_zQXtj"
      },
      "source": [
        "Generally speaking, the entirety of this workshop can be reduced to repeatedly cycling through the same three steps:\n",
        "\n",
        "*   Reading about a function in the Tweepy package's documentation\n",
        "*   Reading about a function in the official Twitter API documentation\n",
        "*   Attempting to run the function in the Python notebook\n",
        "\n",
        "For example, if you want to download the account information for a specific user, you may look into the following:\n",
        "\n",
        "*   Tweepy: https://docs.tweepy.org/en/latest/client.html#tweepy.Client.get_user\n",
        "*   Twitter API: https://developer.twitter.com/en/docs/twitter-api/users/lookup/api-reference/get-users-by-username-username\n",
        "*   Code Attempt: client.get_user(username =\"standupmaths\")\n",
        "\n",
        "Where you start and the order in which you learn about aspects of working with the Twitter API is fluid and arbitrary.  You should expect it for this to be a dynamic process of discovery, practice, and iteration.\n",
        "\n"
      ]
    },
    {
      "cell_type": "markdown",
      "metadata": {
        "id": "4_hZmvRQzAtv"
      },
      "source": [
        "# Part 2 - Getting Started with Tweepy & User Lookup"
      ]
    },
    {
      "cell_type": "markdown",
      "metadata": {
        "id": "e1o1nw2XLtWx"
      },
      "source": [
        "*   Tweepy: https://docs.tweepy.org/en/latest/client.html#tweepy.Client.get_user\n",
        "*   Twitter API: https://developer.twitter.com/en/docs/twitter-api/users/lookup/api-reference/get-users-by-username-username"
      ]
    },
    {
      "cell_type": "code",
      "metadata": {
        "id": "z5GO9MFC1v1Z"
      },
      "source": [
        "# Individual user accounts are a good place to start when learning how to \n",
        "# retrive and work with data from the Twitter API.  The following example uses \n",
        "# our client object and the get_user(...) function to search for a specific \n",
        "# Twitter user's account by username.  The user_single object will be used to \n",
        "# store the information returned to us.\n",
        "\n",
        "# We'll starting by looking at the Twitter account for math-communicator, Matt Parker: https://twitter.com/standupmaths\n",
        "\n",
        "user_single = client.get_user(\n",
        "    username =\"standupmaths\",\n",
        ")"
      ],
      "execution_count": 9,
      "outputs": []
    },
    {
      "cell_type": "code",
      "metadata": {
        "id": "wjYgoysh4FaB",
        "colab": {
          "base_uri": "https://localhost:8080/"
        },
        "outputId": "05cdc3ac-abcb-42ec-8747-f0f9dd0e7aaf"
      },
      "source": [
        "# Whereas the Twitter API, in its raw form, usually just returns a JSON object,\n",
        "# The Tweepy package bundles data returned from the Twitter API in specific ways\n",
        "# that can be a bit strange at first, but are often quite helpful for data \n",
        "# management and processing.\n",
        "\n",
        "# The \"Response\" below contains \"data\", \"includes\", \"errors\", and \"meta\" components.\n",
        "# Each of these are useful in different situations, but this workshop will focus\n",
        "# almost entirely on the \"data\" component.  In this case, it is also the only \n",
        "# component that actually contains any information :)\n",
        "\n",
        "user_single"
      ],
      "execution_count": 10,
      "outputs": [
        {
          "output_type": "execute_result",
          "data": {
            "text/plain": [
              "Response(data=<User id=92614042 name=Matt Parker username=standupmaths>, includes={}, errors=[], meta={})"
            ]
          },
          "metadata": {},
          "execution_count": 10
        }
      ]
    },
    {
      "cell_type": "code",
      "metadata": {
        "id": "8fciMXYRTQhv",
        "colab": {
          "base_uri": "https://localhost:8080/"
        },
        "outputId": "52fcd9fb-fa10-482c-a13a-d8103f253553"
      },
      "source": [
        "# The data can be accessed as component of the user_single object\n",
        "\n",
        "user_single.data"
      ],
      "execution_count": 11,
      "outputs": [
        {
          "output_type": "execute_result",
          "data": {
            "text/plain": [
              "<User id=92614042 name=Matt Parker username=standupmaths>"
            ]
          },
          "metadata": {},
          "execution_count": 11
        }
      ]
    },
    {
      "cell_type": "code",
      "metadata": {
        "id": "X0sW3G0s_FWs",
        "colab": {
          "base_uri": "https://localhost:8080/",
          "height": 35
        },
        "outputId": "e0017301-9348-4843-e82c-b24cf3ddbd5e"
      },
      "source": [
        "# Within user_single.data, you can access a variety of individual attributes\n",
        "user_single.data.name\n"
      ],
      "execution_count": 16,
      "outputs": [
        {
          "output_type": "execute_result",
          "data": {
            "text/plain": [
              "'Matt Parker'"
            ],
            "application/vnd.google.colaboratory.intrinsic+json": {
              "type": "string"
            }
          },
          "metadata": {},
          "execution_count": 16
        }
      ]
    },
    {
      "cell_type": "code",
      "source": [
        "user_single.data.keys()"
      ],
      "metadata": {
        "colab": {
          "base_uri": "https://localhost:8080/"
        },
        "id": "GbjJAQxc46pf",
        "outputId": "bec2f42f-6fdf-4293-9f81-7b27a21eb5fa"
      },
      "execution_count": 17,
      "outputs": [
        {
          "output_type": "execute_result",
          "data": {
            "text/plain": [
              "KeysView(<User id=92614042 name=Matt Parker username=standupmaths>)"
            ]
          },
          "metadata": {},
          "execution_count": 17
        }
      ]
    },
    {
      "cell_type": "code",
      "metadata": {
        "id": "Jzszmhiy8uU9",
        "colab": {
          "base_uri": "https://localhost:8080/"
        },
        "outputId": "1db850ba-ef03-4ed2-8532-6f20314af514"
      },
      "source": [
        "print( user_single.data.id )\n",
        "print( user_single.data.name )\n",
        "print( user_single.data.username )\n",
        "print( user_single.data.created_at )"
      ],
      "execution_count": 18,
      "outputs": [
        {
          "output_type": "stream",
          "name": "stdout",
          "text": [
            "92614042\n",
            "Matt Parker\n",
            "standupmaths\n",
            "None\n"
          ]
        }
      ]
    },
    {
      "cell_type": "code",
      "metadata": {
        "id": "kcxJeM-O848_",
        "colab": {
          "base_uri": "https://localhost:8080/"
        },
        "outputId": "02b1ea18-fab0-4d33-edf6-ee437728a068"
      },
      "source": [
        "# Unintuitively, there is a \"data\" attribute within the \"data\" component \n",
        "# within the user_single object.  What's important is that this will give\n",
        "# us ALL of the data delivered by the Twitter API.\n",
        "\n",
        "# This information is structured as a dictionary and can be treated as a JSON \n",
        "# object when it is helpful.\n",
        "\n",
        "user_single.data.data   # json format dictionary"
      ],
      "execution_count": 19,
      "outputs": [
        {
          "output_type": "execute_result",
          "data": {
            "text/plain": [
              "{'id': '92614042', 'name': 'Matt Parker', 'username': 'standupmaths'}"
            ]
          },
          "metadata": {},
          "execution_count": 19
        }
      ]
    },
    {
      "cell_type": "code",
      "metadata": {
        "id": "Hp0KbXyVMIDO",
        "colab": {
          "base_uri": "https://localhost:8080/",
          "height": 35
        },
        "outputId": "388068fb-d59f-4f66-cbd6-7da3799a8c30"
      },
      "source": [
        "# This information can also be accessed as key-value pairs using [...].\n",
        "\n",
        "# These approaches to isolating individual data may be useful if you need \n",
        "# granular control individual datum values.\n",
        "\n",
        "# user_single.data.data[\"id\"]\n",
        "# user_single.data.data[\"name\"]\n",
        "user_single.data.data[\"username\"]"
      ],
      "execution_count": 20,
      "outputs": [
        {
          "output_type": "execute_result",
          "data": {
            "text/plain": [
              "'standupmaths'"
            ],
            "application/vnd.google.colaboratory.intrinsic+json": {
              "type": "string"
            }
          },
          "metadata": {},
          "execution_count": 20
        }
      ]
    },
    {
      "cell_type": "code",
      "metadata": {
        "id": "XkWE9ggq_QdG",
        "colab": {
          "base_uri": "https://localhost:8080/",
          "height": 80
        },
        "outputId": "66cc0703-05e2-4340-8f89-45b9ee4832bd"
      },
      "source": [
        "# However, what I assume is more useful to most researchers is to use Pandas\n",
        "# to convert the data to a Pandas DataFrame: https://pandas.pydata.org/pandas-docs/stable/user_guide/dsintro.html#dataframe\n",
        "\n",
        "pd.json_normalize( user_single.data.data, sep=\"_\" )"
      ],
      "execution_count": 21,
      "outputs": [
        {
          "output_type": "execute_result",
          "data": {
            "text/plain": [
              "         id         name      username\n",
              "0  92614042  Matt Parker  standupmaths"
            ],
            "text/html": [
              "\n",
              "  <div id=\"df-cb6e3ae9-0acf-477d-b166-b6a02f399cf3\">\n",
              "    <div class=\"colab-df-container\">\n",
              "      <div>\n",
              "<style scoped>\n",
              "    .dataframe tbody tr th:only-of-type {\n",
              "        vertical-align: middle;\n",
              "    }\n",
              "\n",
              "    .dataframe tbody tr th {\n",
              "        vertical-align: top;\n",
              "    }\n",
              "\n",
              "    .dataframe thead th {\n",
              "        text-align: right;\n",
              "    }\n",
              "</style>\n",
              "<table border=\"1\" class=\"dataframe\">\n",
              "  <thead>\n",
              "    <tr style=\"text-align: right;\">\n",
              "      <th></th>\n",
              "      <th>id</th>\n",
              "      <th>name</th>\n",
              "      <th>username</th>\n",
              "    </tr>\n",
              "  </thead>\n",
              "  <tbody>\n",
              "    <tr>\n",
              "      <th>0</th>\n",
              "      <td>92614042</td>\n",
              "      <td>Matt Parker</td>\n",
              "      <td>standupmaths</td>\n",
              "    </tr>\n",
              "  </tbody>\n",
              "</table>\n",
              "</div>\n",
              "      <button class=\"colab-df-convert\" onclick=\"convertToInteractive('df-cb6e3ae9-0acf-477d-b166-b6a02f399cf3')\"\n",
              "              title=\"Convert this dataframe to an interactive table.\"\n",
              "              style=\"display:none;\">\n",
              "        \n",
              "  <svg xmlns=\"http://www.w3.org/2000/svg\" height=\"24px\"viewBox=\"0 0 24 24\"\n",
              "       width=\"24px\">\n",
              "    <path d=\"M0 0h24v24H0V0z\" fill=\"none\"/>\n",
              "    <path d=\"M18.56 5.44l.94 2.06.94-2.06 2.06-.94-2.06-.94-.94-2.06-.94 2.06-2.06.94zm-11 1L8.5 8.5l.94-2.06 2.06-.94-2.06-.94L8.5 2.5l-.94 2.06-2.06.94zm10 10l.94 2.06.94-2.06 2.06-.94-2.06-.94-.94-2.06-.94 2.06-2.06.94z\"/><path d=\"M17.41 7.96l-1.37-1.37c-.4-.4-.92-.59-1.43-.59-.52 0-1.04.2-1.43.59L10.3 9.45l-7.72 7.72c-.78.78-.78 2.05 0 2.83L4 21.41c.39.39.9.59 1.41.59.51 0 1.02-.2 1.41-.59l7.78-7.78 2.81-2.81c.8-.78.8-2.07 0-2.86zM5.41 20L4 18.59l7.72-7.72 1.47 1.35L5.41 20z\"/>\n",
              "  </svg>\n",
              "      </button>\n",
              "      \n",
              "  <style>\n",
              "    .colab-df-container {\n",
              "      display:flex;\n",
              "      flex-wrap:wrap;\n",
              "      gap: 12px;\n",
              "    }\n",
              "\n",
              "    .colab-df-convert {\n",
              "      background-color: #E8F0FE;\n",
              "      border: none;\n",
              "      border-radius: 50%;\n",
              "      cursor: pointer;\n",
              "      display: none;\n",
              "      fill: #1967D2;\n",
              "      height: 32px;\n",
              "      padding: 0 0 0 0;\n",
              "      width: 32px;\n",
              "    }\n",
              "\n",
              "    .colab-df-convert:hover {\n",
              "      background-color: #E2EBFA;\n",
              "      box-shadow: 0px 1px 2px rgba(60, 64, 67, 0.3), 0px 1px 3px 1px rgba(60, 64, 67, 0.15);\n",
              "      fill: #174EA6;\n",
              "    }\n",
              "\n",
              "    [theme=dark] .colab-df-convert {\n",
              "      background-color: #3B4455;\n",
              "      fill: #D2E3FC;\n",
              "    }\n",
              "\n",
              "    [theme=dark] .colab-df-convert:hover {\n",
              "      background-color: #434B5C;\n",
              "      box-shadow: 0px 1px 3px 1px rgba(0, 0, 0, 0.15);\n",
              "      filter: drop-shadow(0px 1px 2px rgba(0, 0, 0, 0.3));\n",
              "      fill: #FFFFFF;\n",
              "    }\n",
              "  </style>\n",
              "\n",
              "      <script>\n",
              "        const buttonEl =\n",
              "          document.querySelector('#df-cb6e3ae9-0acf-477d-b166-b6a02f399cf3 button.colab-df-convert');\n",
              "        buttonEl.style.display =\n",
              "          google.colab.kernel.accessAllowed ? 'block' : 'none';\n",
              "\n",
              "        async function convertToInteractive(key) {\n",
              "          const element = document.querySelector('#df-cb6e3ae9-0acf-477d-b166-b6a02f399cf3');\n",
              "          const dataTable =\n",
              "            await google.colab.kernel.invokeFunction('convertToInteractive',\n",
              "                                                     [key], {});\n",
              "          if (!dataTable) return;\n",
              "\n",
              "          const docLinkHtml = 'Like what you see? Visit the ' +\n",
              "            '<a target=\"_blank\" href=https://colab.research.google.com/notebooks/data_table.ipynb>data table notebook</a>'\n",
              "            + ' to learn more about interactive tables.';\n",
              "          element.innerHTML = '';\n",
              "          dataTable['output_type'] = 'display_data';\n",
              "          await google.colab.output.renderOutput(dataTable, element);\n",
              "          const docLink = document.createElement('div');\n",
              "          docLink.innerHTML = docLinkHtml;\n",
              "          element.appendChild(docLink);\n",
              "        }\n",
              "      </script>\n",
              "    </div>\n",
              "  </div>\n",
              "  "
            ]
          },
          "metadata": {},
          "execution_count": 21
        }
      ]
    },
    {
      "cell_type": "code",
      "metadata": {
        "id": "-Laygy5p9FFe"
      },
      "source": [
        "# \"Fields\" refer to the additional data you want to request from the Twitter \n",
        "# API.  There are very precise options available for \"user fields\", \"tweet \n",
        "# fields\", \"media fields\" and other \"....fields\" options.  Using these tools \n",
        "# robustly requires close reading of the documentation.\n",
        "\n",
        "# Twitter API (get_user) - https://developer.twitter.com/en/docs/twitter-api/users/lookup/api-reference/get-users-by-username-username\n",
        "# Twitter API (Fields) - https://developer.twitter.com/en/docs/twitter-api/fields\n",
        "# Tweepy - https://docs.tweepy.org/en/latest/client.html#user-fields\n",
        "\n",
        "# Based on information drawn from the documentation, the example below adds\n",
        "# the user_fields=... parameter and a list[...] of desired fields.\n",
        "\n",
        "user_single = client.get_user(\n",
        "    username =\"standupmaths\",\n",
        "    user_fields = [\"created_at\", \"description\",\"public_metrics\",\"verified\",],\n",
        ")"
      ],
      "execution_count": 22,
      "outputs": []
    },
    {
      "cell_type": "code",
      "metadata": {
        "id": "KmhWNu5TCak9",
        "colab": {
          "base_uri": "https://localhost:8080/"
        },
        "outputId": "28c91542-00e7-4175-fa9c-71d9fd770296"
      },
      "source": [
        "# Inspect the updated data and note the inclusion of additional data.\n",
        "\n",
        "user_single.data.data"
      ],
      "execution_count": 23,
      "outputs": [
        {
          "output_type": "execute_result",
          "data": {
            "text/plain": [
              "{'created_at': '2009-11-25T21:19:33.000Z',\n",
              " 'public_metrics': {'followers_count': 137743,\n",
              "  'following_count': 613,\n",
              "  'tweet_count': 27023,\n",
              "  'listed_count': 1420},\n",
              " 'description': '#1 best-selling author, also maths clown.\\nVideos: https://t.co/sCfGSvBKVm\\nAlso over here: https://t.co/3kB1s6dNdX',\n",
              " 'id': '92614042',\n",
              " 'name': 'Matt Parker',\n",
              " 'username': 'standupmaths',\n",
              " 'verified': False}"
            ]
          },
          "metadata": {},
          "execution_count": 23
        }
      ]
    },
    {
      "cell_type": "code",
      "metadata": {
        "id": "IWCn8c5ACWNu",
        "colab": {
          "base_uri": "https://localhost:8080/",
          "height": 142
        },
        "outputId": "7a43d057-278e-47e6-9bb0-57987356c4aa"
      },
      "source": [
        "# Convert data to Pandas DataFrame format.\n",
        "\n",
        "pd.json_normalize( user_single.data.data, sep=\"_\" )"
      ],
      "execution_count": 26,
      "outputs": [
        {
          "output_type": "execute_result",
          "data": {
            "text/plain": [
              "                 created_at  \\\n",
              "0  2009-11-25T21:19:33.000Z   \n",
              "\n",
              "                                         description        id         name  \\\n",
              "0  #1 best-selling author, also maths clown.\\nVid...  92614042  Matt Parker   \n",
              "\n",
              "       username  verified  public_metrics_followers_count  \\\n",
              "0  standupmaths     False                          137743   \n",
              "\n",
              "   public_metrics_following_count  public_metrics_tweet_count  \\\n",
              "0                             613                       27023   \n",
              "\n",
              "   public_metrics_listed_count  \n",
              "0                         1420  "
            ],
            "text/html": [
              "\n",
              "  <div id=\"df-4695b066-9906-47c8-b93f-743d5d52095f\">\n",
              "    <div class=\"colab-df-container\">\n",
              "      <div>\n",
              "<style scoped>\n",
              "    .dataframe tbody tr th:only-of-type {\n",
              "        vertical-align: middle;\n",
              "    }\n",
              "\n",
              "    .dataframe tbody tr th {\n",
              "        vertical-align: top;\n",
              "    }\n",
              "\n",
              "    .dataframe thead th {\n",
              "        text-align: right;\n",
              "    }\n",
              "</style>\n",
              "<table border=\"1\" class=\"dataframe\">\n",
              "  <thead>\n",
              "    <tr style=\"text-align: right;\">\n",
              "      <th></th>\n",
              "      <th>created_at</th>\n",
              "      <th>description</th>\n",
              "      <th>id</th>\n",
              "      <th>name</th>\n",
              "      <th>username</th>\n",
              "      <th>verified</th>\n",
              "      <th>public_metrics_followers_count</th>\n",
              "      <th>public_metrics_following_count</th>\n",
              "      <th>public_metrics_tweet_count</th>\n",
              "      <th>public_metrics_listed_count</th>\n",
              "    </tr>\n",
              "  </thead>\n",
              "  <tbody>\n",
              "    <tr>\n",
              "      <th>0</th>\n",
              "      <td>2009-11-25T21:19:33.000Z</td>\n",
              "      <td>#1 best-selling author, also maths clown.\\nVid...</td>\n",
              "      <td>92614042</td>\n",
              "      <td>Matt Parker</td>\n",
              "      <td>standupmaths</td>\n",
              "      <td>False</td>\n",
              "      <td>137743</td>\n",
              "      <td>613</td>\n",
              "      <td>27023</td>\n",
              "      <td>1420</td>\n",
              "    </tr>\n",
              "  </tbody>\n",
              "</table>\n",
              "</div>\n",
              "      <button class=\"colab-df-convert\" onclick=\"convertToInteractive('df-4695b066-9906-47c8-b93f-743d5d52095f')\"\n",
              "              title=\"Convert this dataframe to an interactive table.\"\n",
              "              style=\"display:none;\">\n",
              "        \n",
              "  <svg xmlns=\"http://www.w3.org/2000/svg\" height=\"24px\"viewBox=\"0 0 24 24\"\n",
              "       width=\"24px\">\n",
              "    <path d=\"M0 0h24v24H0V0z\" fill=\"none\"/>\n",
              "    <path d=\"M18.56 5.44l.94 2.06.94-2.06 2.06-.94-2.06-.94-.94-2.06-.94 2.06-2.06.94zm-11 1L8.5 8.5l.94-2.06 2.06-.94-2.06-.94L8.5 2.5l-.94 2.06-2.06.94zm10 10l.94 2.06.94-2.06 2.06-.94-2.06-.94-.94-2.06-.94 2.06-2.06.94z\"/><path d=\"M17.41 7.96l-1.37-1.37c-.4-.4-.92-.59-1.43-.59-.52 0-1.04.2-1.43.59L10.3 9.45l-7.72 7.72c-.78.78-.78 2.05 0 2.83L4 21.41c.39.39.9.59 1.41.59.51 0 1.02-.2 1.41-.59l7.78-7.78 2.81-2.81c.8-.78.8-2.07 0-2.86zM5.41 20L4 18.59l7.72-7.72 1.47 1.35L5.41 20z\"/>\n",
              "  </svg>\n",
              "      </button>\n",
              "      \n",
              "  <style>\n",
              "    .colab-df-container {\n",
              "      display:flex;\n",
              "      flex-wrap:wrap;\n",
              "      gap: 12px;\n",
              "    }\n",
              "\n",
              "    .colab-df-convert {\n",
              "      background-color: #E8F0FE;\n",
              "      border: none;\n",
              "      border-radius: 50%;\n",
              "      cursor: pointer;\n",
              "      display: none;\n",
              "      fill: #1967D2;\n",
              "      height: 32px;\n",
              "      padding: 0 0 0 0;\n",
              "      width: 32px;\n",
              "    }\n",
              "\n",
              "    .colab-df-convert:hover {\n",
              "      background-color: #E2EBFA;\n",
              "      box-shadow: 0px 1px 2px rgba(60, 64, 67, 0.3), 0px 1px 3px 1px rgba(60, 64, 67, 0.15);\n",
              "      fill: #174EA6;\n",
              "    }\n",
              "\n",
              "    [theme=dark] .colab-df-convert {\n",
              "      background-color: #3B4455;\n",
              "      fill: #D2E3FC;\n",
              "    }\n",
              "\n",
              "    [theme=dark] .colab-df-convert:hover {\n",
              "      background-color: #434B5C;\n",
              "      box-shadow: 0px 1px 3px 1px rgba(0, 0, 0, 0.15);\n",
              "      filter: drop-shadow(0px 1px 2px rgba(0, 0, 0, 0.3));\n",
              "      fill: #FFFFFF;\n",
              "    }\n",
              "  </style>\n",
              "\n",
              "      <script>\n",
              "        const buttonEl =\n",
              "          document.querySelector('#df-4695b066-9906-47c8-b93f-743d5d52095f button.colab-df-convert');\n",
              "        buttonEl.style.display =\n",
              "          google.colab.kernel.accessAllowed ? 'block' : 'none';\n",
              "\n",
              "        async function convertToInteractive(key) {\n",
              "          const element = document.querySelector('#df-4695b066-9906-47c8-b93f-743d5d52095f');\n",
              "          const dataTable =\n",
              "            await google.colab.kernel.invokeFunction('convertToInteractive',\n",
              "                                                     [key], {});\n",
              "          if (!dataTable) return;\n",
              "\n",
              "          const docLinkHtml = 'Like what you see? Visit the ' +\n",
              "            '<a target=\"_blank\" href=https://colab.research.google.com/notebooks/data_table.ipynb>data table notebook</a>'\n",
              "            + ' to learn more about interactive tables.';\n",
              "          element.innerHTML = '';\n",
              "          dataTable['output_type'] = 'display_data';\n",
              "          await google.colab.output.renderOutput(dataTable, element);\n",
              "          const docLink = document.createElement('div');\n",
              "          docLink.innerHTML = docLinkHtml;\n",
              "          element.appendChild(docLink);\n",
              "        }\n",
              "      </script>\n",
              "    </div>\n",
              "  </div>\n",
              "  "
            ]
          },
          "metadata": {},
          "execution_count": 26
        }
      ]
    },
    {
      "cell_type": "code",
      "metadata": {
        "id": "IiPBq88yCqrT"
      },
      "source": [
        "# Many functions in the Twitter API / Tweepy allow for submitting multiple \n",
        "# requests at once.  In this case, we can request account details on multiple \n",
        "# known Twitter accounts.\n",
        "\n",
        "# Tweepy - https://docs.tweepy.org/en/latest/client.html#tweepy.Client.get_users\n",
        "# Twitter API  - https://developer.twitter.com/en/docs/twitter-api/users/lookup/api-reference/get-users-by-username-username\n",
        "\n",
        "\n",
        "users_group = client.get_users(\n",
        "    usernames =[\"standupmaths\",\"FryRsquared\",\"3blue1brown\",\"MouldS\",],\n",
        "    user_fields = [\"created_at\", \"description\",\"public_metrics\",\"verified\",],\n",
        ")"
      ],
      "execution_count": 27,
      "outputs": []
    },
    {
      "cell_type": "code",
      "metadata": {
        "id": "TVP5m1blCqt3",
        "colab": {
          "base_uri": "https://localhost:8080/"
        },
        "outputId": "abac2779-6290-4be2-bc10-54a0b56cfacd"
      },
      "source": [
        "# Inspect the object.  The object is still a \"Response(...\", but contains \n",
        "# multiple users within the data component.\n",
        "\n",
        "users_group"
      ],
      "execution_count": 28,
      "outputs": [
        {
          "output_type": "execute_result",
          "data": {
            "text/plain": [
              "Response(data=[<User id=92614042 name=Matt Parker username=standupmaths>, <User id=273375532 name=Hannah Fry username=FryRsquared>, <User id=2877269376 name=Grant Sanderson username=3blue1brown>, <User id=17791581 name=Steve Mould username=MouldS>], includes={}, errors=[], meta={})"
            ]
          },
          "metadata": {},
          "execution_count": 28
        }
      ]
    },
    {
      "cell_type": "code",
      "metadata": {
        "id": "6RHCfN3DHa7m",
        "colab": {
          "base_uri": "https://localhost:8080/"
        },
        "outputId": "c2eaec15-056a-4ee4-c4c7-c7a7c016517f"
      },
      "source": [
        "# The .data attribute returns a list of user objects\n",
        "users_group.data"
      ],
      "execution_count": 31,
      "outputs": [
        {
          "output_type": "execute_result",
          "data": {
            "text/plain": [
              "[<User id=92614042 name=Matt Parker username=standupmaths>,\n",
              " <User id=273375532 name=Hannah Fry username=FryRsquared>,\n",
              " <User id=2877269376 name=Grant Sanderson username=3blue1brown>,\n",
              " <User id=17791581 name=Steve Mould username=MouldS>]"
            ]
          },
          "metadata": {},
          "execution_count": 31
        }
      ]
    },
    {
      "cell_type": "code",
      "metadata": {
        "id": "nZ2g1jotHc9e",
        "colab": {
          "base_uri": "https://localhost:8080/"
        },
        "outputId": "8a61a022-0250-46e3-f30a-3c0378134bd9"
      },
      "source": [
        "# Each item can be accessed in the same way you index and select items from other lists.\n",
        "\n",
        "users_group.data[1]"
      ],
      "execution_count": 32,
      "outputs": [
        {
          "output_type": "execute_result",
          "data": {
            "text/plain": [
              "<User id=273375532 name=Hannah Fry username=FryRsquared>"
            ]
          },
          "metadata": {},
          "execution_count": 32
        }
      ]
    },
    {
      "cell_type": "code",
      "metadata": {
        "id": "IOiINj9_HqPl",
        "colab": {
          "base_uri": "https://localhost:8080/"
        },
        "outputId": "0efe431a-d188-4f5c-a39a-e39eed7c0b3e"
      },
      "source": [
        "# When an individual user is selected, you can access all of the different data\n",
        "# fields in the same way as before.\n",
        "\n",
        "users_group.data[0].data"
      ],
      "execution_count": 33,
      "outputs": [
        {
          "output_type": "execute_result",
          "data": {
            "text/plain": [
              "{'username': 'standupmaths',\n",
              " 'public_metrics': {'followers_count': 137743,\n",
              "  'following_count': 613,\n",
              "  'tweet_count': 27023,\n",
              "  'listed_count': 1420},\n",
              " 'description': '#1 best-selling author, also maths clown.\\nVideos: https://t.co/sCfGSvBKVm\\nAlso over here: https://t.co/3kB1s6dNdX',\n",
              " 'id': '92614042',\n",
              " 'created_at': '2009-11-25T21:19:33.000Z',\n",
              " 'verified': False,\n",
              " 'name': 'Matt Parker'}"
            ]
          },
          "metadata": {},
          "execution_count": 33
        }
      ]
    },
    {
      "cell_type": "code",
      "metadata": {
        "id": "6LCI4Em-Cqwd",
        "colab": {
          "base_uri": "https://localhost:8080/",
          "height": 142
        },
        "outputId": "b4f54962-e81c-4f3b-8257-7e0f58cc48bc"
      },
      "source": [
        "# Convert an individual user to a Pandas DataFrame\n",
        "\n",
        "pd.json_normalize( users_group.data[0].data, sep=\"_\" )"
      ],
      "execution_count": 34,
      "outputs": [
        {
          "output_type": "execute_result",
          "data": {
            "text/plain": [
              "       username                                        description        id  \\\n",
              "0  standupmaths  #1 best-selling author, also maths clown.\\nVid...  92614042   \n",
              "\n",
              "                 created_at  verified         name  \\\n",
              "0  2009-11-25T21:19:33.000Z     False  Matt Parker   \n",
              "\n",
              "   public_metrics_followers_count  public_metrics_following_count  \\\n",
              "0                          137743                             613   \n",
              "\n",
              "   public_metrics_tweet_count  public_metrics_listed_count  \n",
              "0                       27023                         1420  "
            ],
            "text/html": [
              "\n",
              "  <div id=\"df-0aec4eaa-b384-47cb-9e71-e8a54a9de24e\">\n",
              "    <div class=\"colab-df-container\">\n",
              "      <div>\n",
              "<style scoped>\n",
              "    .dataframe tbody tr th:only-of-type {\n",
              "        vertical-align: middle;\n",
              "    }\n",
              "\n",
              "    .dataframe tbody tr th {\n",
              "        vertical-align: top;\n",
              "    }\n",
              "\n",
              "    .dataframe thead th {\n",
              "        text-align: right;\n",
              "    }\n",
              "</style>\n",
              "<table border=\"1\" class=\"dataframe\">\n",
              "  <thead>\n",
              "    <tr style=\"text-align: right;\">\n",
              "      <th></th>\n",
              "      <th>username</th>\n",
              "      <th>description</th>\n",
              "      <th>id</th>\n",
              "      <th>created_at</th>\n",
              "      <th>verified</th>\n",
              "      <th>name</th>\n",
              "      <th>public_metrics_followers_count</th>\n",
              "      <th>public_metrics_following_count</th>\n",
              "      <th>public_metrics_tweet_count</th>\n",
              "      <th>public_metrics_listed_count</th>\n",
              "    </tr>\n",
              "  </thead>\n",
              "  <tbody>\n",
              "    <tr>\n",
              "      <th>0</th>\n",
              "      <td>standupmaths</td>\n",
              "      <td>#1 best-selling author, also maths clown.\\nVid...</td>\n",
              "      <td>92614042</td>\n",
              "      <td>2009-11-25T21:19:33.000Z</td>\n",
              "      <td>False</td>\n",
              "      <td>Matt Parker</td>\n",
              "      <td>137743</td>\n",
              "      <td>613</td>\n",
              "      <td>27023</td>\n",
              "      <td>1420</td>\n",
              "    </tr>\n",
              "  </tbody>\n",
              "</table>\n",
              "</div>\n",
              "      <button class=\"colab-df-convert\" onclick=\"convertToInteractive('df-0aec4eaa-b384-47cb-9e71-e8a54a9de24e')\"\n",
              "              title=\"Convert this dataframe to an interactive table.\"\n",
              "              style=\"display:none;\">\n",
              "        \n",
              "  <svg xmlns=\"http://www.w3.org/2000/svg\" height=\"24px\"viewBox=\"0 0 24 24\"\n",
              "       width=\"24px\">\n",
              "    <path d=\"M0 0h24v24H0V0z\" fill=\"none\"/>\n",
              "    <path d=\"M18.56 5.44l.94 2.06.94-2.06 2.06-.94-2.06-.94-.94-2.06-.94 2.06-2.06.94zm-11 1L8.5 8.5l.94-2.06 2.06-.94-2.06-.94L8.5 2.5l-.94 2.06-2.06.94zm10 10l.94 2.06.94-2.06 2.06-.94-2.06-.94-.94-2.06-.94 2.06-2.06.94z\"/><path d=\"M17.41 7.96l-1.37-1.37c-.4-.4-.92-.59-1.43-.59-.52 0-1.04.2-1.43.59L10.3 9.45l-7.72 7.72c-.78.78-.78 2.05 0 2.83L4 21.41c.39.39.9.59 1.41.59.51 0 1.02-.2 1.41-.59l7.78-7.78 2.81-2.81c.8-.78.8-2.07 0-2.86zM5.41 20L4 18.59l7.72-7.72 1.47 1.35L5.41 20z\"/>\n",
              "  </svg>\n",
              "      </button>\n",
              "      \n",
              "  <style>\n",
              "    .colab-df-container {\n",
              "      display:flex;\n",
              "      flex-wrap:wrap;\n",
              "      gap: 12px;\n",
              "    }\n",
              "\n",
              "    .colab-df-convert {\n",
              "      background-color: #E8F0FE;\n",
              "      border: none;\n",
              "      border-radius: 50%;\n",
              "      cursor: pointer;\n",
              "      display: none;\n",
              "      fill: #1967D2;\n",
              "      height: 32px;\n",
              "      padding: 0 0 0 0;\n",
              "      width: 32px;\n",
              "    }\n",
              "\n",
              "    .colab-df-convert:hover {\n",
              "      background-color: #E2EBFA;\n",
              "      box-shadow: 0px 1px 2px rgba(60, 64, 67, 0.3), 0px 1px 3px 1px rgba(60, 64, 67, 0.15);\n",
              "      fill: #174EA6;\n",
              "    }\n",
              "\n",
              "    [theme=dark] .colab-df-convert {\n",
              "      background-color: #3B4455;\n",
              "      fill: #D2E3FC;\n",
              "    }\n",
              "\n",
              "    [theme=dark] .colab-df-convert:hover {\n",
              "      background-color: #434B5C;\n",
              "      box-shadow: 0px 1px 3px 1px rgba(0, 0, 0, 0.15);\n",
              "      filter: drop-shadow(0px 1px 2px rgba(0, 0, 0, 0.3));\n",
              "      fill: #FFFFFF;\n",
              "    }\n",
              "  </style>\n",
              "\n",
              "      <script>\n",
              "        const buttonEl =\n",
              "          document.querySelector('#df-0aec4eaa-b384-47cb-9e71-e8a54a9de24e button.colab-df-convert');\n",
              "        buttonEl.style.display =\n",
              "          google.colab.kernel.accessAllowed ? 'block' : 'none';\n",
              "\n",
              "        async function convertToInteractive(key) {\n",
              "          const element = document.querySelector('#df-0aec4eaa-b384-47cb-9e71-e8a54a9de24e');\n",
              "          const dataTable =\n",
              "            await google.colab.kernel.invokeFunction('convertToInteractive',\n",
              "                                                     [key], {});\n",
              "          if (!dataTable) return;\n",
              "\n",
              "          const docLinkHtml = 'Like what you see? Visit the ' +\n",
              "            '<a target=\"_blank\" href=https://colab.research.google.com/notebooks/data_table.ipynb>data table notebook</a>'\n",
              "            + ' to learn more about interactive tables.';\n",
              "          element.innerHTML = '';\n",
              "          dataTable['output_type'] = 'display_data';\n",
              "          await google.colab.output.renderOutput(dataTable, element);\n",
              "          const docLink = document.createElement('div');\n",
              "          docLink.innerHTML = docLinkHtml;\n",
              "          element.appendChild(docLink);\n",
              "        }\n",
              "      </script>\n",
              "    </div>\n",
              "  </div>\n",
              "  "
            ]
          },
          "metadata": {},
          "execution_count": 34
        }
      ]
    },
    {
      "cell_type": "code",
      "metadata": {
        "id": "tGs_Jb16DPL-"
      },
      "source": [
        "# In order to make use of bulk data gathered from the Twitter API, you will need\n",
        "# to be comfortable using loops and iterations.  For those unfamiliar with Python \n",
        "# coding, this workshop will primarily use for-loops: https://www.tutorialspoint.com/python/python_for_loop.htm\n",
        "\n",
        "# Create empty dataframe\n",
        "data_users = pd.DataFrame()\n",
        "\n",
        "# Iterate through users_group and append data to the data_users dataframe\n",
        "for i in users_group.data:\n",
        "  temp_data = pd.json_normalize( i.data ,  sep = \"_\")\n",
        "  data_users = data_users.append( temp_data , ignore_index=True )"
      ],
      "execution_count": 35,
      "outputs": []
    },
    {
      "cell_type": "code",
      "metadata": {
        "id": "5zgf_FKCIV9Q",
        "colab": {
          "base_uri": "https://localhost:8080/",
          "height": 343
        },
        "outputId": "f68b0218-b90b-4874-b1ad-dbf0aa65c35f"
      },
      "source": [
        "# Inspect the dataframe\n",
        "\n",
        "data_users"
      ],
      "execution_count": 36,
      "outputs": [
        {
          "output_type": "execute_result",
          "data": {
            "text/plain": [
              "       username                                        description  \\\n",
              "0  standupmaths  #1 best-selling author, also maths clown.\\nVid...   \n",
              "1   FryRsquared                          All math and no trousers.   \n",
              "2   3blue1brown  Pi creature caretaker.\\nContact/faq: https://t...   \n",
              "3        MouldS  YouTube: https://t.co/Qgmx0dSDz0\\nYouTube Shor...   \n",
              "\n",
              "           id                created_at  verified             name  \\\n",
              "0    92614042  2009-11-25T21:19:33.000Z     False      Matt Parker   \n",
              "1   273375532  2011-03-28T11:14:20.000Z      True       Hannah Fry   \n",
              "2  2877269376  2014-10-25T20:56:48.000Z     False  Grant Sanderson   \n",
              "3    17791581  2008-12-01T22:37:20.000Z      True      Steve Mould   \n",
              "\n",
              "   public_metrics_followers_count  public_metrics_following_count  \\\n",
              "0                          137743                             613   \n",
              "1                          208097                            2121   \n",
              "2                          310802                             346   \n",
              "3                           30705                             324   \n",
              "\n",
              "   public_metrics_tweet_count  public_metrics_listed_count  \n",
              "0                       27023                         1420  \n",
              "1                       11406                         1513  \n",
              "2                        3530                         2142  \n",
              "3                        4377                          332  "
            ],
            "text/html": [
              "\n",
              "  <div id=\"df-f3ad4e98-348b-43fa-8473-a45bdac5f7bf\">\n",
              "    <div class=\"colab-df-container\">\n",
              "      <div>\n",
              "<style scoped>\n",
              "    .dataframe tbody tr th:only-of-type {\n",
              "        vertical-align: middle;\n",
              "    }\n",
              "\n",
              "    .dataframe tbody tr th {\n",
              "        vertical-align: top;\n",
              "    }\n",
              "\n",
              "    .dataframe thead th {\n",
              "        text-align: right;\n",
              "    }\n",
              "</style>\n",
              "<table border=\"1\" class=\"dataframe\">\n",
              "  <thead>\n",
              "    <tr style=\"text-align: right;\">\n",
              "      <th></th>\n",
              "      <th>username</th>\n",
              "      <th>description</th>\n",
              "      <th>id</th>\n",
              "      <th>created_at</th>\n",
              "      <th>verified</th>\n",
              "      <th>name</th>\n",
              "      <th>public_metrics_followers_count</th>\n",
              "      <th>public_metrics_following_count</th>\n",
              "      <th>public_metrics_tweet_count</th>\n",
              "      <th>public_metrics_listed_count</th>\n",
              "    </tr>\n",
              "  </thead>\n",
              "  <tbody>\n",
              "    <tr>\n",
              "      <th>0</th>\n",
              "      <td>standupmaths</td>\n",
              "      <td>#1 best-selling author, also maths clown.\\nVid...</td>\n",
              "      <td>92614042</td>\n",
              "      <td>2009-11-25T21:19:33.000Z</td>\n",
              "      <td>False</td>\n",
              "      <td>Matt Parker</td>\n",
              "      <td>137743</td>\n",
              "      <td>613</td>\n",
              "      <td>27023</td>\n",
              "      <td>1420</td>\n",
              "    </tr>\n",
              "    <tr>\n",
              "      <th>1</th>\n",
              "      <td>FryRsquared</td>\n",
              "      <td>All math and no trousers.</td>\n",
              "      <td>273375532</td>\n",
              "      <td>2011-03-28T11:14:20.000Z</td>\n",
              "      <td>True</td>\n",
              "      <td>Hannah Fry</td>\n",
              "      <td>208097</td>\n",
              "      <td>2121</td>\n",
              "      <td>11406</td>\n",
              "      <td>1513</td>\n",
              "    </tr>\n",
              "    <tr>\n",
              "      <th>2</th>\n",
              "      <td>3blue1brown</td>\n",
              "      <td>Pi creature caretaker.\\nContact/faq: https://t...</td>\n",
              "      <td>2877269376</td>\n",
              "      <td>2014-10-25T20:56:48.000Z</td>\n",
              "      <td>False</td>\n",
              "      <td>Grant Sanderson</td>\n",
              "      <td>310802</td>\n",
              "      <td>346</td>\n",
              "      <td>3530</td>\n",
              "      <td>2142</td>\n",
              "    </tr>\n",
              "    <tr>\n",
              "      <th>3</th>\n",
              "      <td>MouldS</td>\n",
              "      <td>YouTube: https://t.co/Qgmx0dSDz0\\nYouTube Shor...</td>\n",
              "      <td>17791581</td>\n",
              "      <td>2008-12-01T22:37:20.000Z</td>\n",
              "      <td>True</td>\n",
              "      <td>Steve Mould</td>\n",
              "      <td>30705</td>\n",
              "      <td>324</td>\n",
              "      <td>4377</td>\n",
              "      <td>332</td>\n",
              "    </tr>\n",
              "  </tbody>\n",
              "</table>\n",
              "</div>\n",
              "      <button class=\"colab-df-convert\" onclick=\"convertToInteractive('df-f3ad4e98-348b-43fa-8473-a45bdac5f7bf')\"\n",
              "              title=\"Convert this dataframe to an interactive table.\"\n",
              "              style=\"display:none;\">\n",
              "        \n",
              "  <svg xmlns=\"http://www.w3.org/2000/svg\" height=\"24px\"viewBox=\"0 0 24 24\"\n",
              "       width=\"24px\">\n",
              "    <path d=\"M0 0h24v24H0V0z\" fill=\"none\"/>\n",
              "    <path d=\"M18.56 5.44l.94 2.06.94-2.06 2.06-.94-2.06-.94-.94-2.06-.94 2.06-2.06.94zm-11 1L8.5 8.5l.94-2.06 2.06-.94-2.06-.94L8.5 2.5l-.94 2.06-2.06.94zm10 10l.94 2.06.94-2.06 2.06-.94-2.06-.94-.94-2.06-.94 2.06-2.06.94z\"/><path d=\"M17.41 7.96l-1.37-1.37c-.4-.4-.92-.59-1.43-.59-.52 0-1.04.2-1.43.59L10.3 9.45l-7.72 7.72c-.78.78-.78 2.05 0 2.83L4 21.41c.39.39.9.59 1.41.59.51 0 1.02-.2 1.41-.59l7.78-7.78 2.81-2.81c.8-.78.8-2.07 0-2.86zM5.41 20L4 18.59l7.72-7.72 1.47 1.35L5.41 20z\"/>\n",
              "  </svg>\n",
              "      </button>\n",
              "      \n",
              "  <style>\n",
              "    .colab-df-container {\n",
              "      display:flex;\n",
              "      flex-wrap:wrap;\n",
              "      gap: 12px;\n",
              "    }\n",
              "\n",
              "    .colab-df-convert {\n",
              "      background-color: #E8F0FE;\n",
              "      border: none;\n",
              "      border-radius: 50%;\n",
              "      cursor: pointer;\n",
              "      display: none;\n",
              "      fill: #1967D2;\n",
              "      height: 32px;\n",
              "      padding: 0 0 0 0;\n",
              "      width: 32px;\n",
              "    }\n",
              "\n",
              "    .colab-df-convert:hover {\n",
              "      background-color: #E2EBFA;\n",
              "      box-shadow: 0px 1px 2px rgba(60, 64, 67, 0.3), 0px 1px 3px 1px rgba(60, 64, 67, 0.15);\n",
              "      fill: #174EA6;\n",
              "    }\n",
              "\n",
              "    [theme=dark] .colab-df-convert {\n",
              "      background-color: #3B4455;\n",
              "      fill: #D2E3FC;\n",
              "    }\n",
              "\n",
              "    [theme=dark] .colab-df-convert:hover {\n",
              "      background-color: #434B5C;\n",
              "      box-shadow: 0px 1px 3px 1px rgba(0, 0, 0, 0.15);\n",
              "      filter: drop-shadow(0px 1px 2px rgba(0, 0, 0, 0.3));\n",
              "      fill: #FFFFFF;\n",
              "    }\n",
              "  </style>\n",
              "\n",
              "      <script>\n",
              "        const buttonEl =\n",
              "          document.querySelector('#df-f3ad4e98-348b-43fa-8473-a45bdac5f7bf button.colab-df-convert');\n",
              "        buttonEl.style.display =\n",
              "          google.colab.kernel.accessAllowed ? 'block' : 'none';\n",
              "\n",
              "        async function convertToInteractive(key) {\n",
              "          const element = document.querySelector('#df-f3ad4e98-348b-43fa-8473-a45bdac5f7bf');\n",
              "          const dataTable =\n",
              "            await google.colab.kernel.invokeFunction('convertToInteractive',\n",
              "                                                     [key], {});\n",
              "          if (!dataTable) return;\n",
              "\n",
              "          const docLinkHtml = 'Like what you see? Visit the ' +\n",
              "            '<a target=\"_blank\" href=https://colab.research.google.com/notebooks/data_table.ipynb>data table notebook</a>'\n",
              "            + ' to learn more about interactive tables.';\n",
              "          element.innerHTML = '';\n",
              "          dataTable['output_type'] = 'display_data';\n",
              "          await google.colab.output.renderOutput(dataTable, element);\n",
              "          const docLink = document.createElement('div');\n",
              "          docLink.innerHTML = docLinkHtml;\n",
              "          element.appendChild(docLink);\n",
              "        }\n",
              "      </script>\n",
              "    </div>\n",
              "  </div>\n",
              "  "
            ]
          },
          "metadata": {},
          "execution_count": 36
        }
      ]
    },
    {
      "cell_type": "markdown",
      "metadata": {
        "id": "jGzRhpQdumjo"
      },
      "source": [
        "# Part 2 - Practice"
      ]
    },
    {
      "cell_type": "markdown",
      "metadata": {
        "id": "VNaLqyWuu0PP"
      },
      "source": [
        "Using the outlines below, fill in all of ??? in the following blocks of code.  This is simply meant to ensure you understand how to modify and tweak code to produce outputs."
      ]
    },
    {
      "cell_type": "code",
      "metadata": {
        "id": "12hPfEink9Xo",
        "colab": {
          "base_uri": "https://localhost:8080/",
          "height": 133
        },
        "outputId": "5158cee0-1ea0-4acb-e5fa-1fcab4fcb392"
      },
      "source": [
        "# Re-create the client using your credentials\n",
        "\n",
        "client = tweepy.Client(\n",
        "    consumer_key = ???,\n",
        "    consumer_secret = ???,\n",
        "    access_token = ???,\n",
        "    access_token_secret = ???,\n",
        "    bearer_token = ???,\n",
        ")"
      ],
      "execution_count": 37,
      "outputs": [
        {
          "output_type": "error",
          "ename": "SyntaxError",
          "evalue": "ignored",
          "traceback": [
            "\u001b[0;36m  File \u001b[0;32m\"<ipython-input-37-fc625cfb0890>\"\u001b[0;36m, line \u001b[0;32m4\u001b[0m\n\u001b[0;31m    consumer_key = ???,\u001b[0m\n\u001b[0m                   ^\u001b[0m\n\u001b[0;31mSyntaxError\u001b[0m\u001b[0;31m:\u001b[0m invalid syntax\n"
          ]
        }
      ]
    },
    {
      "cell_type": "code",
      "metadata": {
        "id": "0JuL_g8ZlWj3"
      },
      "source": [
        "# Find a Twitter username you are interested in and put it in the username parameter.\n",
        "\n",
        "# If you can not think of or find any Twitter accounts quickly, maybe you can \n",
        "# try using \"NPR\".\n",
        "\n",
        "user_single_practice = client.get_user(\n",
        "    username = \"???\",\n",
        "    user_fields = [\"created_at\", \"description\",\"public_metrics\",\"verified\",],\n",
        ")"
      ],
      "execution_count": null,
      "outputs": []
    },
    {
      "cell_type": "code",
      "metadata": {
        "id": "eumY0QGOMyWo"
      },
      "source": [
        "# Using the user_single_practice object, display the data within the data attribute.\n",
        "\n",
        "user_single_practice.???.???"
      ],
      "execution_count": null,
      "outputs": []
    },
    {
      "cell_type": "code",
      "metadata": {
        "id": "KguXKo_jMyTm"
      },
      "source": [
        "# Define multiple Twitter usernames AND user_fields= parameters.  You can use the\n",
        "# parameters above or those found in the Twitter documentation.\n",
        "\n",
        "user_group_practice = client.get_users(\n",
        "    usernames =[\"???\",\"???\",\"???\",],\n",
        "    user_fields = [\"???\", \"???\",\"???\",],\n",
        ")\n",
        "\n",
        "# Display the list of users\n",
        "user_group_practice.data"
      ],
      "execution_count": null,
      "outputs": []
    },
    {
      "cell_type": "code",
      "metadata": {
        "id": "LEnM2R4iMyQ-"
      },
      "source": [
        "# Finally, run the code below to generate and inspect a dataframe based\n",
        "# on the user_group_practice object created above (nothing to fix here, just run \n",
        "# the code)\n",
        "\n",
        "data_users = pd.DataFrame()\n",
        "\n",
        "for i in user_group_practice.data:\n",
        "  temp_data = pd.json_normalize( i.data ,  sep = \"_\")\n",
        "  data_users = data_users.append(temp_data,ignore_index=True)\n",
        "\n",
        "data_users"
      ],
      "execution_count": null,
      "outputs": []
    },
    {
      "cell_type": "markdown",
      "metadata": {
        "id": "B6AahzsMurxH"
      },
      "source": [
        "# Part 3 - Followers, Friends, and Timelines"
      ]
    },
    {
      "cell_type": "markdown",
      "metadata": {
        "id": "LKGUkiam0Jvf"
      },
      "source": [
        "In addition to looking up individual users' information, the Twitter API also enables us to harvest lists of friends, followers, and the timeline (tweets, retweets, etc...) of selected Twitter users.\n",
        "\n",
        "Following\n",
        "* Tweepy - https://docs.tweepy.org/en/latest/client.html#tweepy.Client.get_users_following\n",
        "* Twitter API - https://developer.twitter.com/en/docs/twitter-api/users/follows/api-reference/get-users-id-following\n",
        "\n",
        "Followers\n",
        "* Tweepy - https://docs.tweepy.org/en/latest/client.html#tweepy.Client.get_users_followers\n",
        "* Twitter API - https://developer.twitter.com/en/docs/twitter-api/users/follows/api-reference/get-users-id-followers\n",
        "\n",
        "Timelines\n",
        "* Tweepy - https://docs.tweepy.org/en/latest/client.html#tweepy.Client.get_users_tweets\n",
        "* Twitter API - https://developer.twitter.com/en/docs/twitter-api/tweets/timelines/api-reference/get-users-id-tweets\n"
      ]
    },
    {
      "cell_type": "code",
      "metadata": {
        "id": "V0RwGwC0OkE5"
      },
      "source": [
        "# Let's look at Nikema Williams (GA-05 House of Representatives)\n",
        "# https://twitter.com/NikemaWilliams\n",
        "\n",
        "# First, we'll use get_user(...) to get Williams's account details\n",
        "williams = client.get_user(\n",
        "    username = \"NikemaWilliams\",\n",
        "    user_fields = [\"created_at\", \"description\",\"public_metrics\",\"verified\",],\n",
        ")"
      ],
      "execution_count": 38,
      "outputs": []
    },
    {
      "cell_type": "code",
      "metadata": {
        "id": "GXNunKTXPTiX",
        "colab": {
          "base_uri": "https://localhost:8080/"
        },
        "outputId": "6ab73d10-940a-4ffd-fdfc-75a7184d6dd5"
      },
      "source": [
        "# In order to user subsequent functions, we need to switch from relying on the \n",
        "# Twitter username to instead using the Twitter id\n",
        "\n",
        "williams.data.id"
      ],
      "execution_count": 39,
      "outputs": [
        {
          "output_type": "execute_result",
          "data": {
            "text/plain": [
              "36424664"
            ]
          },
          "metadata": {},
          "execution_count": 39
        }
      ]
    },
    {
      "cell_type": "code",
      "metadata": {
        "id": "OfLp7KdhPGxq"
      },
      "source": [
        "# Using the get_users_following(...) function, you can retrieve the Twitter user \n",
        "# account details for up to 1000 Twitter users who Williams's Twitter account is \n",
        "# following.\n",
        "\n",
        "williams_following = client.get_users_following(\n",
        "    id = williams.data.id ,\n",
        "    user_fields = [\"created_at\", \"description\",\"public_metrics\",\"verified\",],\n",
        "    max_results = 1000)"
      ],
      "execution_count": 40,
      "outputs": []
    },
    {
      "cell_type": "code",
      "metadata": {
        "id": "Eq9kv1acmfkC",
        "colab": {
          "base_uri": "https://localhost:8080/"
        },
        "outputId": "f6544a93-9598-4170-fece-409bb2e69387"
      },
      "source": [
        "# Inspect the resulting list of data\n",
        "\n",
        "williams_following.data"
      ],
      "execution_count": 41,
      "outputs": [
        {
          "output_type": "execute_result",
          "data": {
            "text/plain": [
              "[<User id=3021477680 name=Cricket Celebration Bowl username=CelebrationBowl>,\n",
              " <User id=1556535074996338688 name=Balvir Pokharel username=BalvirPokharel>,\n",
              " <User id=2575037659 name=Kathleen Baker username=Kathlee54377081>,\n",
              " <User id=14438930 name=Vicki Kuglin Garver username=Kugy55>,\n",
              " <User id=215501778 name=David Slack username=slack2thefuture>,\n",
              " <User id=15952856 name=Ari Berman username=AriBerman>,\n",
              " <User id=28752248 name=ALLTHINGSNICCI username=niccigilbert>,\n",
              " <User id=1421845469576245257 name=AMVETS Post 911 username=theatlantaamve1>,\n",
              " <User id=1392831444616101888 name=Deputy Secretary Don Graves username=DepSecGraves>,\n",
              " <User id=46468469 name=Stacy Xander username=uzanybug>,\n",
              " <User id=32673307 name=Donna Lowry username=donnalowrynews>,\n",
              " <User id=287703379 name=karla fc holloway username=ProfHolloway>,\n",
              " <User id=760639303 name=Ethan Embry username=EmbryEthan>,\n",
              " <User id=1511377628145532928 name=Capitol Fox username=thecapitolfox>,\n",
              " <User id=1683518701 name=Frank Ski Show username=FrankSkiShow>,\n",
              " <User id=20521879 name=Frank Ski username=FRANKSKI>,\n",
              " <User id=80612021 name=Sheila Jackson Lee username=JacksonLeeTX18>,\n",
              " <User id=1372581976117481479 name=Secretary Xavier Becerra username=SecBecerra>,\n",
              " <User id=927733632399273984 name=Represent Georgia username=Rep_GA>,\n",
              " <User id=161551293 name=Endometriosis Foundation of America (EndoFound) username=Endofound>,\n",
              " <User id=1342373456 name=Wade Henderson username=Wade4Justice>,\n",
              " <User id=3615783196 name=Meister Man username=cjroumillat319>,\n",
              " <User id=1329552088523792384 name=Mayor Cosby Johnson username=MayorCosby60>,\n",
              " <User id=912081313397641216 name=Lois Frankel username=FrankelLois>,\n",
              " <User id=1270426374 name=Marie Newman username=newmarienewman>,\n",
              " <User id=1005846500583321601 name=Alexander S. Vindman username=AVindman>,\n",
              " <User id=1217898034152927232 name=Michael Martin username=justmgmartin>,\n",
              " <User id=1313945191162744832 name=Karma's World username=KarmasWorldHQ>,\n",
              " <User id=1351234883776098311 name=Karine Jean-Pierre username=KJP46>,\n",
              " <User id=18932031 name=Honorée Fanonne Jeffers username=BlkLibraryGirl>,\n",
              " <User id=3018394487 name=Trellie Jeffers username=TrellieJeffers>,\n",
              " <User id=1348683154815655940 name=Congresswoman Deborah Ross username=RepDeborahRoss>,\n",
              " <User id=949001998489341954 name=Our Daily Planet username=ourdailyplanet>,\n",
              " <User id=89887215 name=Yamiche Alcindor username=Yamiche>,\n",
              " <User id=188019606 name=James E. Clyburn username=RepJamesClyburn>,\n",
              " <User id=18533219 name=Karine Jean-Pierre username=K_JeanPierre>,\n",
              " <User id=1385362362669146112 name=Next Level Sports and Entertainment username=ItsNxtLevel>,\n",
              " <User id=311276757 name=Michael Blake username=MrMikeBlake>,\n",
              " <User id=848182665866039296 name=March On username=WeAreMarchOn>,\n",
              " <User id=540973577 name=Mandela Barnes username=TheOtherMandela>,\n",
              " <User id=778983966 name=Alfre Woodard username=AlfreWoodard>,\n",
              " <User id=187200752 name=Jason Dozier username=jasonsdozier>,\n",
              " <User id=1356958547603513346 name=Secretary Pete Buttigieg username=SecretaryPete>,\n",
              " <User id=715623260533231617 name=#VOTEPROCHOICE username=VoteChoice>,\n",
              " <User id=18164425 name=Atlanta Dream username=AtlantaDream>,\n",
              " <User id=16187815 name=Jawn Staley 😷🧼🧴💉 username=errinhaines>,\n",
              " <User id=1343646545955213312 name=Congresswoman Marilyn Strickland username=RepStricklandWA>,\n",
              " <User id=3404875323 name=Val Demings username=valdemings>,\n",
              " <User id=87279977 name=Walter M. Kimbrough username=HipHopPrez>,\n",
              " <User id=850012597378326531 name=Bee Nguyen 🐝 username=BeeForGeorgia>,\n",
              " <User id=16563015 name=Greg Bluestein username=bluestein>,\n",
              " <User id=1604931252 name=Black Lives Matter username=Blklivesmatter>,\n",
              " <User id=212058001 name=Ryan Gravel username=ryangravel>,\n",
              " <User id=902331528167829504 name=NOMOREFREEWAYS username=nomorefreeways>,\n",
              " <User id=958435057 name=Henry Louis Gates Jr username=HenryLouisGates>,\n",
              " <User id=464333619 name=Marcus T. Coleman Jr username=MTColemanJr>,\n",
              " <User id=17112878 name=State of the Union username=CNNSotu>,\n",
              " <User id=33325506 name=Georgia Tech Women's Basketball username=GTWBB>,\n",
              " <User id=190370575 name=Murriel Page username=CoachPagina>,\n",
              " <User id=769201334054707201 name=Black Voters Matter Fund username=BlackVotersMtr>,\n",
              " <User id=896392997113384960 name=Andrea Boone username=AndreaBooneNow>,\n",
              " <User id=1369343440534855681 name=Secretary Marcia L. Fudge username=SecFudge>,\n",
              " <User id=97583689 name=Hank Johnson username=ReElectHank>,\n",
              " <User id=14676022 name=DCCC username=dccc>,\n",
              " <User id=21061366 name=Andy Levin username=Andy_Levin>,\n",
              " <User id=1267866658586136577 name=Marcus Flowers username=Marcus4Georgia>,\n",
              " <User id=1343578440977494018 name=Former Congresswoman Marie Newman username=RepMarieNewman>,\n",
              " <User id=78445977 name=Rep. Gerry Connolly username=GerryConnolly>,\n",
              " <User id=233783568 name=The Black Caucus username=TheBlackCaucus>,\n",
              " <User id=920382300638072833 name=HBCU Caucus username=HBCUCaucus>,\n",
              " <User id=3027286779 name=House DPCC username=HouseDPCC>,\n",
              " <User id=798973032362606600 name=Former Congresswoman Val Demings username=RepValDemings>,\n",
              " <User id=467823431 name=Hakeem Jeffries username=RepJeffries>,\n",
              " <User id=479017220 name=Hakeem Jeffries username=hakeemjeffries>,\n",
              " <User id=138203134 name=Alexandria Ocasio-Cortez username=AOC>,\n",
              " <User id=21867341 name=Jennifer Palmieri username=jmpalmieri>,\n",
              " <User id=4180072252 name=The Circus on Showtime username=SHO_TheCircus>,\n",
              " <User id=1344389506963808264 name=Congressman Jamaal Bowman username=RepBowman>,\n",
              " <User id=2461810448 name=Nancy Pelosi username=TeamPelosi>,\n",
              " <User id=39253250 name=Andrew Aydin username=andrewaydin>,\n",
              " <User id=1915033663 name=David Hogg ☮️ username=davidhogg111>,\n",
              " <User id=1105127249852936200 name=Select Committee on the Modernization of Congress username=ModernizeCmte>,\n",
              " <User id=1343620645452595200 name=Rep. Carolyn Bourdeaux username=RepBourdeaux>,\n",
              " <User id=798647509933576194 name=Economic Security Project username=EconomicSecProj>,\n",
              " <User id=482708367 name=Michael Tubbs username=MichaelDTubbs>,\n",
              " <User id=4870048156 name=Jake Auchincloss username=JakeAuch>,\n",
              " <User id=1349004512678309892 name=Jim Galloway, retired journalist username=JimJournalist>,\n",
              " <User id=16051471 name=Don Lemon username=donlemon>,\n",
              " <User id=294084341 name=U.S. House Committee on Financial Services username=FSCDems>,\n",
              " <User id=346964561 name=Colin Allred username=ColinAllredTX>,\n",
              " <User id=36686040 name=Maxine Waters username=RepMaxineWaters>,\n",
              " <User id=21684013 name=Committee on Transportation and Infrastructure username=TransportDems>,\n",
              " <User id=1345461797361504259 name=Congresswoman Nikema Williams username=RepNikema>,\n",
              " <User id=246088673 name=Progressive Caucus username=USProgressives>,\n",
              " <User id=286476728 name=Deb Haaland username=DebHaalandNM>,\n",
              " <User id=435331179 name=Rashida Tlaib username=RashidaTlaib>,\n",
              " <User id=942156122 name=Rep. Eric Swalwell username=RepSwalwell>,\n",
              " <User id=1890881023 name=Joanna McClinton username=Joanna4PA>,\n",
              " <User id=23314049 name=yvette nicole brown username=YNB>,\n",
              " <User id=237845487 name=George Takei username=GeorgeTakei>,\n",
              " <User id=43963249 name=House Democrats username=HouseDemocrats>,\n",
              " <User id=407065731 name=katy colaizzo username=kcolaizzo>,\n",
              " <User id=180535644 name=Eddie S. Glaude Jr. username=esglaude>,\n",
              " <User id=964562631703973889 name=MarRee_321 username=MarRee_321>,\n",
              " <User id=369553654 name=sparkplug username=SeFuerte12>,\n",
              " <User id=1531521632 name=Rep. Joyce Beatty username=RepBeatty>,\n",
              " <User id=1247612029 name=Ritchie Torres username=RitchieTorres>,\n",
              " <User id=1310752865133252614 name=Princeton Lakes HOA username=PL_HOA_ATL>,\n",
              " <User id=365006517 name=Talladega College Athletics username=DegaTornadoes>,\n",
              " <User id=182503471 name=The Last Word username=TheLastWord>,\n",
              " <User id=16116288 name=rolandsmartin username=rolandsmartin>,\n",
              " <User id=4696552878 name=Cori Bush username=CoriBush>,\n",
              " <User id=872143958847045632 name=Mondaire Jones username=MondaireJones>,\n",
              " <User id=1138076821533155328 name=Jamaal Bowman Ed.D username=JamaalBowmanNY>,\n",
              " <User id=1128147829606600706 name=Teresa Leger Fernandez username=TeresaForNM>,\n",
              " <User id=3671138595 name=Chasten Buttigieg username=Chasten>,\n",
              " <User id=200846651 name=@tiffanydcross username=TiffanyDCross>,\n",
              " <User id=229552128 name=LaTosha Brown username=MsLaToshaBrown>,\n",
              " <User id=226222147 name=Pete Buttigieg username=PeteButtigieg>,\n",
              " <User id=19682187 name=Julián Castro username=JulianCastro>,\n",
              " <User id=15764644 name=Nancy Pelosi username=SpeakerPelosi>,\n",
              " <User id=1001285146392383489 name=blaire erskine username=blaireerskine>,\n",
              " <User id=834857274711670785 name=Candace Valenzuela username=CandaceValenTX>,\n",
              " <User id=1122921580210921474 name=Jackie Gordon username=VoteJackie4NY>,\n",
              " <User id=2896020068 name=Ivy Reynolds username=Ivyide1234>,\n",
              " <User id=587536673 name=Giffords username=GiffordsCourage>,\n",
              " <User id=2966770391 name=Pam Keith, Esq. username=PamKeithFL>,\n",
              " <User id=21059255 name=Ted Lieu username=tedlieu>,\n",
              " <User id=21522338 name=Marianne Williamson username=marwilliamson>,\n",
              " <User id=1098332196316692480 name=Moms in Office username=momsinoffice>,\n",
              " <User id=37412985 name=Amir Farokhi username=AmirForATL>,\n",
              " <User id=188803750 name=Emerge username=EmergeAmerica>,\n",
              " <User id=1079452691020042242 name=Vote Mama username=VoteMamaPAC>,\n",
              " <User id=23083404 name=LeBron James username=KingJames>,\n",
              " <User id=2843063729 name=Principal C. Evans username=PrincpalCPEvans>,\n",
              " <User id=350007563 name=APSDeerwoodAcademy username=DeerwoodAcademy>,\n",
              " <User id=2337619259 name=Jaylan A. Scott username=jaylanascott>,\n",
              " <User id=221178153 name=Maria Andrade username=MariaAndrade3>,\n",
              " <User id=58945187 name=Terrell Jermaine Starr 🇺🇦 username=terrelljstarr>,\n",
              " <User id=744302714226544640 name=Nikema ✸ username=NikemaCodes>,\n",
              " <User id=14441042 name=Steve Phillips username=StevePtweets>,\n",
              " <User id=18695802 name=Ross Morales Rocketto username=RossMoRock>,\n",
              " <User id=376243560 name=Nelini Stamp🐺🐜 username=NelStamp>,\n",
              " <User id=15607662 name=Aimee Allison username=aimeeallison>,\n",
              " <User id=102793471 name=Tory Gavito username=torygavito>,\n",
              " <User id=25531732 name=WeatherNation username=WeatherNation>,\n",
              " <User id=48741440 name=Brad Nitz username=BradNitzWSB>,\n",
              " <User id=455017205 name=Brian Monahan, WSB username=BMonahanWSB>,\n",
              " <User id=305818748 name=Keisha Lance Bottoms username=KeishaBottoms>,\n",
              " <User id=1004065528871247872 name=Rob Bonta username=AGRobBonta>,\n",
              " <User id=2835931010 name=Tina Kotek username=TinaKotek>,\n",
              " <User id=2180843696 name=Janet Bewley username=JanetBewley4WI>,\n",
              " <User id=214169085 name=Jim Ananich username=jimananich>,\n",
              " <User id=36745613 name=Sen. Stewart-Cousins username=AndreaSCousins>,\n",
              " <User id=139120917 name=Jake Orvis username=jakorvis>,\n",
              " <User id=15446551 name=Christine Pelosi username=sfpelosi>,\n",
              " <User id=1138882377185464320 name=Sunstorm Podcast username=sunstormpod>,\n",
              " <User id=109347321 name=Donnie McClurkin username=Donnieradio>,\n",
              " <User id=1080198683713507335 name=Archived: Rep. Joe Cunningham username=RepCunningham>,\n",
              " <User id=30290791 name=Van R. Johnson, II username=VanRJohnson>,\n",
              " <User id=158395597 name=Ivy Storehouse username=ivystorehouse>,\n",
              " <User id=2821339881 name=NowThis Politics username=NowThisPolitics>,\n",
              " <User id=456806128 name=BuzzFeed Politics username=BuzzFeedPol>,\n",
              " <User id=174110843 name=Jon Lovett username=jonlovett>,\n",
              " <User id=2922928743 name=Dan Pfeiffer username=danpfeiffer>,\n",
              " <User id=155784594 name=Tommy Vietor username=TVietor08>,\n",
              " <User id=130496027 name=Jon Favreau username=jonfavs>,\n",
              " <User id=1012343966027485184 name=Reproductive Freedom Leadership Council username=SiXRepro>,\n",
              " <User id=3065062453 name=Ina Minjarez username=InaMinjarez>,\n",
              " <User id=196299243 name=Sonia Chang-Díaz username=SoniaChangDiaz>,\n",
              " <User id=257302726 name=Nily Rozic 李羅莎 username=nily>,\n",
              " <User id=14617155 name=Sam Rasoul username=Sam_Rasoul>,\n",
              " <User id=1380149058 name=ATLien Rich username=MrRichMcDaniel>,\n",
              " <User id=829186945267834880 name=CATargetBot username=CATargetBot>,\n",
              " <User id=73754019 name=Jaime Harrison, DNC Chair username=harrisonjaime>,\n",
              " <User id=983974644158873600 name=Scott A. Hogan username=hoganscott18>,\n",
              " <User id=15450660 name=Greg Palast username=Greg_Palast>,\n",
              " <User id=2943372737 name=Delegate Cia Price username=PriceForDel95>,\n",
              " <User id=3125720528 name=BB username=BBPAC>,\n",
              " <User id=50669520 name=Dr. Jason Johnson username=DrJasonJohnson>,\n",
              " <User id=1090838164766220288 name=Supermajority username=supermajority>,\n",
              " <User id=282695074 name=Fredricka Whitfield username=FWhitfield>,\n",
              " <User id=24816651 name=katcole.eth 🎈 username=KatColeATL>,\n",
              " <User id=788096408 name=Natasha S. Alford username=NatashaSAlford>,\n",
              " <User id=376364316 name=HigherHeights username=HigherHeights>,\n",
              " <User id=755098969190072320 name=The Beat username=thebeatdc>,\n",
              " <User id=278192411 name=Holly J. Mitchell username=HollyJMitchell>,\n",
              " <User id=99402071 name=Kendrick Sampson username=kendrick38>,\n",
              " <User id=950952511556538368 name=Sharice Davids username=sharicedavids>,\n",
              " <User id=133052366 name=USA TODAY Opinion username=usatodayopinion>,\n",
              " <User id=487812459 name=Lester Jackson username=Lester_Jackson>,\n",
              " <User id=487815559 name=Emanuel Jones username=Emanuel_Jones>,\n",
              " <User id=487840329 name=Sen. Horacena Tate username=HoracenaTate>,\n",
              " <User id=947956236804337664 name=Lucy McBath username=lucymcbath>,\n",
              " <User id=1082380458976051202 name=Rep. Lucy McBath username=RepLucyMcBath>,\n",
              " <User id=14678070 name=Jil Littlejohn Bostick username=jilbostick>,\n",
              " <User id=928336541956608001 name=Martha Castex-Tatum username=MarthacastexT>,\n",
              " <User id=1628790337 name=sekou kaalund username=sekou_kaalund>,\n",
              " <User id=3002343360 name=William McCurdy II username=WillMcCurdyII>,\n",
              " <User id=824306412876693504 name=Rep. Chris Bell username=MSRepChrisBell>,\n",
              " <User id=281889338 name=Albus Brooks username=AlbusBrooks>,\n",
              " <User id=247244259 name=Shimrit Meir שמרית מאיר username=shimritmeir>,\n",
              " <User id=374273658 name=Michael T. Sterling username=MikeTSterling>,\n",
              " <User id=4854510141 name=Dawn-Lyen Gardner username=dawnlyen>,\n",
              " <User id=278161123 name=Lauren Groh-Wargo username=gwlauren>,\n",
              " <User id=27677483 name=ESSENCE username=Essence>,\n",
              " <User id=482417297 name=Adalius Thomas username=adaliusthomas>,\n",
              " <User id=43404609 name=Takeo Spikes, M.B.A username=TakeoSpikes51>,\n",
              " <User id=237097826 name=Omar Dorsey username=OmarJDorsey>,\n",
              " <User id=27716826 name=blkwomenshealth username=blkwomenshealth>,\n",
              " <User id=234412394 name=Raphael G. Warnock username=RaphaelWarnock>,\n",
              " <User id=1046744428956790785 name=Care In Action username=CareInActionUS>,\n",
              " <User id=881222783170228224 name=Carolyn Bourdeaux username=Carolyn4GA7>,\n",
              " <User id=465046121 name=Andrew Gillum username=AndrewGillum>,\n",
              " <User id=134887156 name=FedEx username=FedEx>,\n",
              " <User id=262829285 name=Sean Shaw username=SShawFL>,\n",
              " <User id=873847190 name=The Solutions Project username=SolutionsProj>,\n",
              " <User id=228794007 name=Don \"but not forgotten\" Cheadle username=DonCheadle>,\n",
              " <User id=16863340 name=Tarana username=TaranaBurke>,\n",
              " <User id=1636396765 name=NOBEL-Women username=NOBELWomen1>,\n",
              " <User id=12331062 name=Patrick V. Grayson username=manup4>,\n",
              " <User id=16572050 name=Roy S. Johnson username=roysj>,\n",
              " <User id=824797212425191425 name=ALT-immigration username=ALT_uscis>,\n",
              " <User id=78776348 name=Jess Morales Rocketto username=JessLivMo>,\n",
              " <User id=2573906444 name=Erica Long username=ericalongatl>,\n",
              " <User id=2288611836 name=Equality for HER (2014 - 2019) username=EqualityforHER>,\n",
              " <User id=57039392 name=Alicia Garza username=aliciagarza>,\n",
              " <User id=307912317 name=Domestic Workers username=domesticworkers>,\n",
              " <User id=879771304316071938 name=Fair Fight username=fairfightaction>,\n",
              " <User id=867004741649387520 name=Deborah Gonzalez username=DG4DA>,\n",
              " <User id=56384727 name=BBBS of Metro ATL username=BBBSatl>,\n",
              " <User id=271625555 name=Mo Ivory username=moivory>,\n",
              " <User id=205850272 name=Aisha Hinds username=AishaHinds>,\n",
              " <User id=104299103 name=Tracee Ellis Ross username=TraceeEllisRoss>,\n",
              " <User id=562381032 name=Rashida Jones username=iamrashidajones>,\n",
              " <User id=213478296 name=Uzo Aduba username=UzoAduba>,\n",
              " <User id=17169320 name=COMMON username=common>,\n",
              " <User id=3002508978 name=Stevie Wonder username=StevieWonder>,\n",
              " <User id=14939981 name=Dr. Love username=questlove>,\n",
              " <User id=7433632 name=David Dreyer username=ddreyer>,\n",
              " <User id=487810279 name=Gail Davenport username=Gail_Davenport>,\n",
              " <User id=1428557604 name=Ed Harbison username=Sen_Ed_Harbison>,\n",
              " <User id=2976753027 name=Senator Harold Jones username=SenHaroldJones>,\n",
              " <User id=3796121260 name=Elect Tonya Anderson username=tonyapanderson>,\n",
              " <User id=487826847 name=Freddie Powell-Sims username=Freddie_Sims>,\n",
              " <User id=357049990 name=Valencia Seay username=valenciaseay>,\n",
              " <User id=1305008569 name=Emanuel Jones username=emanueldjones>,\n",
              " <User id=722403729790672896 name=Sen. Lester Jackson username=DrLGJ3>,\n",
              " <User id=1403424932 name=Jen Jordan username=senatorjen>,\n",
              " <User id=136402367 name=Marisa Franco 🐜 username=marisa_franco>,\n",
              " <User id=142905425 name=Ai-jen Poo username=aijenpoo>,\n",
              " <User id=1191563564 name=Caroline Soberanis username=carolinegene25>,\n",
              " <User id=788563654790619136 name=Julie Kohler username=juliekkohler1>,\n",
              " <User id=587828596 name=Fatima Goss Graves username=FGossGraves>,\n",
              " <User id=226791009 name=Jeremy Berry username=JeremyTBerry>,\n",
              " <User id=246939630 name=Shannon Watts username=shannonrwatts>,\n",
              " <User id=787152938 name=matt bryant username=Matt_Bryant3>,\n",
              " <User id=2168988270 name=Steve Henson username=SenSteveHenson>,\n",
              " <User id=49782398 name=Curt Thompson username=curt_thompson>,\n",
              " <User id=357054964 name=Gloria S Butler username=SenGloriaButler>,\n",
              " <User id=33256849 name=Coalition to Stop Gun Violence username=CSGV>,\n",
              " <User id=740191721103982592 name=Hollis Innovation Academy username=APSHollisCrew>,\n",
              " <User id=335549290 name=Glynda Carr username=glyndacarr>,\n",
              " <User id=313952006 name=Women Legislators Lobby - WiLL username=WomenLegisLobby>,\n",
              " <User id=217582314 name=Rose Scott username=waberosescott>,\n",
              " <User id=2875025835 name=Political Rewind with Bill Nigut username=PoliticsGPB>,\n",
              " <User id=61518565 name=Loretta Lepore username=LorettaLepore>,\n",
              " <User id=4228837518 name=Representative Park Cannon username=Cannonfor58>,\n",
              " <User id=54617733 name=Be A King username=BerniceKing>,\n",
              " <User id=909743129150017536 name=IAmPowerRising username=IAmPowerRising>,\n",
              " <User id=26642006 name=Alyssa Milano username=Alyssa_Milano>,\n",
              " <User id=719759189 name=Napoleon Bracy username=hiphopstaterep>,\n",
              " <User id=878759964134604800 name=Democrats Work For America username=DemsWork4USA>,\n",
              " <User id=85825706 name=Sierra Club Georgia Chapter username=gasierraclub>,\n",
              " <User id=482511130 name=YOU GET A VOTE username=mcgintymock>,\n",
              " <User id=242329167 name=Cianti Stewart-Reid username=steelmag99>,\n",
              " <User id=35716667 name=Dar'shun Kendrick username=DarshunKendrick>,\n",
              " <User id=19070961 name=kwajelyn jackson username=superkwa>,\n",
              " <User id=831981042395406338 name=Peach Resist 🌻 username=PeachResist>,\n",
              " <User id=18873189 name=glen paul freedman username=gpfreedman>,\n",
              " <User id=814538403920379904 name=#ILoveGay Atlanta 🍑 username=ILoveGayAtlanta>,\n",
              " <User id=54772083 name=David Wilkerson username=repdwilkerson>,\n",
              " <User id=360194102 name=Karla Drenner username=KarlaDrenner>,\n",
              " <User id=623968625 name=Rep. Karen Bennett username=KBennettCARES>,\n",
              " <User id=46776045 name=Sawdust and Empire username=dsfullerton>,\n",
              " <User id=45260988 name=Oolong Musk username=NatsinPA>,\n",
              " <User id=26659260 name=Falak Sabbak username=Hindash13>,\n",
              " <User id=25394404 name=Joel Mendelson username=JPMendelson>,\n",
              " <User id=58832345 name=Ansley T. Mendelson username=ansley210>,\n",
              " <User id=317250763 name=Jane Bradshaw Burnette username=envirojane>,\n",
              " <User id=590412316 name=NWS Atlanta username=NWSAtlanta>,\n",
              " <User id=5920532 name=Delta username=Delta>,\n",
              " <User id=858924511 name=Yes, You're Racist username=YesYoureRacist>,\n",
              " <User id=3021791186 name=Cindy Zeldin username=CindyZeldin>,\n",
              " <User id=4262553012 name=Bruce George username=BruceGeorge17>,\n",
              " <User id=521747968 name=Jon Ossoff username=ossoff>,\n",
              " <User id=205522684 name=J.Jackson username=Jon__Jackson>,\n",
              " <User id=780606002 name=Justin Fairfax username=FairfaxJustin>,\n",
              " <User id=14381600 name=Tracie Powell username=TMPowell>,\n",
              " <User id=333513185 name=Devan Dmarcus username=ForevaLivin>,\n",
              " <User id=2260619350 name=Mignon Clyburn username=MignonClyburn>,\n",
              " <User id=26918986 name=Sylvia username=SylviaObell>,\n",
              " <User id=277851382 name=Nantasha Williams username=CMNantashaW>,\n",
              " <User id=23831682 name=Reagan Gomez username=ReaganGomez>,\n",
              " <User id=373619567 name=Idalin Bobé username=IdalinBobe>,\n",
              " <User id=21456548 name=Rashad Robinson username=rashadrobinson>,\n",
              " <User id=332304361 name=Lucy Kay McBath username=lucymcbath_>,\n",
              " <User id=41419199 name=Robin Thede username=robinthede>,\n",
              " <User id=69312438 name=Andrew Yawn username=YawnieWrites>,\n",
              " <User id=736722777424592896 name=SuperDega username=DegaSuper>,\n",
              " <User id=158414847 name=The Daily Show username=TheDailyShow>,\n",
              " <User id=4797361833 name=Tom Perez username=TomPerez>,\n",
              " <User id=2559368324 name=Juan Sanchez username=jsanchez_505>,\n",
              " <User id=853242975727611906 name=Letters from Hillary username=LettersFromHRC>,\n",
              " <User id=17627579 name=John Archibald username=JohnArchibald>,\n",
              " <User id=36471939 name=Alabama EMA username=AlabamaEMA>,\n",
              " <User id=2290222472 name=Devonta Freeman username=devontafreeman>,\n",
              " <User id=291192260 name=Geoff Garin username=geoffgarin>,\n",
              " <User id=2583929935 name=Courtland Cox username=CoxCourtland>,\n",
              " <User id=409486555 name=Michelle Obama username=MichelleObama>,\n",
              " <User id=21094888 name=WSB-TV username=wsbtv>,\n",
              " <User id=1641092479 name=Former Rep. Bobby DuBose username=DuBoseforFL>,\n",
              " <User id=33260677 name=Angela Angel username=ThePoliticChic>,\n",
              " <User id=29012641 name=Anthony Daniels username=AnthonyDaniels>,\n",
              " <User id=16528755 name=MinyonM. username=IamMinyon>,\n",
              " <User id=357606935 name=Elizabeth Warren username=ewarren>,\n",
              " <User id=577425161 name=Dega Admissions username=TalladegaEDU>,\n",
              " <User id=3708741974 name=Talladega College username=TalladegaColleg>,\n",
              " <User id=18382184 name=Adam Parkhomenko username=AdamParkhomenko>,\n",
              " <User id=499336680 name=Tony Goldwyn username=tonygoldwyn>,\n",
              " <User id=20534223 name=Nate Riley username=nrileyjr>,\n",
              " <User id=17845781 name=Senator Kevin Parker username=kevinparkernyc>,\n",
              " <User id=953952349 name=Tony Yarber username=TonyYarber>,\n",
              " <User id=834182083 name=Jason Winston George username=JasonWGeorge>,\n",
              " <User id=49698134 name=Joy-Ann (Pro-Democracy) Reid 😷 username=JoyAnnReid>,\n",
              " <User id=43300047 name=Kimberlé Crenshaw username=sandylocks>,\n",
              " <User id=3052911538 name=Hillary for Georgia username=HillaryForGA>,\n",
              " <User id=522828682 name=The Essential Dick Gregory username=IAmDickGregory>,\n",
              " <User id=30602016 name=jesse Williams. username=iJesseWilliams>,\n",
              " <User id=29417304 name=deray username=deray>,\n",
              " <User id=2167097881 name=Sen. Cory Booker username=SenBooker>,\n",
              " <User id=15808765 name=Cory Booker username=CoryBooker>,\n",
              " <User id=2863210809 name=David Perdue username=sendavidperdue>,\n",
              " <User id=150078976 name=Chris Murphy username=ChrisMurphyCT>,\n",
              " <User id=4382151 name=The Young Democrats of Atlanta username=ydatl>,\n",
              " <User id=18978610 name=Sally Kohn username=sallykohn>,\n",
              " <User id=36329020 name=Terrence Hall username=THeezy06>,\n",
              " <User id=105802207 name=Dawn Porter username=dawnporter>,\n",
              " <User id=105287118 name=Kathy Lohr username=KathyALohr>,\n",
              " <User id=1093090866 name=First Lady- Archived username=FLOTUS44>,\n",
              " <User id=818876014390603776 name=Melania Trump 45 Archived username=FLOTUS45>,\n",
              " <User id=60919240 name=Donna Brazile username=donnabrazile>,\n",
              " <User id=1339835893 name=Hillary Clinton username=HillaryClinton>,\n",
              " <User id=27026371 name=Tonya Lewis Lee username=TLewisLee>,\n",
              " <User id=130980745 name=Erika Alexander username=EAlexTheGreat>,\n",
              " <User id=31013444 name=Ayanna Pressley username=AyannaPressley>,\n",
              " <User id=16362900 name=Atlanta Airport username=ATLairport>,\n",
              " <User id=1472173832 name=Reagan Airport username=Reagan_Airport>,\n",
              " <User id=124000136 name=Isaiah Castilla username=callmecastilla>,\n",
              " <User id=38271046 name=AFJ Bolder Advocacy username=AFJBeBold>,\n",
              " <User id=407191023 name=Isaiah Castilla username=IsaiahCastilla>,\n",
              " <User id=2811455407 name=Adam Smith username=AdamJSmithGA>,\n",
              " <User id=269151092 name=Marcus Lattimore username=MarcusLattimore>,\n",
              " <User id=1390640984 name=Association of State Democratic Committees username=DemStateParties>,\n",
              " <User id=49108140 name=Liz Flowers username=flowersliz>,\n",
              " <User id=423954737 name=NEWARK PAGE username=NEWARK_GTFOH>,\n",
              " <User id=552066802 name=JC Burton [She/Her/Hers] username=WoodlineGreen>,\n",
              " <User id=76849028 name=Malika Redmond, MA username=MalikaRedmond>,\n",
              " <User id=73238146 name=Senate Democrats username=SenateDems>,\n",
              " <User id=14665545 name=flapjackj username=flapjackj>,\n",
              " <User id=1861654400 name=Olivia Ware username=Ware_4_Mayor>,\n",
              " <User id=136313517 name=Yumbii username=Yumbii>,\n",
              " <User id=614614079 name=Mary Sell username=MarySellQuillen>,\n",
              " <User id=249410485 name=Sanford Bishop, Jr. username=SanfordBishop>,\n",
              " <User id=2240756971 name=Bridge Project username=BridgeProject21>,\n",
              " <User id=1619487020 name=Wendy Davis username=WendyforUS>,\n",
              " <User id=15220806 name=James Spann username=spann>,\n",
              " <User id=23486900 name=City of Birmingham username=cityofbhamal>,\n",
              " <User id=2743699093 name=SouthFultonNOW username=SouthFulton2015>,\n",
              " <User id=2842234543 name=θOΩ Chapter of AKA username=aka_too>,\n",
              " <User id=2316580195 name=FeliciaBrownWilliams username=FBrownWilliams>,\n",
              " <User id=322276773 name=Sharné Haywood username=_shukura_>,\n",
              " <User id=66799896 name=Royce West username=SenRoyceWest>,\n",
              " <User id=17696167 name=Ludacris username=Ludacris>,\n",
              " <User id=40908929 name=Usher Raymond IV username=Usher>,\n",
              " <User id=32306015 name=DARNELL DOCKETT username=ddockett>,\n",
              " <User id=2541300409 name=Jason Keith Coleman username=revjasoncoleman>,\n",
              " <User id=31277996 name=Elaine username=MissPCutie>,\n",
              " <User id=18629999 name=Bangladesh News username=BangladeshNews>,\n",
              " <User id=1624292438 name=Shirley Franklin username=ATLShirley>,\n",
              " <User id=2317842607 name=Vincent Fort username=fortforcongress>,\n",
              " <User id=2831830240 name=Planned Parenthood Southeast Advocates username=PPSE_Advocates>,\n",
              " <User id=2358524952 name=Robbin Shipp username=RobbinShipp>,\n",
              " <User id=22714413 name=Eric Robertson username=eric4themany>,\n",
              " <User id=20448216 name=Lori Geary username=lorigearymedia>,\n",
              " <User id=106729668 name=Foster Ware III username=fosterware>,\n",
              " <User id=1531522224 name=Alabama Arise username=AlabamaArise>,\n",
              " <User id=202790178 name=Michael A. Nutter username=Michael_Nutter>,\n",
              " <User id=55334133 name=Michael Eric Dyson username=MichaelEDyson>,\n",
              " <User id=932620423 name=Juli McShay username=JuliMcShay>,\n",
              " <User id=36140184 name=Cathy Hampton username=cathyhampton>,\n",
              " <User id=932577122 name=Candace Byrd username=ByrdCandace>,\n",
              " <User id=18222378 name=50cent username=50cent>,\n",
              " <User id=56705653 name=Devin  Hester username=D_Hest23>,\n",
              " <User id=16347506 name=Atlanta Falcons username=AtlantaFalcons>,\n",
              " <User id=316795090 name=Harry Douglas username=HDouglas83>,\n",
              " <User id=271504963 name=Julio Jones username=juliojones_11>,\n",
              " <User id=551405395 name=Matt Ryan username=M_Ryan02>,\n",
              " <User id=17910878 name=Steven Jackson username=sj39>,\n",
              " <User id=85386834 name=Roddy White username=roddywhiteTV>,\n",
              " <User id=2233944943 name=Gilda Cobb-Hunter username=GCobbHunter>,\n",
              " <User id=226324960 name=Marge Hoffa username=MargeHoffa>,\n",
              " <User id=166651747 name=Kellie username=kelliedupes>,\n",
              " <User id=1613681130 name=Michelle Nunn username=MichelleNunn>,\n",
              " <User id=41251750 name=Rebecca Burns username=RebeccaBurns>,\n",
              " <User id=38450042 name=Business Council of Alabama username=BCAToday>,\n",
              " <User id=2176881492 name=Jason Carter username=carter4governor>,\n",
              " <User id=2384744946 name=Valarie Wilson username=ValForEducation>,\n",
              " <User id=2511129006 name=Kaye Shipley username=Shipley4GA>,\n",
              " <User id=22882864 name=WBRC FOX6 News username=WBRCnews>,\n",
              " <User id=20341454 name=Alabama Public Television username=APTV>,\n",
              " <User id=14427407 name=#WVTM13 username=WVTM13>,\n",
              " <User id=313591169 name=Tim Lockette username=TLocketteWrites>,\n",
              " <User id=14923012 name=The Anniston Star username=AnnistonStar>,\n",
              " <User id=13265132 name=ABC 33/40 News username=abc3340>,\n",
              " <User id=193923653 name=BB. username=thefinerthinggs>,\n",
              " <User id=264386210 name=Alabama Young Democrats username=AlaYoungDems>,\n",
              " <User id=361204260 name=Martha Morgan username=marthaimorgan>,\n",
              " <User id=297235842 name=james hammond username=mrikon1906>,\n",
              " <User id=65119311 name=David Stokes username=BlackNewsEditor>,\n",
              " <User id=213485998 name=Georgia Equality username=GAEquality>,\n",
              " <User id=70144495 name=Lily Adams username=adamslily>,\n",
              " <User id=37095385 name=Louis Elrod username=LouisElrod>,\n",
              " <User id=368349810 name=Jessica Annis username=jessica_annis>,\n",
              " <User id=256881576 name=Gabrielle Union username=itsgabrielleu>,\n",
              " <User id=38478303 name=Alabama Politics username=AlabamaPolitics>,\n",
              " <User id=14211958 name=Left in Alabama username=leftinbama>,\n",
              " <User id=142716103 name=Montgomery News username=montgomerybuzz>,\n",
              " <User id=21111098 name=Richard Shelby username=SenShelby>,\n",
              " <User id=16129920 name=Rachel Maddow MSNBC username=maddow>,\n",
              " <User id=17821439 name=Philip Bryan username=j_philipbryan>,\n",
              " <User id=241381071 name=William A. Bell Sr. username=WilliamBellSr>,\n",
              " <User id=146949756 name=Rodger Smitherman username=SenateDist18>,\n",
              " <User id=182459153 name=Alabama Democrats username=FightforAlabama>,\n",
              " <User id=9893842 name=AL.com Birmingham username=ALcomBirmingham>,\n",
              " <User id=43638469 name=Ben Jealous username=BenJealous>,\n",
              " <User id=259096504 name=Alabama House GOP username=ALHouseGOP>,\n",
              " <User id=15864671 name=Southern Company username=SouthernCompany>,\n",
              " <User id=5741722 name=NPR Politics username=nprpolitics>,\n",
              " <User id=26840840 name=Alabama Democrats username=aldemocrats>,\n",
              " <User id=324115940 name=Bill Britt username=BillBritt>,\n",
              " <User id=135692196 name=Kim Chandler username=StatehouseKim>,\n",
              " <User id=422023446 name=Alabama Political Reporter username=ALReporter>,\n",
              " <User id=1029780900 name=Mike Cason username=MikeCasonAL>,\n",
              " <User id=33977070 name=Mike Rogers username=RepMikeRogersAL>,\n",
              " <User id=14511951 name=HuffPost username=HuffPost>,\n",
              " <User id=381152398 name=Rep. Terri A. Sewell username=RepTerriSewell>,\n",
              " <User id=40788002 name=Secretary of State username=alasecofstate>,\n",
              " <User id=428333 name=CNN Breaking News username=cnnbrk>,\n",
              " <User id=1106501 name=Joan Walsh username=joanwalsh>,\n",
              " <User id=516076416 name=Quinn Hawkins username=qhawkinsone>,\n",
              " <User id=425268743 name=Yellowhammer News username=yhn>,\n",
              " <User id=22946048 name=ALGOP username=ALGOP>,\n",
              " <User id=15141113 name=Luther Strange username=lutherstrange>,\n",
              " <User id=73494599 name=Tom Whatley username=SenTomWhatley>,\n",
              " <User id=398081131 name=Senator Arthur Orr username=SenatorAOrr>,\n",
              " <User id=474388304 name=Terri Collins username=RepTerriCollins>,\n",
              " <User id=80964763 name=John Merrill username=JohnHMerrill>,\n",
              " <User id=490671404 name=Phil Williams username=SenPhilWilliams>,\n",
              " <User id=222362772 name=Ed Henry username=Ed_Henry_HD9>,\n",
              " <User id=29809291 name=Scott Beason username=ScottBeason>,\n",
              " <User id=1379570394 name=Senator Gerald Allen username=SenGeraldAllen>,\n",
              " <User id=57644175 name=Joe Hubbard username=joe_hubbard>,\n",
              " <User id=478801288 name=AL Senate Democrats username=ALSenateDems>,\n",
              " <User id=374060598 name=John McMillan username=JohnMcMillan4>,\n",
              " <User id=19668491 name=Governor Kay Ivey username=GovernorKayIvey>,\n",
              " <User id=46456233 name=Paul DeMarco username=Paul_DeMarco>,\n",
              " <User id=14749672 name=Cam Ward username=DirectorCamWard>,\n",
              " <User id=248798598 name=Del Marsh username=SenatorDelMarsh>,\n",
              " <User id=1018199904 name=AL House Democrats username=ALHouseDems>,\n",
              " <User id=121820510 name=Sen. Slade Blackwell username=SladeBlackwell>,\n",
              " <User id=835878576 name=Vivian Davis Figures username=vivian_figures>,\n",
              " <User id=1378251296 name=Sen. Billy Beasley username=SenBillyBeasley>,\n",
              " <User id=47853558 name=Roger Bedford username=RogerBedford>,\n",
              " <User id=546180787 name=Tammy Irons username=SenTammyIrons>,\n",
              " <User id=532318627 name=Marc Keahey username=MarcKeahey>,\n",
              " <User id=338022507 name=Chris England username=RepEngland70>,\n",
              " <User id=2326064550 name=The Southern Group, Alabama username=SouthernGroupAL>,\n",
              " <User id=23391010 name=Judson Hill username=Judsonhill>,\n",
              " <User id=7116142 name=Casey Cagle username=CaseyCagle>,\n",
              " <User id=217416964 name=Former Gov. Nathan Deal username=GovernorDeal>,\n",
              " <User id=45688610 name=Nathan Deal username=NathanDeal>,\n",
              " <User id=595515713 name=Valerie Jarrett username=vj44>,\n",
              " <User id=386829042 name=Alge Crumpler username=Alge_Crumpler>,\n",
              " <User id=158816029 name=UniversityBarbershop username=UniversityATL>,\n",
              " <User id=57018084 name=Hilton Honors username=HiltonHonors>,\n",
              " <User id=186294003 name=DPG Latino Caucus username=GALatinoCaucus>,\n",
              " <User id=566526813 name=Salena Jegede username=SalenaJegede>,\n",
              " <User id=61037322 name=Wine Train username=winetrain>,\n",
              " <User id=124385869 name=Visit Napa Valley username=VisitNapaValley>,\n",
              " <User id=1710336158 name=StateRep Roger Bruce username=RepRogerBruce61>,\n",
              " <User id=50777363 name=The Fab One username=fabulosity4>,\n",
              " <User id=402243706 name=Wilfred username=WilfredFXX>,\n",
              " <User id=50374439 name=Tom Hanks username=tomhanks>,\n",
              " <User id=215060612 name=Elijah Wood username=elijahwood>,\n",
              " <User id=23605505 name=Steve Walker username=stevenlwalker>,\n",
              " <User id=44725196 name=DNC Youth Council username=DNCYouthCouncil>,\n",
              " <User id=255657736 name=Stuart Scott username=StuartScott>,\n",
              " <User id=21656599 name=Jovita Moore username=JovitaMoore>,\n",
              " <User id=382230093 name=Monica Kaufman Pearson username=MonicaKPearson>,\n",
              " <User id=45006808 name=David Pollack username=davidpollack47>,\n",
              " <User id=19212622 name=Chris Fowler username=cbfowler>,\n",
              " <User id=75296671 name=Rece Davis username=ReceDavis>,\n",
              " <User id=790136510 name=Kirk Herbstreit username=KirkHerbstreit>,\n",
              " <User id=71023061 name=College GameDay username=CollegeGameDay>,\n",
              " <User id=104410500 name=Claire Simms username=Claire_FOX5>,\n",
              " <User id=74568060 name=Georgia Democrats username=GeorgiaDemocrat>,\n",
              " <User id=216065430 name=Stacey Abrams username=staceyabrams>,\n",
              " <User id=52485598 name=Blog for Democracy username=blog4democracy>,\n",
              " <User id=30859549 name=Dustin username=jdGAPolitico>,\n",
              " <User id=14218930 name=Jen Jones-Mitchell username=jonesyjen>,\n",
              " <User id=151998528 name=PolitiFact Georgia username=PolitiFactGA>,\n",
              " <User id=20346956 name=Los Angeles Lakers username=Lakers>,\n",
              " <User id=1059194370 name=Kobe Bryant username=kobebryant>,\n",
              " <User id=18510860 name=Mother Jones username=MotherJones>,\n",
              " <User id=54583995 name=Virgil Fludd username=virgilfludd>,\n",
              " <User id=402094758 name=James Carter IV username=JECarter4>,\n",
              " <User id=1330457336 name=Bill Clinton username=BillClinton>,\n",
              " <User id=13028602 name=Daniel Hernandez Jr username=danielforaz>,\n",
              " <User id=62632267 name=Bill Barrow username=BillBarrowAP>,\n",
              " <User id=39525554 name=Governor Robert Bentley username=GovRBentley>,\n",
              " <User id=44135138 name=Alabama Public Radio username=ALPublicRadio>,\n",
              " <User id=175503643 name=AL.com in Montgomery username=alcomMontgomery>,\n",
              " <User id=20477029 name=MontgomeryAdvertiser username=MGMAdvertiser>,\n",
              " <User id=14528874 name=AL.com username=aldotcom>,\n",
              " <User id=539665155 name=Brian Lyman username=lyman_brian>,\n",
              " <User id=631306585 name=Ed Hula III username=EHula3_ATR>,\n",
              " <User id=16370676 name=AJC Georgia Politics username=AJCGaPolitics>,\n",
              " <User id=109342032 name=Simone Bell username=SimoneLoves>,\n",
              " <User id=17011177 name=Cecile Richards username=CecileRichards>,\n",
              " <User id=183480781 name=Amber English Coleman username=Beezyology>,\n",
              " <User id=594609604 name=Dynamic username=Dynamic_Qwn>,\n",
              " <User id=38751357 name=Nakia Sanford username=NS43>,\n",
              " <User id=17141526 name=rene redwood username=Reneredwood>,\n",
              " <User id=470318233 name=Shayla J. Nealy username=shaylanealy>,\n",
              " <User id=115979444 name=Debbie Wasserman Schultz username=DWStweets>,\n",
              " <User id=278642216 name=Raymond Buckley 🇺🇸🌊🗳 username=ChairmanBuckley>,\n",
              " <User id=37667548 name=Radical Liberal Michael J. Brewer username=MichaelJBrewer>,\n",
              " <User id=125779908 name=Rep. Laura Hall username=RepLauraHall>,\n",
              " <User id=144199278 name=Red Clay Democrats username=redclaydems>,\n",
              " <User id=193332659 name=Bartow YDs username=BartowYDs>,\n",
              " <User id=47414934 name=Elena Parent username=elenaparent>,\n",
              " <User id=333775734 name=Chris Sloan username=Csloan82>,\n",
              " <User id=170341758 name=David Scott username=Electdavidscott>,\n",
              " <User id=93742250 name=Georgia House Democrats username=GAHouseDems>,\n",
              " <User id=487849778 name=Georgia WIN List username=GAWINList>,\n",
              " <User id=103668382 name=GA   Assembly username=GAassemblytweet>,\n",
              " <User id=151577668 name=ajcgaelections username=ajcgaelections>,\n",
              " <User id=16438494 name=Patricia Murphy username=MurphyAJC>,\n",
              " <User id=459760752 name=GA Senate Democrats username=GASenateDems>,\n",
              " <User id=18556552 name=Stefan Turkheimer username=StefanTurk>,\n",
              " <User id=299751154 name=Nan Orrock username=SenNanOrrock>,\n",
              " <User id=29518867 name=Carla Smith username=CarlaC_Smith>,\n",
              " <User id=207669506 name=Leadership Atlanta username=LeadershipAtl>,\n",
              " <User id=193377401 name=John Lewis username=jlewis4congress>,\n",
              " <User id=451768397 name=Rashad Taylor username=rashadjtaylor>,\n",
              " <User id=19215784 name=Matt Westmoreland username=WestmorelandATL>,\n",
              " <User id=22162854 name=Planned Parenthood Action username=PPact>,\n",
              " <User id=192810517 name=Greg Clay username=goclay>,\n",
              " <User id=5346682 name=Amani Channel username=AmaniChannel>,\n",
              " <User id=74066655 name=Candace M. Stanciel (she/her) username=CandaceStanciel>,\n",
              " <User id=22211511 name=Megan Sparks username=mesparks>,\n",
              " <User id=1284921 name=Sanjay Parekh username=sanjay>,\n",
              " <User id=28130911 name=Ceasar Mitchell username=ceasarcmitchell>,\n",
              " <User id=226070865 name=Fulton Democrats username=fultondems>,\n",
              " <User id=807679830 name=Minh Nguyen username=MinhNguyening>,\n",
              " <User id=25282853 name=S. Vault username=svault>,\n",
              " <User id=23993373 name=Don Weigel username=donweigel>,\n",
              " <User id=477044182 name=Ashlyn Shockley Martin username=ashlynshockley>,\n",
              " <User id=323942001 name=Chris Bruce username=DeuceBruce2>,\n",
              " <User id=352536335 name=Lynne Espy-Williams username=Lespy3>,\n",
              " <User id=364917109 name=Tereance Puryear username=Puryear_3>,\n",
              " <User id=18273224 name=Sojourner Marable Grimmett username=sojournerruth>,\n",
              " <User id=19990299 name=Tanika Gray Valbrun username=tgraycnn>,\n",
              " <User id=44187554 name=New Leaders Council - Atlanta username=NLC_Atlanta>,\n",
              " <User id=225960287 name=Black Student Union - Harvard Kennedy School username=TheBSUatHKS>,\n",
              " <User id=199546006 name=Rahn Mayo username=RahnMayo>,\n",
              " <User id=292657762 name=Kamp Kizzy username=KampKizzy>,\n",
              " <User id=267873112 name=Blogging While Blue username=bwbblog>,\n",
              " <User id=15145995 name=Aaron Gould Sheinin username=asheinin>,\n",
              " <User id=15871090 name=Justin Tanner username=JustinGTanner>,\n",
              " <User id=330490474 name=Mayor Kasim Reed username=MayorKasimReed>,\n",
              " <User id=15256841 name=Kasim Reed username=KasimReed>,\n",
              " <User id=32499720 name=Russell Edwards username=RussellEdwards>,\n",
              " <User id=24712054 name=Kandi Burruss username=Kandi>,\n",
              " <User id=39566622 name=Rebecca DeHart username=RebeccaDeHart>,\n",
              " <User id=36117822 name=T.D. Jakes username=BishopJakes>,\n",
              " <User id=58598187 name=Tyler Perry username=tylerperry>,\n",
              " <User id=23612453 name=Phaedra Parks, Esq. username=PhaedraParks>,\n",
              " <User id=43214455 name=Monica username=MonicaDenise>,\n",
              " <User id=23795109 name=Ray J username=RayJ>,\n",
              " <User id=73158647 name=GHF username=HealthyFutureGA>,\n",
              " <User id=82453460 name=Bennie G. Thompson username=BennieGThompson>,\n",
              " <User id=80139649 name=Rickey Bevington 🧘🏼‍♀️ username=rickeybevington>,\n",
              " <User id=24745957 name=Rep. Hank Johnson username=RepHankJohnson>,\n",
              " <User id=93921487 name=Jason Carter username=SenatorCarter>,\n",
              " <User id=813286 name=Barack Obama username=BarackObama>,\n",
              " <User id=29450962 name=John Lewis username=repjohnlewis>,\n",
              " <User id=369232105 name=P. Aniskoff (NARA) username=PAniskoff44>,\n",
              " <User id=25557432 name=PlannedParenthoodMS username=ppmississippi>,\n",
              " <User id=25557271 name=PlannedParenthoodAL username=ppalabama>,\n",
              " <User id=288471451 name=Tap Pet Hotel username=TapPetHotel>,\n",
              " <User id=22669526 name=Rep. Gwen Moore username=RepGwenMoore>,\n",
              " <User id=361432880 name=MS4HealthyFamilies username=MS4HealthyFams>,\n",
              " <User id=50769115 name=Dotti28 username=Dotti28>,\n",
              " <User id=35285057 name=Daronfrom112 username=daronfrom112>,\n",
              " <User id=36406432 name=Billy Joyner 🥃🏴‍☠️ username=BillyJoyner>,\n",
              " <User id=14296754 name=sndeak username=sndeak>,\n",
              " <User id=42169964 name=Moulie Mou username=MelGX>,\n",
              " <User id=122481894 name=Fun and Free Stuff! username=cl_atlfreestuff>,\n",
              " <User id=49308717 name=Sharron Pettiford username=mochalaborchic>,\n",
              " <User id=28723428 name=CurvyDivaLady username=CurvyDivaLady>,\n",
              " <User id=168673083 name=Rep. David Scott username=repdavidscott>,\n",
              " <User id=175102551 name=St. MB username=Mballyhoo29>,\n",
              " <User id=23145103 name=Birmingham Weekly username=BhamWeekly>,\n",
              " <User id=39202482 name=ASouthernJule username=ASouthernJule>,\n",
              " <User id=38009691 name=Mary Beth Pierucci username=mbpierucci>,\n",
              " <User id=6332082 name=Jay Stalnaker username=JayStalnaker>,\n",
              " <User id=42668602 name=Planned Parenthood username=PPGATL>,\n",
              " <User id=41452962 name=Mel Farrah username=SayWordMel>,\n",
              " <User id=24889923 name=Opal Glover username=oglover>,\n",
              " <User id=4086001 name=Voting for all Dems username=BD_Smith>,\n",
              " <User id=15603594 name=Kip Carr username=UltimateKip>,\n",
              " <User id=29004152 name=Otis Threatt username=othreatt>,\n",
              " <User id=22396879 name=Juel McGhee username=juelmc>,\n",
              " <User id=17541239 name=Dawn Randolph username=DIRconnect>,\n",
              " <User id=23062002 name=Brandon A. Jessup username=itsbjessup>,\n",
              " <User id=16173836 name=mlunderwood username=mlunderwood>,\n",
              " <User id=23328596 name=H. Lamar Willis username=HLamarWillis>,\n",
              " <User id=20603380 name=Edmund Thornton username=EdmundThornton>,\n",
              " <User id=31775144 name=Trina B username=trinab678>,\n",
              " <User id=20323737 name=SQ username=cafemir>,\n",
              " <User id=17009592 name=Catherine Smith username=CSmithAtl>,\n",
              " <User id=24906180 name=Leslie small username=smalls58>,\n",
              " <User id=32528194 name=Ronnie Cothren username=rcothren>,\n",
              " <User id=25187649 name=sig1914ma username=sig1914ma>,\n",
              " <User id=18465226 name=justicecosts username=justicecosts>,\n",
              " <User id=32594889 name=Porsche Wilson username=P3withPorsche>,\n",
              " <User id=35333913 name=Yejide Olutosin username=saintnigeria>,\n",
              " <User id=16695650 name=AfricaMattersNOW username=AfricaMatters>,\n",
              " <User id=33639367 name=Ronald L. Moore username=romo123>,\n",
              " <User id=15913287 name=lynchbrandi username=lynchbrandi>,\n",
              " <User id=31382006 name=Margaret Tyson username=margtyson>,\n",
              " <User id=19418975 name=Shannon Stripling username=ShannonMarietta>,\n",
              " <User id=16905220 name=reneey username=reneey>,\n",
              " <User id=18451943 name=cak1124 username=cak1124>,\n",
              " <User id=23110055 name=Jennifer West username=JKittWest>,\n",
              " <User id=18279979 name=Anubis Realm username=DeeSeeMe>,\n",
              " <User id=23074795 name=Wendy Ho username=followwendy>,\n",
              " <User id=16250865 name=Precious Green username=so_precious>,\n",
              " <User id=8630792 name=Kwanza Hall (Kwanzahall.eth) username=kwanzahall>,\n",
              " <User id=13871082 name=Will Fowlkes™️ username=wfowlkes>,\n",
              " <User id=15772931 name=Clarence username=cwardell>,\n",
              " <User id=15816170 name=curryphoenix username=curryphoenix>,\n",
              " <User id=16072678 name=Patrick username=sPatrickC>,\n",
              " <User id=19471907 name=Kenyatta Bush username=kenyattabush>,\n",
              " <User id=19010067 name=Carol Cahill username=carolcahill>,\n",
              " <User id=22786843 name=Courtney Bugler username=courtneybugler>,\n",
              " <User id=30070466 name=College Park History username=cphistoric>,\n",
              " <User id=23112891 name=Jason username=HokieJAC>,\n",
              " <User id=6185862 name=Young Democrats of Georgia username=georgiayds>,\n",
              " <User id=22479451 name=C. Benson username=cbmanica>,\n",
              " <User id=21707875 name=Thomas Bates username=BatesThomas>,\n",
              " <User id=17610061 name=embeer username=embeer>,\n",
              " <User id=20772282 name=Ayinde Martin username=Ayindem>,\n",
              " <User id=7663002 name=Kyle Bailey username=kylebailey415>,\n",
              " <User id=17557624 name=audraanne4180 username=audraanne4180>,\n",
              " <User id=31468688 name=ATN username=AnnieAngstrom>,\n",
              " <User id=17378059 name=Nicolette Allen username=nicoletteallen>]"
            ]
          },
          "metadata": {},
          "execution_count": 41
        }
      ]
    },
    {
      "cell_type": "code",
      "metadata": {
        "id": "ftH47XxpP1Jp"
      },
      "source": [
        "# Using the same approach as before, construct a Pandas DataFrame using the\n",
        "# collected data.\n",
        "\n",
        "williams_following_df = pd.DataFrame()\n",
        "\n",
        "for i in williams_following.data:\n",
        "  temp_data = pd.json_normalize( i.data ,  sep = \"_\")\n",
        "  williams_following_df = williams_following_df.append(temp_data,ignore_index=True)"
      ],
      "execution_count": 42,
      "outputs": []
    },
    {
      "cell_type": "code",
      "metadata": {
        "id": "EFAA6-_Ne9Pr",
        "colab": {
          "base_uri": "https://localhost:8080/",
          "height": 852
        },
        "outputId": "d9b7ef0e-1bda-4587-9192-b6da8278cbc1"
      },
      "source": [
        "# Inspect the dataframe\n",
        "\n",
        "williams_following_df"
      ],
      "execution_count": 43,
      "outputs": [
        {
          "output_type": "execute_result",
          "data": {
            "text/plain": [
              "                                           description  verified  \\\n",
              "0    An HBCU postseason college football game featu...      True   \n",
              "1      I'm chefs ,silence is the most powerful scream!     False   \n",
              "2                                                          False   \n",
              "3    Don’t let anything or anyone steal your JOY😇  ...     False   \n",
              "4    TV Writer. Mostly elsewhere now. Turn the ligh...      True   \n",
              "..                                                 ...       ...   \n",
              "674                                                        False   \n",
              "675  Business owner. Political reformer. Former Rep...     False   \n",
              "676                                                        False   \n",
              "677                                                        False   \n",
              "678                                                        False   \n",
              "\n",
              "                   created_at                   id                      name  \\\n",
              "0    2015-02-15T16:59:42.000Z           3021477680  Cricket Celebration Bowl   \n",
              "1    2022-08-08T06:59:07.000Z  1556535074996338688           Balvir Pokharel   \n",
              "2    2014-06-18T15:12:37.000Z           2575037659            Kathleen Baker   \n",
              "3    2008-04-18T23:57:26.000Z             14438930       Vicki Kuglin Garver   \n",
              "4    2010-11-14T03:30:33.000Z            215501778               David Slack   \n",
              "..                        ...                  ...                       ...   \n",
              "674  2009-02-13T14:10:42.000Z             20772282             Ayinde Martin   \n",
              "675  2007-07-23T17:10:36.000Z              7663002               Kyle Bailey   \n",
              "676  2008-11-22T14:21:52.000Z             17557624             audraanne4180   \n",
              "677  2009-04-15T17:57:01.000Z             31468688                       ATN   \n",
              "678  2008-11-14T02:04:21.000Z             17378059           Nicolette Allen   \n",
              "\n",
              "            username  public_metrics_followers_count  \\\n",
              "0    CelebrationBowl                            8780   \n",
              "1     BalvirPokharel                               6   \n",
              "2    Kathlee54377081                             262   \n",
              "3             Kugy55                             221   \n",
              "4    slack2thefuture                           31203   \n",
              "..               ...                             ...   \n",
              "674          Ayindem                              49   \n",
              "675    kylebailey415                             399   \n",
              "676    audraanne4180                              30   \n",
              "677    AnnieAngstrom                               5   \n",
              "678   nicoletteallen                              56   \n",
              "\n",
              "     public_metrics_following_count  public_metrics_tweet_count  \\\n",
              "0                               446                        4723   \n",
              "1                               222                          26   \n",
              "2                              1294                       17782   \n",
              "3                               695                         686   \n",
              "4                              4366                       68164   \n",
              "..                              ...                         ...   \n",
              "674                              28                         143   \n",
              "675                             277                         217   \n",
              "676                             212                          25   \n",
              "677                               0                           2   \n",
              "678                             135                         257   \n",
              "\n",
              "     public_metrics_listed_count  \n",
              "0                             96  \n",
              "1                              1  \n",
              "2                              1  \n",
              "3                              0  \n",
              "4                            450  \n",
              "..                           ...  \n",
              "674                            3  \n",
              "675                           16  \n",
              "676                            0  \n",
              "677                            0  \n",
              "678                            0  \n",
              "\n",
              "[679 rows x 10 columns]"
            ],
            "text/html": [
              "\n",
              "  <div id=\"df-d91a16ed-47e2-49bc-80af-bc83dabebcdf\">\n",
              "    <div class=\"colab-df-container\">\n",
              "      <div>\n",
              "<style scoped>\n",
              "    .dataframe tbody tr th:only-of-type {\n",
              "        vertical-align: middle;\n",
              "    }\n",
              "\n",
              "    .dataframe tbody tr th {\n",
              "        vertical-align: top;\n",
              "    }\n",
              "\n",
              "    .dataframe thead th {\n",
              "        text-align: right;\n",
              "    }\n",
              "</style>\n",
              "<table border=\"1\" class=\"dataframe\">\n",
              "  <thead>\n",
              "    <tr style=\"text-align: right;\">\n",
              "      <th></th>\n",
              "      <th>description</th>\n",
              "      <th>verified</th>\n",
              "      <th>created_at</th>\n",
              "      <th>id</th>\n",
              "      <th>name</th>\n",
              "      <th>username</th>\n",
              "      <th>public_metrics_followers_count</th>\n",
              "      <th>public_metrics_following_count</th>\n",
              "      <th>public_metrics_tweet_count</th>\n",
              "      <th>public_metrics_listed_count</th>\n",
              "    </tr>\n",
              "  </thead>\n",
              "  <tbody>\n",
              "    <tr>\n",
              "      <th>0</th>\n",
              "      <td>An HBCU postseason college football game featu...</td>\n",
              "      <td>True</td>\n",
              "      <td>2015-02-15T16:59:42.000Z</td>\n",
              "      <td>3021477680</td>\n",
              "      <td>Cricket Celebration Bowl</td>\n",
              "      <td>CelebrationBowl</td>\n",
              "      <td>8780</td>\n",
              "      <td>446</td>\n",
              "      <td>4723</td>\n",
              "      <td>96</td>\n",
              "    </tr>\n",
              "    <tr>\n",
              "      <th>1</th>\n",
              "      <td>I'm chefs ,silence is the most powerful scream!</td>\n",
              "      <td>False</td>\n",
              "      <td>2022-08-08T06:59:07.000Z</td>\n",
              "      <td>1556535074996338688</td>\n",
              "      <td>Balvir Pokharel</td>\n",
              "      <td>BalvirPokharel</td>\n",
              "      <td>6</td>\n",
              "      <td>222</td>\n",
              "      <td>26</td>\n",
              "      <td>1</td>\n",
              "    </tr>\n",
              "    <tr>\n",
              "      <th>2</th>\n",
              "      <td></td>\n",
              "      <td>False</td>\n",
              "      <td>2014-06-18T15:12:37.000Z</td>\n",
              "      <td>2575037659</td>\n",
              "      <td>Kathleen Baker</td>\n",
              "      <td>Kathlee54377081</td>\n",
              "      <td>262</td>\n",
              "      <td>1294</td>\n",
              "      <td>17782</td>\n",
              "      <td>1</td>\n",
              "    </tr>\n",
              "    <tr>\n",
              "      <th>3</th>\n",
              "      <td>Don’t let anything or anyone steal your JOY😇  ...</td>\n",
              "      <td>False</td>\n",
              "      <td>2008-04-18T23:57:26.000Z</td>\n",
              "      <td>14438930</td>\n",
              "      <td>Vicki Kuglin Garver</td>\n",
              "      <td>Kugy55</td>\n",
              "      <td>221</td>\n",
              "      <td>695</td>\n",
              "      <td>686</td>\n",
              "      <td>0</td>\n",
              "    </tr>\n",
              "    <tr>\n",
              "      <th>4</th>\n",
              "      <td>TV Writer. Mostly elsewhere now. Turn the ligh...</td>\n",
              "      <td>True</td>\n",
              "      <td>2010-11-14T03:30:33.000Z</td>\n",
              "      <td>215501778</td>\n",
              "      <td>David Slack</td>\n",
              "      <td>slack2thefuture</td>\n",
              "      <td>31203</td>\n",
              "      <td>4366</td>\n",
              "      <td>68164</td>\n",
              "      <td>450</td>\n",
              "    </tr>\n",
              "    <tr>\n",
              "      <th>...</th>\n",
              "      <td>...</td>\n",
              "      <td>...</td>\n",
              "      <td>...</td>\n",
              "      <td>...</td>\n",
              "      <td>...</td>\n",
              "      <td>...</td>\n",
              "      <td>...</td>\n",
              "      <td>...</td>\n",
              "      <td>...</td>\n",
              "      <td>...</td>\n",
              "    </tr>\n",
              "    <tr>\n",
              "      <th>674</th>\n",
              "      <td></td>\n",
              "      <td>False</td>\n",
              "      <td>2009-02-13T14:10:42.000Z</td>\n",
              "      <td>20772282</td>\n",
              "      <td>Ayinde Martin</td>\n",
              "      <td>Ayindem</td>\n",
              "      <td>49</td>\n",
              "      <td>28</td>\n",
              "      <td>143</td>\n",
              "      <td>3</td>\n",
              "    </tr>\n",
              "    <tr>\n",
              "      <th>675</th>\n",
              "      <td>Business owner. Political reformer. Former Rep...</td>\n",
              "      <td>False</td>\n",
              "      <td>2007-07-23T17:10:36.000Z</td>\n",
              "      <td>7663002</td>\n",
              "      <td>Kyle Bailey</td>\n",
              "      <td>kylebailey415</td>\n",
              "      <td>399</td>\n",
              "      <td>277</td>\n",
              "      <td>217</td>\n",
              "      <td>16</td>\n",
              "    </tr>\n",
              "    <tr>\n",
              "      <th>676</th>\n",
              "      <td></td>\n",
              "      <td>False</td>\n",
              "      <td>2008-11-22T14:21:52.000Z</td>\n",
              "      <td>17557624</td>\n",
              "      <td>audraanne4180</td>\n",
              "      <td>audraanne4180</td>\n",
              "      <td>30</td>\n",
              "      <td>212</td>\n",
              "      <td>25</td>\n",
              "      <td>0</td>\n",
              "    </tr>\n",
              "    <tr>\n",
              "      <th>677</th>\n",
              "      <td></td>\n",
              "      <td>False</td>\n",
              "      <td>2009-04-15T17:57:01.000Z</td>\n",
              "      <td>31468688</td>\n",
              "      <td>ATN</td>\n",
              "      <td>AnnieAngstrom</td>\n",
              "      <td>5</td>\n",
              "      <td>0</td>\n",
              "      <td>2</td>\n",
              "      <td>0</td>\n",
              "    </tr>\n",
              "    <tr>\n",
              "      <th>678</th>\n",
              "      <td></td>\n",
              "      <td>False</td>\n",
              "      <td>2008-11-14T02:04:21.000Z</td>\n",
              "      <td>17378059</td>\n",
              "      <td>Nicolette Allen</td>\n",
              "      <td>nicoletteallen</td>\n",
              "      <td>56</td>\n",
              "      <td>135</td>\n",
              "      <td>257</td>\n",
              "      <td>0</td>\n",
              "    </tr>\n",
              "  </tbody>\n",
              "</table>\n",
              "<p>679 rows × 10 columns</p>\n",
              "</div>\n",
              "      <button class=\"colab-df-convert\" onclick=\"convertToInteractive('df-d91a16ed-47e2-49bc-80af-bc83dabebcdf')\"\n",
              "              title=\"Convert this dataframe to an interactive table.\"\n",
              "              style=\"display:none;\">\n",
              "        \n",
              "  <svg xmlns=\"http://www.w3.org/2000/svg\" height=\"24px\"viewBox=\"0 0 24 24\"\n",
              "       width=\"24px\">\n",
              "    <path d=\"M0 0h24v24H0V0z\" fill=\"none\"/>\n",
              "    <path d=\"M18.56 5.44l.94 2.06.94-2.06 2.06-.94-2.06-.94-.94-2.06-.94 2.06-2.06.94zm-11 1L8.5 8.5l.94-2.06 2.06-.94-2.06-.94L8.5 2.5l-.94 2.06-2.06.94zm10 10l.94 2.06.94-2.06 2.06-.94-2.06-.94-.94-2.06-.94 2.06-2.06.94z\"/><path d=\"M17.41 7.96l-1.37-1.37c-.4-.4-.92-.59-1.43-.59-.52 0-1.04.2-1.43.59L10.3 9.45l-7.72 7.72c-.78.78-.78 2.05 0 2.83L4 21.41c.39.39.9.59 1.41.59.51 0 1.02-.2 1.41-.59l7.78-7.78 2.81-2.81c.8-.78.8-2.07 0-2.86zM5.41 20L4 18.59l7.72-7.72 1.47 1.35L5.41 20z\"/>\n",
              "  </svg>\n",
              "      </button>\n",
              "      \n",
              "  <style>\n",
              "    .colab-df-container {\n",
              "      display:flex;\n",
              "      flex-wrap:wrap;\n",
              "      gap: 12px;\n",
              "    }\n",
              "\n",
              "    .colab-df-convert {\n",
              "      background-color: #E8F0FE;\n",
              "      border: none;\n",
              "      border-radius: 50%;\n",
              "      cursor: pointer;\n",
              "      display: none;\n",
              "      fill: #1967D2;\n",
              "      height: 32px;\n",
              "      padding: 0 0 0 0;\n",
              "      width: 32px;\n",
              "    }\n",
              "\n",
              "    .colab-df-convert:hover {\n",
              "      background-color: #E2EBFA;\n",
              "      box-shadow: 0px 1px 2px rgba(60, 64, 67, 0.3), 0px 1px 3px 1px rgba(60, 64, 67, 0.15);\n",
              "      fill: #174EA6;\n",
              "    }\n",
              "\n",
              "    [theme=dark] .colab-df-convert {\n",
              "      background-color: #3B4455;\n",
              "      fill: #D2E3FC;\n",
              "    }\n",
              "\n",
              "    [theme=dark] .colab-df-convert:hover {\n",
              "      background-color: #434B5C;\n",
              "      box-shadow: 0px 1px 3px 1px rgba(0, 0, 0, 0.15);\n",
              "      filter: drop-shadow(0px 1px 2px rgba(0, 0, 0, 0.3));\n",
              "      fill: #FFFFFF;\n",
              "    }\n",
              "  </style>\n",
              "\n",
              "      <script>\n",
              "        const buttonEl =\n",
              "          document.querySelector('#df-d91a16ed-47e2-49bc-80af-bc83dabebcdf button.colab-df-convert');\n",
              "        buttonEl.style.display =\n",
              "          google.colab.kernel.accessAllowed ? 'block' : 'none';\n",
              "\n",
              "        async function convertToInteractive(key) {\n",
              "          const element = document.querySelector('#df-d91a16ed-47e2-49bc-80af-bc83dabebcdf');\n",
              "          const dataTable =\n",
              "            await google.colab.kernel.invokeFunction('convertToInteractive',\n",
              "                                                     [key], {});\n",
              "          if (!dataTable) return;\n",
              "\n",
              "          const docLinkHtml = 'Like what you see? Visit the ' +\n",
              "            '<a target=\"_blank\" href=https://colab.research.google.com/notebooks/data_table.ipynb>data table notebook</a>'\n",
              "            + ' to learn more about interactive tables.';\n",
              "          element.innerHTML = '';\n",
              "          dataTable['output_type'] = 'display_data';\n",
              "          await google.colab.output.renderOutput(dataTable, element);\n",
              "          const docLink = document.createElement('div');\n",
              "          docLink.innerHTML = docLinkHtml;\n",
              "          element.appendChild(docLink);\n",
              "        }\n",
              "      </script>\n",
              "    </div>\n",
              "  </div>\n",
              "  "
            ]
          },
          "metadata": {},
          "execution_count": 43
        }
      ]
    },
    {
      "cell_type": "code",
      "metadata": {
        "id": "yDwn_L9bTP2J"
      },
      "source": [
        "# Conversely, you can collect the user accounts of Twitter users who are \n",
        "# following Williams's account.\n",
        "\n",
        "williams_followers = client.get_users_followers(\n",
        "    id = williams.data.id ,\n",
        "    user_fields = [\"created_at\", \"description\",\"public_metrics\",\"verified\",],\n",
        "    max_results = 1000)"
      ],
      "execution_count": 44,
      "outputs": []
    },
    {
      "cell_type": "code",
      "metadata": {
        "id": "y0WHYWomqxj0",
        "colab": {
          "base_uri": "https://localhost:8080/"
        },
        "outputId": "d1e1c2b3-4308-417f-9d9b-6a627cb9ef29"
      },
      "source": [
        "# Inspect the discrepancy between the total followers (followers_count) and the\n",
        "# number of followers collected from the Twitter API.  In Part 5, we will learn\n",
        "# how to go beyond the \"max_results = 1000\" limit!\n",
        "\n",
        "print(williams.data.public_metrics)\n",
        "print()\n",
        "print(\"Number of followers collected from Twitter API: \",len(williams_followers.data))"
      ],
      "execution_count": 45,
      "outputs": [
        {
          "output_type": "stream",
          "name": "stdout",
          "text": [
            "{'followers_count': 48415, 'following_count': 679, 'tweet_count': 4559, 'listed_count': 473}\n",
            "\n",
            "Number of followers collected from Twitter API:  1000\n"
          ]
        }
      ]
    },
    {
      "cell_type": "code",
      "metadata": {
        "id": "HEiHxGP_TPz4"
      },
      "source": [
        "# Construct a Pandas DataFrame using the collected data.\n",
        "\n",
        "williams_followers_df = pd.DataFrame()\n",
        "\n",
        "for i in williams_followers.data:\n",
        "  temp_data = pd.json_normalize( i.data ,  sep = \"_\")\n",
        "  williams_followers_df = williams_followers_df.append(temp_data,ignore_index=True)"
      ],
      "execution_count": 46,
      "outputs": []
    },
    {
      "cell_type": "code",
      "metadata": {
        "id": "f9tHgFJjgazV",
        "colab": {
          "base_uri": "https://localhost:8080/",
          "height": 852
        },
        "outputId": "f8ea18a5-974e-4466-a4c2-ce282d027091"
      },
      "source": [
        "# Inspect the dataframe\n",
        "\n",
        "williams_followers_df"
      ],
      "execution_count": 47,
      "outputs": [
        {
          "output_type": "execute_result",
          "data": {
            "text/plain": [
              "     verified                created_at                   id         username  \\\n",
              "0       False  2014-01-20T16:12:14.000Z           2301645024    AustinRobertG   \n",
              "1       False  2022-10-14T11:47:43.000Z  1580887661824610305  Cynthia07254613   \n",
              "2       False  2023-01-09T12:26:10.000Z  1612425467918749697         ga12dems   \n",
              "3       False  2023-01-13T21:21:07.000Z  1614009354222555139      Sampsondodo   \n",
              "4       False  2022-09-05T20:15:50.000Z  1566882688052649989    Kimberly87874   \n",
              "..        ...                       ...                  ...              ...   \n",
              "995     False  2009-10-11T08:03:07.000Z             81545830    SeanyFootball   \n",
              "996     False  2022-12-06T21:12:07.000Z  1600236535395233792       GenJoyHart   \n",
              "997     False  2012-01-08T02:24:13.000Z            458002544         juliew80   \n",
              "998     False  2018-01-02T01:12:21.000Z   947998967991762944     OF4Democracy   \n",
              "999     False  2009-02-06T04:08:07.000Z             20216078          debself   \n",
              "\n",
              "                                       name  \\\n",
              "0                           Austin Robert G   \n",
              "1                        Cynthia Richardson   \n",
              "2    Georgia's 12th CD Democratic Committee   \n",
              "3                               Tara Akosua   \n",
              "4                         Kimberly Sinclair   \n",
              "..                                      ...   \n",
              "995                          Sean Mardis 🇺🇦   \n",
              "996                             Gen Hart ❤️   \n",
              "997             Janice 'Fer sure reeeeally'   \n",
              "998                       OF4Democracy 🇺🇸🇺🇦   \n",
              "999                      Deb Self (she/her)   \n",
              "\n",
              "                                           description  \\\n",
              "0                                        #Entrepreneur   \n",
              "1                                                        \n",
              "2                                                        \n",
              "3                                                        \n",
              "4                                                        \n",
              "..                                                 ...   \n",
              "995  The Official Twitter of Sean Mardis. | Ex-Pro ...   \n",
              "996  Dog Lover, Entrepreneur, Straightforward, Fun ...   \n",
              "997     Lead Guitar, Dr. Teeth and The Electric Mayhem   \n",
              "998  Father, Husband, PhD (chemistry), Patriot, For...   \n",
              "999  🌈 Executive Director at Greater Farallones Ass...   \n",
              "\n",
              "     public_metrics_followers_count  public_metrics_following_count  \\\n",
              "0                               227                             767   \n",
              "1                               379                            2605   \n",
              "2                                 1                             213   \n",
              "3                                 1                             115   \n",
              "4                                 9                              74   \n",
              "..                              ...                             ...   \n",
              "995                          221767                          199138   \n",
              "996                              59                             740   \n",
              "997                              33                             367   \n",
              "998                            4896                            5193   \n",
              "999                             221                             377   \n",
              "\n",
              "     public_metrics_tweet_count  public_metrics_listed_count  \n",
              "0                           517                            2  \n",
              "1                            58                            0  \n",
              "2                             1                            0  \n",
              "3                             6                            0  \n",
              "4                             3                            0  \n",
              "..                          ...                          ...  \n",
              "995                       23952                          171  \n",
              "996                         520                            0  \n",
              "997                        3465                            0  \n",
              "998                       21322                            0  \n",
              "999                         297                           18  \n",
              "\n",
              "[1000 rows x 10 columns]"
            ],
            "text/html": [
              "\n",
              "  <div id=\"df-315f1f41-30de-4683-9209-35373d522ea5\">\n",
              "    <div class=\"colab-df-container\">\n",
              "      <div>\n",
              "<style scoped>\n",
              "    .dataframe tbody tr th:only-of-type {\n",
              "        vertical-align: middle;\n",
              "    }\n",
              "\n",
              "    .dataframe tbody tr th {\n",
              "        vertical-align: top;\n",
              "    }\n",
              "\n",
              "    .dataframe thead th {\n",
              "        text-align: right;\n",
              "    }\n",
              "</style>\n",
              "<table border=\"1\" class=\"dataframe\">\n",
              "  <thead>\n",
              "    <tr style=\"text-align: right;\">\n",
              "      <th></th>\n",
              "      <th>verified</th>\n",
              "      <th>created_at</th>\n",
              "      <th>id</th>\n",
              "      <th>username</th>\n",
              "      <th>name</th>\n",
              "      <th>description</th>\n",
              "      <th>public_metrics_followers_count</th>\n",
              "      <th>public_metrics_following_count</th>\n",
              "      <th>public_metrics_tweet_count</th>\n",
              "      <th>public_metrics_listed_count</th>\n",
              "    </tr>\n",
              "  </thead>\n",
              "  <tbody>\n",
              "    <tr>\n",
              "      <th>0</th>\n",
              "      <td>False</td>\n",
              "      <td>2014-01-20T16:12:14.000Z</td>\n",
              "      <td>2301645024</td>\n",
              "      <td>AustinRobertG</td>\n",
              "      <td>Austin Robert G</td>\n",
              "      <td>#Entrepreneur</td>\n",
              "      <td>227</td>\n",
              "      <td>767</td>\n",
              "      <td>517</td>\n",
              "      <td>2</td>\n",
              "    </tr>\n",
              "    <tr>\n",
              "      <th>1</th>\n",
              "      <td>False</td>\n",
              "      <td>2022-10-14T11:47:43.000Z</td>\n",
              "      <td>1580887661824610305</td>\n",
              "      <td>Cynthia07254613</td>\n",
              "      <td>Cynthia Richardson</td>\n",
              "      <td></td>\n",
              "      <td>379</td>\n",
              "      <td>2605</td>\n",
              "      <td>58</td>\n",
              "      <td>0</td>\n",
              "    </tr>\n",
              "    <tr>\n",
              "      <th>2</th>\n",
              "      <td>False</td>\n",
              "      <td>2023-01-09T12:26:10.000Z</td>\n",
              "      <td>1612425467918749697</td>\n",
              "      <td>ga12dems</td>\n",
              "      <td>Georgia's 12th CD Democratic Committee</td>\n",
              "      <td></td>\n",
              "      <td>1</td>\n",
              "      <td>213</td>\n",
              "      <td>1</td>\n",
              "      <td>0</td>\n",
              "    </tr>\n",
              "    <tr>\n",
              "      <th>3</th>\n",
              "      <td>False</td>\n",
              "      <td>2023-01-13T21:21:07.000Z</td>\n",
              "      <td>1614009354222555139</td>\n",
              "      <td>Sampsondodo</td>\n",
              "      <td>Tara Akosua</td>\n",
              "      <td></td>\n",
              "      <td>1</td>\n",
              "      <td>115</td>\n",
              "      <td>6</td>\n",
              "      <td>0</td>\n",
              "    </tr>\n",
              "    <tr>\n",
              "      <th>4</th>\n",
              "      <td>False</td>\n",
              "      <td>2022-09-05T20:15:50.000Z</td>\n",
              "      <td>1566882688052649989</td>\n",
              "      <td>Kimberly87874</td>\n",
              "      <td>Kimberly Sinclair</td>\n",
              "      <td></td>\n",
              "      <td>9</td>\n",
              "      <td>74</td>\n",
              "      <td>3</td>\n",
              "      <td>0</td>\n",
              "    </tr>\n",
              "    <tr>\n",
              "      <th>...</th>\n",
              "      <td>...</td>\n",
              "      <td>...</td>\n",
              "      <td>...</td>\n",
              "      <td>...</td>\n",
              "      <td>...</td>\n",
              "      <td>...</td>\n",
              "      <td>...</td>\n",
              "      <td>...</td>\n",
              "      <td>...</td>\n",
              "      <td>...</td>\n",
              "    </tr>\n",
              "    <tr>\n",
              "      <th>995</th>\n",
              "      <td>False</td>\n",
              "      <td>2009-10-11T08:03:07.000Z</td>\n",
              "      <td>81545830</td>\n",
              "      <td>SeanyFootball</td>\n",
              "      <td>Sean Mardis 🇺🇦</td>\n",
              "      <td>The Official Twitter of Sean Mardis. | Ex-Pro ...</td>\n",
              "      <td>221767</td>\n",
              "      <td>199138</td>\n",
              "      <td>23952</td>\n",
              "      <td>171</td>\n",
              "    </tr>\n",
              "    <tr>\n",
              "      <th>996</th>\n",
              "      <td>False</td>\n",
              "      <td>2022-12-06T21:12:07.000Z</td>\n",
              "      <td>1600236535395233792</td>\n",
              "      <td>GenJoyHart</td>\n",
              "      <td>Gen Hart ❤️</td>\n",
              "      <td>Dog Lover, Entrepreneur, Straightforward, Fun ...</td>\n",
              "      <td>59</td>\n",
              "      <td>740</td>\n",
              "      <td>520</td>\n",
              "      <td>0</td>\n",
              "    </tr>\n",
              "    <tr>\n",
              "      <th>997</th>\n",
              "      <td>False</td>\n",
              "      <td>2012-01-08T02:24:13.000Z</td>\n",
              "      <td>458002544</td>\n",
              "      <td>juliew80</td>\n",
              "      <td>Janice 'Fer sure reeeeally'</td>\n",
              "      <td>Lead Guitar, Dr. Teeth and The Electric Mayhem</td>\n",
              "      <td>33</td>\n",
              "      <td>367</td>\n",
              "      <td>3465</td>\n",
              "      <td>0</td>\n",
              "    </tr>\n",
              "    <tr>\n",
              "      <th>998</th>\n",
              "      <td>False</td>\n",
              "      <td>2018-01-02T01:12:21.000Z</td>\n",
              "      <td>947998967991762944</td>\n",
              "      <td>OF4Democracy</td>\n",
              "      <td>OF4Democracy 🇺🇸🇺🇦</td>\n",
              "      <td>Father, Husband, PhD (chemistry), Patriot, For...</td>\n",
              "      <td>4896</td>\n",
              "      <td>5193</td>\n",
              "      <td>21322</td>\n",
              "      <td>0</td>\n",
              "    </tr>\n",
              "    <tr>\n",
              "      <th>999</th>\n",
              "      <td>False</td>\n",
              "      <td>2009-02-06T04:08:07.000Z</td>\n",
              "      <td>20216078</td>\n",
              "      <td>debself</td>\n",
              "      <td>Deb Self (she/her)</td>\n",
              "      <td>🌈 Executive Director at Greater Farallones Ass...</td>\n",
              "      <td>221</td>\n",
              "      <td>377</td>\n",
              "      <td>297</td>\n",
              "      <td>18</td>\n",
              "    </tr>\n",
              "  </tbody>\n",
              "</table>\n",
              "<p>1000 rows × 10 columns</p>\n",
              "</div>\n",
              "      <button class=\"colab-df-convert\" onclick=\"convertToInteractive('df-315f1f41-30de-4683-9209-35373d522ea5')\"\n",
              "              title=\"Convert this dataframe to an interactive table.\"\n",
              "              style=\"display:none;\">\n",
              "        \n",
              "  <svg xmlns=\"http://www.w3.org/2000/svg\" height=\"24px\"viewBox=\"0 0 24 24\"\n",
              "       width=\"24px\">\n",
              "    <path d=\"M0 0h24v24H0V0z\" fill=\"none\"/>\n",
              "    <path d=\"M18.56 5.44l.94 2.06.94-2.06 2.06-.94-2.06-.94-.94-2.06-.94 2.06-2.06.94zm-11 1L8.5 8.5l.94-2.06 2.06-.94-2.06-.94L8.5 2.5l-.94 2.06-2.06.94zm10 10l.94 2.06.94-2.06 2.06-.94-2.06-.94-.94-2.06-.94 2.06-2.06.94z\"/><path d=\"M17.41 7.96l-1.37-1.37c-.4-.4-.92-.59-1.43-.59-.52 0-1.04.2-1.43.59L10.3 9.45l-7.72 7.72c-.78.78-.78 2.05 0 2.83L4 21.41c.39.39.9.59 1.41.59.51 0 1.02-.2 1.41-.59l7.78-7.78 2.81-2.81c.8-.78.8-2.07 0-2.86zM5.41 20L4 18.59l7.72-7.72 1.47 1.35L5.41 20z\"/>\n",
              "  </svg>\n",
              "      </button>\n",
              "      \n",
              "  <style>\n",
              "    .colab-df-container {\n",
              "      display:flex;\n",
              "      flex-wrap:wrap;\n",
              "      gap: 12px;\n",
              "    }\n",
              "\n",
              "    .colab-df-convert {\n",
              "      background-color: #E8F0FE;\n",
              "      border: none;\n",
              "      border-radius: 50%;\n",
              "      cursor: pointer;\n",
              "      display: none;\n",
              "      fill: #1967D2;\n",
              "      height: 32px;\n",
              "      padding: 0 0 0 0;\n",
              "      width: 32px;\n",
              "    }\n",
              "\n",
              "    .colab-df-convert:hover {\n",
              "      background-color: #E2EBFA;\n",
              "      box-shadow: 0px 1px 2px rgba(60, 64, 67, 0.3), 0px 1px 3px 1px rgba(60, 64, 67, 0.15);\n",
              "      fill: #174EA6;\n",
              "    }\n",
              "\n",
              "    [theme=dark] .colab-df-convert {\n",
              "      background-color: #3B4455;\n",
              "      fill: #D2E3FC;\n",
              "    }\n",
              "\n",
              "    [theme=dark] .colab-df-convert:hover {\n",
              "      background-color: #434B5C;\n",
              "      box-shadow: 0px 1px 3px 1px rgba(0, 0, 0, 0.15);\n",
              "      filter: drop-shadow(0px 1px 2px rgba(0, 0, 0, 0.3));\n",
              "      fill: #FFFFFF;\n",
              "    }\n",
              "  </style>\n",
              "\n",
              "      <script>\n",
              "        const buttonEl =\n",
              "          document.querySelector('#df-315f1f41-30de-4683-9209-35373d522ea5 button.colab-df-convert');\n",
              "        buttonEl.style.display =\n",
              "          google.colab.kernel.accessAllowed ? 'block' : 'none';\n",
              "\n",
              "        async function convertToInteractive(key) {\n",
              "          const element = document.querySelector('#df-315f1f41-30de-4683-9209-35373d522ea5');\n",
              "          const dataTable =\n",
              "            await google.colab.kernel.invokeFunction('convertToInteractive',\n",
              "                                                     [key], {});\n",
              "          if (!dataTable) return;\n",
              "\n",
              "          const docLinkHtml = 'Like what you see? Visit the ' +\n",
              "            '<a target=\"_blank\" href=https://colab.research.google.com/notebooks/data_table.ipynb>data table notebook</a>'\n",
              "            + ' to learn more about interactive tables.';\n",
              "          element.innerHTML = '';\n",
              "          dataTable['output_type'] = 'display_data';\n",
              "          await google.colab.output.renderOutput(dataTable, element);\n",
              "          const docLink = document.createElement('div');\n",
              "          docLink.innerHTML = docLinkHtml;\n",
              "          element.appendChild(docLink);\n",
              "        }\n",
              "      </script>\n",
              "    </div>\n",
              "  </div>\n",
              "  "
            ]
          },
          "metadata": {},
          "execution_count": 47
        }
      ]
    },
    {
      "cell_type": "code",
      "metadata": {
        "id": "TB96d8EJgwyv"
      },
      "source": [
        "# Lastly, you can collected the Twitter timelines of specified users using the \n",
        "# get_users_tweets(...) function.  In the example below, note the use of the \n",
        "# tweet_fields=... parameter.  Since we are collecting Tweet objects now, there\n",
        "# are different sets of fields and additional data that can be requested from the\n",
        "# Twitter API.\n",
        "\n",
        "# Twitter API (get_users_tweets) -https://developer.twitter.com/en/docs/twitter-api/tweets/timelines/api-reference/get-users-id-tweets\n",
        "# Twitter API (Fields) - https://developer.twitter.com/en/docs/twitter-api/fields\n",
        "# Tweepy - https://docs.tweepy.org/en/latest/client.html#tweet-fields\n",
        "\n",
        "\n",
        "williams_tweets = client.get_users_tweets(\n",
        "    id = williams.data.id ,\n",
        "    tweet_fields = [\"id\",\"created_at\", \"text\",\"public_metrics\",\n",
        "                    \"in_reply_to_user_id\",\"reply_settings\", \"source\",\n",
        "                    \"referenced_tweets\"],\n",
        "    max_results = 100)"
      ],
      "execution_count": 48,
      "outputs": []
    },
    {
      "cell_type": "code",
      "metadata": {
        "id": "5-NAoEA5icG7",
        "colab": {
          "base_uri": "https://localhost:8080/"
        },
        "outputId": "6d5c52e4-c1f6-44b6-d346-8706e3ee7088"
      },
      "source": [
        "# Inspect the resulting list of data\n",
        "\n",
        "williams_tweets.data"
      ],
      "execution_count": 49,
      "outputs": [
        {
          "output_type": "execute_result",
          "data": {
            "text/plain": [
              "[<Tweet id=1613403347884572675 text='@omigoditslucasx Born at The Medical Center…what about you?'>,\n",
              " <Tweet id=1612308513610498054 text='@bluestein @UCSDHealth Whew….you’re in San Diego. I was about to pull together a frequent flyer offering!'>,\n",
              " <Tweet id=1611712940616417284 text='Officially Sworn in for a 2nd Term. Ready to get to work for the people of the #FightingFifth! https://t.co/OpOtNMKp2F'>,\n",
              " <Tweet id=1611593575082385408 text='Fancy Nancy said, “He can’t count. I could have told him didn’t have the votes.” #GOAT𓃵 https://t.co/w5yKYozxcT'>,\n",
              " <Tweet id=1611592636975947776 text='@charmdiddy @GOP @GOPLeader Sick and tired of being sick and tired….'>,\n",
              " <Tweet id=1611239733119565824 text='@mintzess @HouseDemocrats @lucymcbath @AOC Checked on this for you! She didn’t know the shade but I did snap a close up! https://t.co/jEa7vm8j1j'>,\n",
              " <Tweet id=1611238252068864001 text='@botanicalBastrd With the Pokémon Jibbitz! We allow him to express his personal style. (within reason)'>,\n",
              " <Tweet id=1611235964567048192 text='@Vote_Chuck I’m ready to get to work Chuck, #ForThePeople!'>,\n",
              " <Tweet id=1611157108572962816 text='@TMSoutherland85 @JennMcClellanVA Hey Trevor! And hurry up Jen!'>,\n",
              " <Tweet id=1611145742885822469 text='@EmbryEthan He lost BIGLY. He just didn’t lose as many times as McCarthy.'>,\n",
              " <Tweet id=1611120526801666048 text='@SenHaroldJones Happy Founders’ Day Senator!'>,\n",
              " <Tweet id=1611061813906640897 text='@0liviajulianna We need you!'>,\n",
              " <Tweet id=1610710306916909073 text='@EricTeusink Reminding myself that @EricTeusink is a constituent…..#RollTide'>,\n",
              " <Tweet id=1610692205080973346 text='Not a Swearing-In Day pic due to the House Republicans being in chaos, confusion and crisis…..we’ll see what today brings as Democrats stand United and ready to get to work #ForThePeople! https://t.co/51cEZrcp6j'>,\n",
              " <Tweet id=1610360304298491907 text='@NolanDMcCaskill For clarity, there were actually three 7 year olds seated together, one of which was my Carter Cakes! https://t.co/z7SHUQQbQd'>,\n",
              " <Tweet id=1610356602695213056 text=\"RT @VoteRunLead: It's swearing-in day for the 118th Congress! Congratulations to our dynamic alumnae sworn in: @pettersen4co, @YadiraCarave…\">,\n",
              " <Tweet id=1608350585337831424 text='RT @SecretaryPete: Just as we’ve used our regulatory and enforcement tools to secure over $622,000,000 in refunds to hundreds of thousands…'>,\n",
              " <Tweet id=1608256287900585985 text='If it’s one thing I know about @jamie_raskin—he’s a fighter!  \\n\\nWe are all here to support you to get through this. 🙏🏾🙏🏾🙏🏾 https://t.co/SQG6vwRHZq'>,\n",
              " <Tweet id=1607439862931521545 text='@MsLaToshaBrown He has his Daddy’s entire face! Love you LaTosha!'>,\n",
              " <Tweet id=1607438759821463553 text='@HBCUPrideNation The Alpha Lyrae Vega #TalladegaCollege https://t.co/DxGp26dk9a'>,\n",
              " <Tweet id=1603143720785821697 text='@eomilami We Love You Aunt Liz! 🥰'>,\n",
              " <Tweet id=1601985299323752450 text='@Beezyology 🤣'>,\n",
              " <Tweet id=1600730572468404230 text='@RickeyCole Rickey! 💙'>,\n",
              " <Tweet id=1600476066983776256 text='If this ain’t a word! 👇🏾👇🏾👇🏾 https://t.co/cEyilfgJ1z'>,\n",
              " <Tweet id=1600475348021354502 text='@YNB @staceyabrams @MsLaToshaBrown ✊🏾✊🏾✊🏾💚💕💚💕💚'>,\n",
              " <Tweet id=1600474172429594626 text='@lifeofwylie @YNB @MsLaToshaBrown @staceyabrams 3rd it’s very different in a race against an incumbent. There is an advantage regardless of the state.\\n\\n4th this work continues. As someone who was born in GA, lives in GA, represents GA in Congress and Chairs the @GeorgiaDemocrat(s) this is only the beginning!'>,\n",
              " <Tweet id=1600473223753179137 text='@lifeofwylie @YNB @MsLaToshaBrown @staceyabrams 1st, we aren’t Blue, we are Periwinkle. \\n2nd, we are a true Battleground State. 50/50 and it was always going to be close regardless of the candidate. Don’t dismiss the work over a decade+ that made this possible but reducing it to a weak opponent. We also had legislative gains.'>,\n",
              " <Tweet id=1600444638376054784 text='@BlkLibraryGirl @TalladegaColleg HBCU Made!'>,\n",
              " <Tweet id=1600432905049714688 text='@themikecorbett @youngdems @GeorgiaDemocrat Corbett ✊🏾✊🏾✊🏾'>,\n",
              " <Tweet id=1600423488992313344 text='We’ve been slightly busy in our home the past 4 weeks \\U0001fae0 (or 4 years \\U0001fae3)\\n\\nMy hubby, @smalls58 is the quiet storm. Never seeking nor wanting acknowledgement. He’s likely blushing as he reads this 😘\\n\\nGeorgians for generations to come will benefit from his genius. Thank You Leslie! https://t.co/I2z5MJdXy7'>,\n",
              " <Tweet id=1600172453270913024 text='My Periwinkle state is sending our Senator @ReverendWarnock back to Washington for a full 6 year term! \\n\\nHave you voted today? Polls are open 7am-7pm. Go to https://t.co/gYpZYscH25 to find your polling location! #Vote #Runoff #GaDems #GaSen https://t.co/P9tNvEWt13'>,\n",
              " <Tweet id=1598462377695084544 text='Tonight. I’ll have @TheLastWord with @Lawrence talking all things Georgia and the #GaSen race! https://t.co/3hAUHEQnfQ'>,\n",
              " <Tweet id=1597013179498115072 text='We are all Roy Williams right now! https://t.co/BMphRD8kCL'>,\n",
              " <Tweet id=1596524674519011328 text='We fought and Won to bring you Saturday Voting in the #Runoff! \\n\\nCome out today and #Vote with me at 2pm at the East Point Library for our Senator @ReverendWarnock! See if your county has Saturday voting at https://t.co/9odG6Qaj5g #GaSen #GaPol https://t.co/KjyDyVGbFS'>,\n",
              " <Tweet id=1595954855553949696 text='@jzheller @bluestein 🤣'>,\n",
              " <Tweet id=1595460170041430016 text='RT @CareInActionUS: .@RepNikema has always championed care and domestic workers at every level, and she is the advocate we need for our fut…'>,\n",
              " <Tweet id=1595460020577132544 text='A win for Democracy and ALL Georgia Voters!\\n\\nIf your #vote wasn’t important, the @GaRepublicans wouldn’t be trying so hard to stop you from voting! #RunOff #GaSen https://t.co/u7LYSjh9yk'>,\n",
              " <Tweet id=1593728816278818816 text='Victory for Democracy! Saturday voting yall! #GaSen #Vote #Runoff https://t.co/FRZkdztv9K'>,\n",
              " <Tweet id=1593473095309950980 text='RT @SenNanOrrock: Fulton County Superior Court Judge Robert McBurney overturned Georgia’s ban on abortion starting around six weeks into a…'>,\n",
              " <Tweet id=1593472769999753217 text='👇🏾👇🏾👇🏾 https://t.co/veSqpd29Sn'>,\n",
              " <Tweet id=1593004129244557312 text='Wisdom, Justice, and Moderation. \\n\\nWhile we certainly disagreed often, Speaker Ralston’s presence will be missed under the Gold Dome. https://t.co/5pejXotCXX'>,\n",
              " <Tweet id=1591644241268477953 text='We’ve got next Georgia! #GASen https://t.co/v67lZbL5jy'>,\n",
              " <Tweet id=1591639643635974144 text='@kylegriffin1 Fake News. \\n\\nDonate Directly to Senator @ReverendWarnock \\n\\nhttps://t.co/vfWxMj0D77'>,\n",
              " <Tweet id=1591151616681734144 text='@JulianCastro @MarkPJonesTX That Part! Demographics aren’t destiny. We must engage in year round organizing. They might not vote for the Republicans but as we’ve seen, staying home is just as bad!'>,\n",
              " <Tweet id=1590355050156945408 text='@BeeForGeorgia @GaSecofState I’m proud to call you a friend Bee and I know that your work to fight for fair and free elections didn’t start this election cycle and nor will it stop.'>,\n",
              " <Tweet id=1590158449471807488 text='ReElected. The #FightingFifth leading the way! https://t.co/o01cVZJZdM'>,\n",
              " <Tweet id=1590103069052002304 text='Polls are open until 7pm Georgia! #Vote https://t.co/aLtHXnSYug'>,\n",
              " <Tweet id=1590067510698987520 text='Vote!!! https://t.co/jadw27jAC1'>,\n",
              " <Tweet id=1590041365656010752 text='Have you voted? #Vote #Warnock #StaceyAbrams #GaDems https://t.co/uJHNG66k1r'>,\n",
              " <Tweet id=1589975992394993664 text='VOTE!!! https://t.co/4kiRcd01SL'>,\n",
              " <Tweet id=1589779241306329088 text='RT @ossoff: Last night’s @BeeForGeorgia Summerhill GOTV push ! 🗳️🐝 https://t.co/Y8Qsir3aVF'>,\n",
              " <Tweet id=1588550322267770880 text='I voted early with my family. Today is the last day to #VoteEarly Georgia! Let’s Go!! #GaDems #GaPol https://t.co/smtIvoFUQu'>,\n",
              " <Tweet id=1586361282437218305 text='@chantellym @boddieforga @nakitahemingway @AlishaTSearcy Look at me and my boyfriend 🥰'>,\n",
              " <Tweet id=1586360913434755073 text='@ADW_esq @MurphyAJC @GeorgiaDemocrat Words to live by! #WatchMeWork'>,\n",
              " <Tweet id=1586357707938103297 text='Really @MurphyAJC 🙄 welp, won’t be the 1st time @GeorgiaDemocrat(s) have been counted out. Pretty sure you nor our friends in Washington thought we’d win in 2020/2021 either. #VoteEarly #GaDems #GaPol https://t.co/pG6leTHBcv'>,\n",
              " <Tweet id=1586172622244454400 text='RT @BetsyforGeorgia: A very energized crowd in College Park is cheering for @nikemawilliams and our statewide Dem slate including @senatorj…'>,\n",
              " <Tweet id=1585157215530647554 text='RT @e_hensley: This is big. Emory’s @DrCarrieOBGYN says GAs 6-wk ban is already hurting OBGYN recruitment. \\n\\nTheir fellowship applications…'>,\n",
              " <Tweet id=1585069211898245120 text='@BreatheNewWinds Love these!'>,\n",
              " <Tweet id=1584940125129035783 text='@RitchieTorres Questions that need answers….'>,\n",
              " <Tweet id=1583535920837320704 text='Vote Early today in Georgia through November 4th! #Vote #VoteEarly https://t.co/QEGJwyTC5m'>,\n",
              " <Tweet id=1582882356834095104 text='👇🏾👇🏾👇🏾👇🏾 #VoteEarly https://t.co/DOmFZW1oOi'>,\n",
              " <Tweet id=1582157311665004544 text='“I believe we can protect the 2nd Amendment and 2nd Graders at the same time.” Georgia’s Next Governor @staceyabrams #VoteEarly'>,\n",
              " <Tweet id=1582091780727910401 text='Everyone is voting early and you can too! Make a plan to vote yall! #VoteEarly https://t.co/9M6YjJC3kB'>,\n",
              " <Tweet id=1582088422021218305 text='It’s the first day of early voting Georgia! #VoteEarly https://t.co/JdSzLdY6Ox'>,\n",
              " <Tweet id=1581837326250278913 text='Early Voting starts tomorrow Georgia! #Vote #VoteEarly https://t.co/8qI363YCx2'>,\n",
              " <Tweet id=1579284648915763201 text='Happy Pride Y’all! \\n\\nHanging with my Senators @ossoff and @ReverendWarnock, Georgia’s next Governor @staceyabrams and the best constituents in the country in the #FightingFifth! #VoteEarly #Vote https://t.co/6OaqkbfdKu'>,\n",
              " <Tweet id=1579242502552719361 text='@EvansforGeorgia @BeeForGeorgia Jack!!! 🥰'>,\n",
              " <Tweet id=1579242342867169280 text='RT @DFAaction: Our CEO @ysimpsonpower at #ATLPride with @staceyabrams and @NikemaWilliams! 🍑🏳️\\u200d🌈 https://t.co/zdwA0gwVza'>,\n",
              " <Tweet id=1579171854706946048 text='See Y’all tomorrow 👇🏾👇🏾👇🏾 https://t.co/typ9iphM5E'>,\n",
              " <Tweet id=1578651870373228544 text='@tabpresley @RepNikema 💗💚💗💚'>,\n",
              " <Tweet id=1578649340276797442 text='Won’t be the first time we’ve been counted out….early voting starts October 17th #GADems. https://t.co/LcOg2pcTIC'>,\n",
              " <Tweet id=1574481029712183300 text='Champions. #ForTheA #WorldSeriesChampions #Atlanta #AtlantaBraves #Braves https://t.co/td5u82SX1d'>,\n",
              " <Tweet id=1572982771378982912 text='Let’s get it done! #Vote #GADems https://t.co/JufYvsMHFs'>,\n",
              " <Tweet id=1572670129414221825 text='RT @GeorgiaDemocrat: Herschel Walker wants to ban abortion in all cases, including rape, incest, and threat to the mother’s life.\\n\\nThis isn…'>,\n",
              " <Tweet id=1571660606880489477 text='RT @GeorgiaDemocrat: Today our chair @NikemaWilliams hosted @CoryBooker in Atlanta’s historically Black West End neighborhood to talk to vo…'>,\n",
              " <Tweet id=1570421459306045443 text='The $$ @BrianKempGA is spending is brought to you by Democrats in Congress. Kemp opposed the American Rescue Plan. Not one GA Republican in Congress voted for it. \\n\\nWe need FULL #MedicaidExpansion NOW not a political stunt putting politics over a half million uninsured Georgians. https://t.co/sVa9gHemJc'>,\n",
              " <Tweet id=1569448550374993920 text='57 Days Y’all! Let’s Go!!! https://t.co/BDszGvLD9V'>,\n",
              " <Tweet id=1569448391729623041 text=\"RT @fultondems: Abortion, gun reform, climate change - there's a lot at stake in the midterms. Meet the candidates across Fulton County on…\">,\n",
              " <Tweet id=1568696156586115076 text='Democrats Deliver #ForThePeople! https://t.co/EXS5yry1Mf'>,\n",
              " <Tweet id=1567687469356703745 text='@MsLaToshaBrown That baby knows how to clean a bone!'>,\n",
              " <Tweet id=1567657586853400576 text='Yesterday Carter came home saying they had a lockdown. His school got a call that someone was waving a weapon outside. Carter was happy for free time to make a bracelet for his 2nd grade crush. I’m happy he made it home safely. This is #BrianKemp’s GA. We can’t normalize this. https://t.co/29AZFzzltj'>,\n",
              " <Tweet id=1566511947453022208 text='@MTColemanJr Facts 🤣'>,\n",
              " <Tweet id=1566086185386131458 text='RT @BerniceKing: Thank you, #Serena. https://t.co/uOoxOZomd8'>,\n",
              " <Tweet id=1565795013996462081 text='That’s Congresswoman-Elect @MaryPeltola! https://t.co/yxRSW1zgl4'>,\n",
              " <Tweet id=1565793700147564544 text='Connected communities are thriving communities. @TeamPelosi is right, Transportation and Infrastructure are absolutely Justice Issues. https://t.co/EbrxiX3yu2'>,\n",
              " <Tweet id=1565433795385360386 text='Medicaid Expansion Saves Lives. And Hospitals. @BrianKempGA continues to fail Georgians playing political games and not expanding Medicaid. https://t.co/K0RJ5or74R'>,\n",
              " <Tweet id=1565163202933149697 text='“I’m just Serena…..” that’s the flex. #GOAT𓃵 https://t.co/3UBXfNp1IB'>,\n",
              " <Tweet id=1565145254373859330 text='For the 1st time in 50 years, Alaska has elected a Democrat to Congress!\\n\\nCongratulations @MaryPeltola! Welcome to the 117th Congress. In 68 days we will do it again across the country as we hold our Democratic Majority! https://t.co/P4noWyGgtP'>,\n",
              " <Tweet id=1564976158868967424 text='My colleague @AdamSchiff lays it all out. Trump was and is a national security risk. https://t.co/BhbhGwGJC3'>,\n",
              " <Tweet id=1564435582759145475 text=\"RT @MinnesotaDFL: @NikemaWilliams spoke at the Women's Leadership event. She and @TinaSmithMN, who both worked for Planned Parenthood, were…\">,\n",
              " <Tweet id=1564302901945815040 text='@BeeForGeorgia @CarterJFay @GAHSDems @GeorgiaDemocrat You couldn’t tell my baby he wasn’t one of the big boys. He said, “Mommy, they literally asked me to be in the picture too!”'>,\n",
              " <Tweet id=1564060528162607104 text='RT @fultondems: Fulton County Dems front and center as Chair @NikemaWilliams kicks off the 2022 State Convention! \\n\\n“This is a time to cele…'>,\n",
              " <Tweet id=1562545733718249476 text='Today’s Student Loan Debt Plan announcement by @POTUS will transform the lives of millions of borrowers struggling with student debt. \\n\\nMake under $125k or $250k as couple?\\n✅$20k Cancelled/Pell Grant Recipients \\n✅$10k Cancelled \\n🗓Payment Pause extended through December 31st. https://t.co/iChhzvJWXK'>,\n",
              " <Tweet id=1562270121724370944 text='Our politics were different. Our commitment to children brought us together. Saying a prayer of comfort for the Deal family tonight. #GaPol https://t.co/IGsRTcrgxH'>,\n",
              " <Tweet id=1561020608808456192 text='See what you started @smalls58!'>,\n",
              " <Tweet id=1561001053902061569 text='Excuse me….😳😳😳 https://t.co/6hNBV52BFE'>,\n",
              " <Tweet id=1560444187526447104 text='@robertwolf32 @MrMikeBlake @NBA @LetAmericaVote @WhenWeAllVote @TishJames At #Kairos we Vibe with Visionaries. Great meeting you @robertwolf32! https://t.co/AILOqIkXlj'>,\n",
              " <Tweet id=1558945797034622976 text='RT @TalladegaColleg: President Dr. Gregory J. Vincent with the Atlanta Alumni Chapter members welcoming our returning students! 🌪 #talladeg…'>,\n",
              " <Tweet id=1558185244536225793 text='@YNB Happy Birthday to my Beautiful Soror!'>]"
            ]
          },
          "metadata": {},
          "execution_count": 49
        }
      ]
    },
    {
      "cell_type": "markdown",
      "source": [
        "Analyzing tweets"
      ],
      "metadata": {
        "id": "WZ4x4kbP-VIO"
      }
    },
    {
      "cell_type": "code",
      "metadata": {
        "id": "d4pUZ_H5izGN"
      },
      "source": [
        "# Isolate the first tweet from the data\n",
        "\n",
        "tweet_0 = williams_tweets.data[0]"
      ],
      "execution_count": 50,
      "outputs": []
    },
    {
      "cell_type": "code",
      "metadata": {
        "id": "ciALFUoJi2HS",
        "colab": {
          "base_uri": "https://localhost:8080/"
        },
        "outputId": "4cbca395-86f8-4892-dfb6-02dbe11d69a2"
      },
      "source": [
        "# Like all of the other data objects, there is a .data attribute that can show\n",
        "# all of the information contained in the object.\n",
        "\n",
        "tweet_0.data"
      ],
      "execution_count": 51,
      "outputs": [
        {
          "output_type": "execute_result",
          "data": {
            "text/plain": [
              "{'in_reply_to_user_id': '1412664438356914178',\n",
              " 'referenced_tweets': [{'type': 'replied_to', 'id': '1613321794890465280'}],\n",
              " 'reply_settings': 'everyone',\n",
              " 'created_at': '2023-01-12T05:11:48.000Z',\n",
              " 'text': '@omigoditslucasx Born at The Medical Center…what about you?',\n",
              " 'id': '1613403347884572675',\n",
              " 'edit_history_tweet_ids': ['1613403347884572675'],\n",
              " 'public_metrics': {'retweet_count': 1,\n",
              "  'reply_count': 2,\n",
              "  'like_count': 1,\n",
              "  'quote_count': 0,\n",
              "  'impression_count': 546}}"
            ]
          },
          "metadata": {},
          "execution_count": 51
        }
      ]
    },
    {
      "cell_type": "code",
      "metadata": {
        "id": "R29FfcdXm9WZ",
        "colab": {
          "base_uri": "https://localhost:8080/"
        },
        "outputId": "ee4294e1-482e-4de0-f6e3-5f6fa19080c5"
      },
      "source": [
        "# Loop through the data and simply print(...) the information on screen.\n",
        "# This is just a simple way to preview the timeline of tweets.\n",
        "\n",
        "for i in williams_tweets.data:\n",
        "  print(\"----------------------------\")\n",
        "  print(i.created_at , \"\\t\" , i.text)"
      ],
      "execution_count": 52,
      "outputs": [
        {
          "output_type": "stream",
          "name": "stdout",
          "text": [
            "----------------------------\n",
            "2023-01-12 05:11:48+00:00 \t @omigoditslucasx Born at The Medical Center…what about you?\n",
            "----------------------------\n",
            "2023-01-09 04:41:19+00:00 \t @bluestein @UCSDHealth Whew….you’re in San Diego. I was about to pull together a frequent flyer offering!\n",
            "----------------------------\n",
            "2023-01-07 13:14:43+00:00 \t Officially Sworn in for a 2nd Term. Ready to get to work for the people of the #FightingFifth! https://t.co/OpOtNMKp2F\n",
            "----------------------------\n",
            "2023-01-07 05:20:24+00:00 \t Fancy Nancy said, “He can’t count. I could have told him didn’t have the votes.” #GOAT𓃵 https://t.co/w5yKYozxcT\n",
            "----------------------------\n",
            "2023-01-07 05:16:41+00:00 \t @charmdiddy @GOP @GOPLeader Sick and tired of being sick and tired….\n",
            "----------------------------\n",
            "2023-01-06 05:54:22+00:00 \t @mintzess @HouseDemocrats @lucymcbath @AOC Checked on this for you! She didn’t know the shade but I did snap a close up! https://t.co/jEa7vm8j1j\n",
            "----------------------------\n",
            "2023-01-06 05:48:29+00:00 \t @botanicalBastrd With the Pokémon Jibbitz! We allow him to express his personal style. (within reason)\n",
            "----------------------------\n",
            "2023-01-06 05:39:23+00:00 \t @Vote_Chuck I’m ready to get to work Chuck, #ForThePeople!\n",
            "----------------------------\n",
            "2023-01-06 00:26:03+00:00 \t @TMSoutherland85 @JennMcClellanVA Hey Trevor! And hurry up Jen!\n",
            "----------------------------\n",
            "2023-01-05 23:40:53+00:00 \t @EmbryEthan He lost BIGLY. He just didn’t lose as many times as McCarthy.\n",
            "----------------------------\n",
            "2023-01-05 22:00:41+00:00 \t @SenHaroldJones Happy Founders’ Day Senator!\n",
            "----------------------------\n",
            "2023-01-05 18:07:23+00:00 \t @0liviajulianna We need you!\n",
            "----------------------------\n",
            "2023-01-04 18:50:37+00:00 \t @EricTeusink Reminding myself that @EricTeusink is a constituent…..#RollTide\n",
            "----------------------------\n",
            "2023-01-04 17:38:41+00:00 \t Not a Swearing-In Day pic due to the House Republicans being in chaos, confusion and crisis…..we’ll see what today brings as Democrats stand United and ready to get to work #ForThePeople! https://t.co/51cEZrcp6j\n",
            "----------------------------\n",
            "2023-01-03 19:39:50+00:00 \t @NolanDMcCaskill For clarity, there were actually three 7 year olds seated together, one of which was my Carter Cakes! https://t.co/z7SHUQQbQd\n",
            "----------------------------\n",
            "2023-01-03 19:25:07+00:00 \t RT @VoteRunLead: It's swearing-in day for the 118th Congress! Congratulations to our dynamic alumnae sworn in: @pettersen4co, @YadiraCarave…\n",
            "----------------------------\n",
            "2022-12-29 06:33:55+00:00 \t RT @SecretaryPete: Just as we’ve used our regulatory and enforcement tools to secure over $622,000,000 in refunds to hundreds of thousands…\n",
            "----------------------------\n",
            "2022-12-29 00:19:13+00:00 \t If it’s one thing I know about @jamie_raskin—he’s a fighter!  \n",
            "\n",
            "We are all here to support you to get through this. 🙏🏾🙏🏾🙏🏾 https://t.co/SQG6vwRHZq\n",
            "----------------------------\n",
            "2022-12-26 18:15:02+00:00 \t @MsLaToshaBrown He has his Daddy’s entire face! Love you LaTosha!\n",
            "----------------------------\n",
            "2022-12-26 18:10:39+00:00 \t @HBCUPrideNation The Alpha Lyrae Vega #TalladegaCollege https://t.co/DxGp26dk9a\n",
            "----------------------------\n",
            "2022-12-14 21:43:42+00:00 \t @eomilami We Love You Aunt Liz! 🥰\n",
            "----------------------------\n",
            "2022-12-11 17:00:33+00:00 \t @Beezyology 🤣\n",
            "----------------------------\n",
            "2022-12-08 05:54:43+00:00 \t @RickeyCole Rickey! 💙\n",
            "----------------------------\n",
            "2022-12-07 13:03:24+00:00 \t If this ain’t a word! 👇🏾👇🏾👇🏾 https://t.co/cEyilfgJ1z\n",
            "----------------------------\n",
            "2022-12-07 13:00:33+00:00 \t @YNB @staceyabrams @MsLaToshaBrown ✊🏾✊🏾✊🏾💚💕💚💕💚\n",
            "----------------------------\n",
            "2022-12-07 12:55:52+00:00 \t @lifeofwylie @YNB @MsLaToshaBrown @staceyabrams 3rd it’s very different in a race against an incumbent. There is an advantage regardless of the state.\n",
            "\n",
            "4th this work continues. As someone who was born in GA, lives in GA, represents GA in Congress and Chairs the @GeorgiaDemocrat(s) this is only the beginning!\n",
            "----------------------------\n",
            "2022-12-07 12:52:06+00:00 \t @lifeofwylie @YNB @MsLaToshaBrown @staceyabrams 1st, we aren’t Blue, we are Periwinkle. \n",
            "2nd, we are a true Battleground State. 50/50 and it was always going to be close regardless of the candidate. Don’t dismiss the work over a decade+ that made this possible but reducing it to a weak opponent. We also had legislative gains.\n",
            "----------------------------\n",
            "2022-12-07 10:58:31+00:00 \t @BlkLibraryGirl @TalladegaColleg HBCU Made!\n",
            "----------------------------\n",
            "2022-12-07 10:11:53+00:00 \t @themikecorbett @youngdems @GeorgiaDemocrat Corbett ✊🏾✊🏾✊🏾\n",
            "----------------------------\n",
            "2022-12-07 09:34:28+00:00 \t We’ve been slightly busy in our home the past 4 weeks 🫠 (or 4 years 🫣)\n",
            "\n",
            "My hubby, @smalls58 is the quiet storm. Never seeking nor wanting acknowledgement. He’s likely blushing as he reads this 😘\n",
            "\n",
            "Georgians for generations to come will benefit from his genius. Thank You Leslie! https://t.co/I2z5MJdXy7\n",
            "----------------------------\n",
            "2022-12-06 16:56:57+00:00 \t My Periwinkle state is sending our Senator @ReverendWarnock back to Washington for a full 6 year term! \n",
            "\n",
            "Have you voted today? Polls are open 7am-7pm. Go to https://t.co/gYpZYscH25 to find your polling location! #Vote #Runoff #GaDems #GaSen https://t.co/P9tNvEWt13\n",
            "----------------------------\n",
            "2022-12-01 23:41:43+00:00 \t Tonight. I’ll have @TheLastWord with @Lawrence talking all things Georgia and the #GaSen race! https://t.co/3hAUHEQnfQ\n",
            "----------------------------\n",
            "2022-11-27 23:43:07+00:00 \t We are all Roy Williams right now! https://t.co/BMphRD8kCL\n",
            "----------------------------\n",
            "2022-11-26 15:21:59+00:00 \t We fought and Won to bring you Saturday Voting in the #Runoff! \n",
            "\n",
            "Come out today and #Vote with me at 2pm at the East Point Library for our Senator @ReverendWarnock! See if your county has Saturday voting at https://t.co/9odG6Qaj5g #GaSen #GaPol https://t.co/KjyDyVGbFS\n",
            "----------------------------\n",
            "2022-11-25 01:37:43+00:00 \t @jzheller @bluestein 🤣\n",
            "----------------------------\n",
            "2022-11-23 16:52:01+00:00 \t RT @CareInActionUS: .@RepNikema has always championed care and domestic workers at every level, and she is the advocate we need for our fut…\n",
            "----------------------------\n",
            "2022-11-23 16:51:25+00:00 \t A win for Democracy and ALL Georgia Voters!\n",
            "\n",
            "If your #vote wasn’t important, the @GaRepublicans wouldn’t be trying so hard to stop you from voting! #RunOff #GaSen https://t.co/u7LYSjh9yk\n",
            "----------------------------\n",
            "2022-11-18 22:12:14+00:00 \t Victory for Democracy! Saturday voting yall! #GaSen #Vote #Runoff https://t.co/FRZkdztv9K\n",
            "----------------------------\n",
            "2022-11-18 05:16:05+00:00 \t RT @SenNanOrrock: Fulton County Superior Court Judge Robert McBurney overturned Georgia’s ban on abortion starting around six weeks into a…\n",
            "----------------------------\n",
            "2022-11-18 05:14:48+00:00 \t 👇🏾👇🏾👇🏾 https://t.co/veSqpd29Sn\n",
            "----------------------------\n",
            "2022-11-16 22:12:35+00:00 \t Wisdom, Justice, and Moderation. \n",
            "\n",
            "While we certainly disagreed often, Speaker Ralston’s presence will be missed under the Gold Dome. https://t.co/5pejXotCXX\n",
            "----------------------------\n",
            "2022-11-13 04:08:53+00:00 \t We’ve got next Georgia! #GASen https://t.co/v67lZbL5jy\n",
            "----------------------------\n",
            "2022-11-13 03:50:36+00:00 \t @kylegriffin1 Fake News. \n",
            "\n",
            "Donate Directly to Senator @ReverendWarnock \n",
            "\n",
            "https://t.co/vfWxMj0D77\n",
            "----------------------------\n",
            "2022-11-11 19:31:22+00:00 \t @JulianCastro @MarkPJonesTX That Part! Demographics aren’t destiny. We must engage in year round organizing. They might not vote for the Republicans but as we’ve seen, staying home is just as bad!\n",
            "----------------------------\n",
            "2022-11-09 14:46:05+00:00 \t @BeeForGeorgia @GaSecofState I’m proud to call you a friend Bee and I know that your work to fight for fair and free elections didn’t start this election cycle and nor will it stop.\n",
            "----------------------------\n",
            "2022-11-09 01:44:52+00:00 \t ReElected. The #FightingFifth leading the way! https://t.co/o01cVZJZdM\n",
            "----------------------------\n",
            "2022-11-08 22:04:49+00:00 \t Polls are open until 7pm Georgia! #Vote https://t.co/aLtHXnSYug\n",
            "----------------------------\n",
            "2022-11-08 19:43:31+00:00 \t Vote!!! https://t.co/jadw27jAC1\n",
            "----------------------------\n",
            "2022-11-08 17:59:37+00:00 \t Have you voted? #Vote #Warnock #StaceyAbrams #GaDems https://t.co/uJHNG66k1r\n",
            "----------------------------\n",
            "2022-11-08 13:39:51+00:00 \t VOTE!!! https://t.co/4kiRcd01SL\n",
            "----------------------------\n",
            "2022-11-08 00:38:02+00:00 \t RT @ossoff: Last night’s @BeeForGeorgia Summerhill GOTV push ! 🗳️🐝 https://t.co/Y8Qsir3aVF\n",
            "----------------------------\n",
            "2022-11-04 15:14:45+00:00 \t I voted early with my family. Today is the last day to #VoteEarly Georgia! Let’s Go!! #GaDems #GaPol https://t.co/smtIvoFUQu\n",
            "----------------------------\n",
            "2022-10-29 14:16:17+00:00 \t @chantellym @boddieforga @nakitahemingway @AlishaTSearcy Look at me and my boyfriend 🥰\n",
            "----------------------------\n",
            "2022-10-29 14:14:49+00:00 \t @ADW_esq @MurphyAJC @GeorgiaDemocrat Words to live by! #WatchMeWork\n",
            "----------------------------\n",
            "2022-10-29 14:02:05+00:00 \t Really @MurphyAJC 🙄 welp, won’t be the 1st time @GeorgiaDemocrat(s) have been counted out. Pretty sure you nor our friends in Washington thought we’d win in 2020/2021 either. #VoteEarly #GaDems #GaPol https://t.co/pG6leTHBcv\n",
            "----------------------------\n",
            "2022-10-29 01:46:37+00:00 \t RT @BetsyforGeorgia: A very energized crowd in College Park is cheering for @nikemawilliams and our statewide Dem slate including @senatorj…\n",
            "----------------------------\n",
            "2022-10-26 06:31:45+00:00 \t RT @e_hensley: This is big. Emory’s @DrCarrieOBGYN says GAs 6-wk ban is already hurting OBGYN recruitment. \n",
            "\n",
            "Their fellowship applications…\n",
            "----------------------------\n",
            "2022-10-26 00:42:03+00:00 \t @BreatheNewWinds Love these!\n",
            "----------------------------\n",
            "2022-10-25 16:09:07+00:00 \t @RitchieTorres Questions that need answers….\n",
            "----------------------------\n",
            "2022-10-21 19:09:18+00:00 \t Vote Early today in Georgia through November 4th! #Vote #VoteEarly https://t.co/QEGJwyTC5m\n",
            "----------------------------\n",
            "2022-10-19 23:52:17+00:00 \t 👇🏾👇🏾👇🏾👇🏾 #VoteEarly https://t.co/DOmFZW1oOi\n",
            "----------------------------\n",
            "2022-10-17 23:51:12+00:00 \t “I believe we can protect the 2nd Amendment and 2nd Graders at the same time.” Georgia’s Next Governor @staceyabrams #VoteEarly\n",
            "----------------------------\n",
            "2022-10-17 19:30:49+00:00 \t Everyone is voting early and you can too! Make a plan to vote yall! #VoteEarly https://t.co/9M6YjJC3kB\n",
            "----------------------------\n",
            "2022-10-17 19:17:28+00:00 \t It’s the first day of early voting Georgia! #VoteEarly https://t.co/JdSzLdY6Ox\n",
            "----------------------------\n",
            "2022-10-17 02:39:42+00:00 \t Early Voting starts tomorrow Georgia! #Vote #VoteEarly https://t.co/8qI363YCx2\n",
            "----------------------------\n",
            "2022-10-10 01:36:16+00:00 \t Happy Pride Y’all! \n",
            "\n",
            "Hanging with my Senators @ossoff and @ReverendWarnock, Georgia’s next Governor @staceyabrams and the best constituents in the country in the #FightingFifth! #VoteEarly #Vote https://t.co/6OaqkbfdKu\n",
            "----------------------------\n",
            "2022-10-09 22:48:48+00:00 \t @EvansforGeorgia @BeeForGeorgia Jack!!! 🥰\n",
            "----------------------------\n",
            "2022-10-09 22:48:10+00:00 \t RT @DFAaction: Our CEO @ysimpsonpower at #ATLPride with @staceyabrams and @NikemaWilliams! 🍑🏳️‍🌈 https://t.co/zdwA0gwVza\n",
            "----------------------------\n",
            "2022-10-09 18:08:04+00:00 \t See Y’all tomorrow 👇🏾👇🏾👇🏾 https://t.co/typ9iphM5E\n",
            "----------------------------\n",
            "2022-10-08 07:41:50+00:00 \t @tabpresley @RepNikema 💗💚💗💚\n",
            "----------------------------\n",
            "2022-10-08 07:31:47+00:00 \t Won’t be the first time we’ve been counted out….early voting starts October 17th #GADems. https://t.co/LcOg2pcTIC\n",
            "----------------------------\n",
            "2022-09-26 19:28:24+00:00 \t Champions. #ForTheA #WorldSeriesChampions #Atlanta #AtlantaBraves #Braves https://t.co/td5u82SX1d\n",
            "----------------------------\n",
            "2022-09-22 16:14:51+00:00 \t Let’s get it done! #Vote #GADems https://t.co/JufYvsMHFs\n",
            "----------------------------\n",
            "2022-09-21 19:32:32+00:00 \t RT @GeorgiaDemocrat: Herschel Walker wants to ban abortion in all cases, including rape, incest, and threat to the mother’s life.\n",
            "\n",
            "This isn…\n",
            "----------------------------\n",
            "2022-09-19 00:41:03+00:00 \t RT @GeorgiaDemocrat: Today our chair @NikemaWilliams hosted @CoryBooker in Atlanta’s historically Black West End neighborhood to talk to vo…\n",
            "----------------------------\n",
            "2022-09-15 14:37:07+00:00 \t The $$ @BrianKempGA is spending is brought to you by Democrats in Congress. Kemp opposed the American Rescue Plan. Not one GA Republican in Congress voted for it. \n",
            "\n",
            "We need FULL #MedicaidExpansion NOW not a political stunt putting politics over a half million uninsured Georgians. https://t.co/sVa9gHemJc\n",
            "----------------------------\n",
            "2022-09-12 22:11:08+00:00 \t 57 Days Y’all! Let’s Go!!! https://t.co/BDszGvLD9V\n",
            "----------------------------\n",
            "2022-09-12 22:10:30+00:00 \t RT @fultondems: Abortion, gun reform, climate change - there's a lot at stake in the midterms. Meet the candidates across Fulton County on…\n",
            "----------------------------\n",
            "2022-09-10 20:21:23+00:00 \t Democrats Deliver #ForThePeople! https://t.co/EXS5yry1Mf\n",
            "----------------------------\n",
            "2022-09-08 01:33:13+00:00 \t @MsLaToshaBrown That baby knows how to clean a bone!\n",
            "----------------------------\n",
            "2022-09-07 23:34:29+00:00 \t Yesterday Carter came home saying they had a lockdown. His school got a call that someone was waving a weapon outside. Carter was happy for free time to make a bracelet for his 2nd grade crush. I’m happy he made it home safely. This is #BrianKemp’s GA. We can’t normalize this. https://t.co/29AZFzzltj\n",
            "----------------------------\n",
            "2022-09-04 19:42:07+00:00 \t @MTColemanJr Facts 🤣\n",
            "----------------------------\n",
            "2022-09-03 15:30:17+00:00 \t RT @BerniceKing: Thank you, #Serena. https://t.co/uOoxOZomd8\n",
            "----------------------------\n",
            "2022-09-02 20:13:17+00:00 \t That’s Congresswoman-Elect @MaryPeltola! https://t.co/yxRSW1zgl4\n",
            "----------------------------\n",
            "2022-09-02 20:08:03+00:00 \t Connected communities are thriving communities. @TeamPelosi is right, Transportation and Infrastructure are absolutely Justice Issues. https://t.co/EbrxiX3yu2\n",
            "----------------------------\n",
            "2022-09-01 20:17:55+00:00 \t Medicaid Expansion Saves Lives. And Hospitals. @BrianKempGA continues to fail Georgians playing political games and not expanding Medicaid. https://t.co/K0RJ5or74R\n",
            "----------------------------\n",
            "2022-09-01 02:22:41+00:00 \t “I’m just Serena…..” that’s the flex. #GOAT𓃵 https://t.co/3UBXfNp1IB\n",
            "----------------------------\n",
            "2022-09-01 01:11:22+00:00 \t For the 1st time in 50 years, Alaska has elected a Democrat to Congress!\n",
            "\n",
            "Congratulations @MaryPeltola! Welcome to the 117th Congress. In 68 days we will do it again across the country as we hold our Democratic Majority! https://t.co/P4noWyGgtP\n",
            "----------------------------\n",
            "2022-08-31 13:59:26+00:00 \t My colleague @AdamSchiff lays it all out. Trump was and is a national security risk. https://t.co/BhbhGwGJC3\n",
            "----------------------------\n",
            "2022-08-30 02:11:23+00:00 \t RT @MinnesotaDFL: @NikemaWilliams spoke at the Women's Leadership event. She and @TinaSmithMN, who both worked for Planned Parenthood, were…\n",
            "----------------------------\n",
            "2022-08-29 17:24:09+00:00 \t @BeeForGeorgia @CarterJFay @GAHSDems @GeorgiaDemocrat You couldn’t tell my baby he wasn’t one of the big boys. He said, “Mommy, they literally asked me to be in the picture too!”\n",
            "----------------------------\n",
            "2022-08-29 01:21:03+00:00 \t RT @fultondems: Fulton County Dems front and center as Chair @NikemaWilliams kicks off the 2022 State Convention! \n",
            "\n",
            "“This is a time to cele…\n",
            "----------------------------\n",
            "2022-08-24 21:01:48+00:00 \t Today’s Student Loan Debt Plan announcement by @POTUS will transform the lives of millions of borrowers struggling with student debt. \n",
            "\n",
            "Make under $125k or $250k as couple?\n",
            "✅$20k Cancelled/Pell Grant Recipients \n",
            "✅$10k Cancelled \n",
            "🗓Payment Pause extended through December 31st. https://t.co/iChhzvJWXK\n",
            "----------------------------\n",
            "2022-08-24 02:46:37+00:00 \t Our politics were different. Our commitment to children brought us together. Saying a prayer of comfort for the Deal family tonight. #GaPol https://t.co/IGsRTcrgxH\n",
            "----------------------------\n",
            "2022-08-20 16:01:30+00:00 \t See what you started @smalls58!\n",
            "----------------------------\n",
            "2022-08-20 14:43:47+00:00 \t Excuse me….😳😳😳 https://t.co/6hNBV52BFE\n",
            "----------------------------\n",
            "2022-08-19 01:51:00+00:00 \t @robertwolf32 @MrMikeBlake @NBA @LetAmericaVote @WhenWeAllVote @TishJames At #Kairos we Vibe with Visionaries. Great meeting you @robertwolf32! https://t.co/AILOqIkXlj\n",
            "----------------------------\n",
            "2022-08-14 22:36:56+00:00 \t RT @TalladegaColleg: President Dr. Gregory J. Vincent with the Atlanta Alumni Chapter members welcoming our returning students! 🌪 #talladeg…\n",
            "----------------------------\n",
            "2022-08-12 20:14:46+00:00 \t @YNB Happy Birthday to my Beautiful Soror!\n"
          ]
        }
      ]
    },
    {
      "cell_type": "code",
      "metadata": {
        "id": "lhDLkQtYnHCg"
      },
      "source": [
        "# Construct a Pandas DataFrame from the data\n",
        "\n",
        "williams_tweets_df = pd.DataFrame()\n",
        "\n",
        "for i in williams_tweets.data:\n",
        "  temp_df = pd.json_normalize( i.data , sep=\"_\")\n",
        "  williams_tweets_df = williams_tweets_df.append(temp_df, ignore_index=True)"
      ],
      "execution_count": null,
      "outputs": []
    },
    {
      "cell_type": "code",
      "metadata": {
        "id": "tyw28oNKns3b"
      },
      "source": [
        "# Inspect the dataframe\n",
        "\n",
        "williams_tweets_df"
      ],
      "execution_count": null,
      "outputs": []
    },
    {
      "cell_type": "markdown",
      "metadata": {
        "id": "_1EvgbrNi3VY"
      },
      "source": [
        "# Part 3 - Practice"
      ]
    },
    {
      "cell_type": "markdown",
      "metadata": {
        "id": "jWPpQ5vpu05J"
      },
      "source": [
        "Using the outlines below, fill in all of ??? in the following blocks of code.  This is simply meant to ensure you understand how to modify and tweak code to produce outputs."
      ]
    },
    {
      "cell_type": "code",
      "metadata": {
        "id": "0-z50zoozgX1"
      },
      "source": [
        "# Create an object to represent the user-account for a Twitter account of your choice.\n",
        "\n",
        "??? = client.get_user(\n",
        "    username = \"???\",\n",
        "    user_fields = [\"created_at\", \"description\",\"public_metrics\",\"verified\",],\n",
        ")"
      ],
      "execution_count": null,
      "outputs": []
    },
    {
      "cell_type": "code",
      "metadata": {
        "id": "eXXW9SkUz_k_"
      },
      "source": [
        "# Display the user's id value\n",
        "\n",
        "print( ???.data.id )"
      ],
      "execution_count": null,
      "outputs": []
    },
    {
      "cell_type": "code",
      "metadata": {
        "id": "W7q4ctZPz6tz"
      },
      "source": [
        "# Use the .get_users_tweets(...) function to collect the latest 100 items from \n",
        "# the user's timeline using the user's id.  You can also explicilty define some \n",
        "# tweet_fields (or delete that parameter entirely)\n",
        "\n",
        "practice_tweets = client.???(\n",
        "    id = ???.???.??? ,\n",
        "    tweet_fields = [ \"???\" , \"???\", \"???\" , \"???\" ,] ,\n",
        "    max_results = 100)"
      ],
      "execution_count": null,
      "outputs": []
    },
    {
      "cell_type": "code",
      "metadata": {
        "id": "14Zka33qzgU4"
      },
      "source": [
        "# Construct and inspect a dataframe of collected tweets (nothing to fix here)\n",
        "practice_tweets_df = pd.DataFrame()\n",
        "\n",
        "for i in practice_tweets.data:\n",
        "  temp_df = pd.json_normalize( i.data , sep=\"_\")\n",
        "  practice_tweets_df = practice_tweets_df.append(temp_df, ignore_index=True)\n",
        "\n",
        "# Inspect data\n",
        "practice_tweets_df"
      ],
      "execution_count": null,
      "outputs": []
    },
    {
      "cell_type": "markdown",
      "metadata": {
        "id": "Up2i_1u93d1Z"
      },
      "source": [
        "# Part 4 - Search & API Parameters"
      ]
    },
    {
      "cell_type": "markdown",
      "metadata": {
        "id": "zDQ4M9R21e4q"
      },
      "source": [
        "Separate from looking up known accounts and connected information, one of the most powerful facets of the Twitter API is the ability to conduct robust and complicated searches for tweets from all across the platform.\n",
        "\n",
        "It is important to note that in Twitter API v2, \"Academic\" developer accounts have free access to API endpoints that allow for searching through all Tweets from the very beginning of Twitter AND more robust search options overall.  This workshop strictly focuses on the non-Academic Twitter API options, but academic researchers are strongly encouraged to apply for an [\"Academic\" developer account](https://developer.twitter.com/en/solutions/academic-research) with Twitter (it's worth it!).\n",
        "\n",
        "Search (Standard / Core)\n",
        "* Tweepy - https://docs.tweepy.org/en/latest/client.html#tweepy.Client.search_recent_tweets\n",
        "* Twitter API - https://developer.twitter.com/en/docs/twitter-api/tweets/search/api-reference/get-tweets-search-recent\n",
        "\n",
        "Search (Academic / Full Archive Search)\n",
        "* Tweepy - https://docs.tweepy.org/en/latest/client.html#tweepy.Client.search_all_tweets\n",
        "* Twitter API - https://developer.twitter.com/en/docs/twitter-api/tweets/search/api-reference/get-tweets-search-all\n"
      ]
    },
    {
      "cell_type": "code",
      "metadata": {
        "id": "yDvd2wgG02BQ"
      },
      "source": [
        "# To get started, you can use the search_recent_tweets(...) function and the \n",
        "# only parameter that must be specified is the query=... field.  In the example\n",
        "# below, max_results is also specified to ensure that we explicitly limit the \n",
        "# volume of requests sent to the Twitter API (more on this in Part 5).\n",
        "\n",
        "search = client.search_recent_tweets(\n",
        "    query = \"atlanta\",\n",
        "    max_results = 10\n",
        ")"
      ],
      "execution_count": null,
      "outputs": []
    },
    {
      "cell_type": "code",
      "metadata": {
        "id": "vGFEQc9I4BcB"
      },
      "source": [
        "# Inspect the data, note all of the objects in the list represent tweets\n",
        "# from sometime in the past 7 days.\n",
        "\n",
        "search.data[0].data"
      ],
      "execution_count": null,
      "outputs": []
    },
    {
      "cell_type": "code",
      "metadata": {
        "id": "PT_uVfqDLSK_"
      },
      "source": [
        "# The query=... parameter can take very precise search requirements when used\n",
        "# with the appropriate operators.\n",
        "\n",
        "# Twitter API - https://developer.twitter.com/en/docs/twitter-api/tweets/search/integrate/build-a-query\n",
        "\n",
        "# Below are some sample queries and explanations:\n",
        "\n",
        "# \"atlanta\"                              search for \"atlanta\"\n",
        "# \"(atlanta OR atl)\"                     search for \"atlanta\" or \"atl\"\n",
        "# \"atlanta -is:retweet\"                  search for \"atlanta\", but exclude retweets\n",
        "# \"atlanta lang:es -is:retweet\"          search for \"atlanta\", language is Spanish, retweets excluded\n",
        "# \"@GeorgiaStateU -from:GeorgiaStateU\"   search for mentions of \"@GeorgiaStateU\", but exclude tweets from @GeorgiaStateU\n",
        "\n",
        "# Try a search with a more advanced query!\n",
        "\n",
        "search = client.search_recent_tweets(\n",
        "    query = \"@GeorgiaStateU -from:GeorgiaStateU\",\n",
        "    max_results = 10\n",
        ")"
      ],
      "execution_count": null,
      "outputs": []
    },
    {
      "cell_type": "code",
      "metadata": {
        "id": "0qHTiVdjhu8G"
      },
      "source": [
        "# Inspect / preview the tweet data\n",
        "search.data"
      ],
      "execution_count": null,
      "outputs": []
    },
    {
      "cell_type": "code",
      "metadata": {
        "id": "jPG0rAtcMX8L"
      },
      "source": [
        "# \"Standard\" API users can included query strings that are up to 512 characters long\n",
        "# \"Academic\" API users can include query strings that are up to 1024 characters long\n",
        "\n",
        "search = client.search_recent_tweets(\n",
        "    query = \"nintendo has:media lang:en is:verified -is:retweet -is:reply -is:quote\",\n",
        "    max_results = 10\n",
        ")\n",
        "\n",
        "# Inspect / preview the tweet data\n",
        "search.data"
      ],
      "execution_count": null,
      "outputs": []
    },
    {
      "cell_type": "code",
      "metadata": {
        "id": "3behDRNCcuVm"
      },
      "source": [
        "# Just like with prior examples, the scope of data collected from the API is\n",
        "# tied to the expansions and various ..._fields parameters.  The example below \n",
        "# shows many of these options being incorporated into a search.\n",
        "\n",
        "# Field Options - Twitter API - https://developer.twitter.com/en/docs/twitter-api/tweets/search/api-reference/get-tweets-search-recent\n",
        "\n",
        "search = client.search_recent_tweets(\n",
        "    # Query\n",
        "    query = \"#latteart has:images lang:en\",    \n",
        "    \n",
        "    # Define a few required Expansions fields\n",
        "    expansions = [\"attachments.media_keys\" , \"author_id\"],\n",
        "    \n",
        "    # Specify tweet fields of interest\n",
        "    tweet_fields = [\"attachments\",\"created_at\", \"entities\", \"geo\", \"id\",\"public_metrics\",\"possibly_sensitive\", \"source\", \"text\",],\n",
        "    \n",
        "    # Specify media fields of interest\n",
        "    media_fields = [\"url\",\"height\",\"width\",\"public_metrics\",\"media_key\"],\n",
        "    \n",
        "    # Specify user fields of interest\n",
        "    user_fields = [\"id\", \"name\", \"public_metrics\", \"username\", \"verified\"] ,\n",
        "\n",
        "    # Define the maximum number of tweets to request\n",
        "    max_results = 15\n",
        ")"
      ],
      "execution_count": null,
      "outputs": []
    },
    {
      "cell_type": "code",
      "metadata": {
        "id": "N4FzHrmvc7y2"
      },
      "source": [
        "# All of the resulting tweets should contains images as well as many additional data-fields.\n",
        "\n",
        "search.data"
      ],
      "execution_count": null,
      "outputs": []
    },
    {
      "cell_type": "code",
      "metadata": {
        "id": "T6rwpvQ6eB5A"
      },
      "source": [
        "# Within the search results, we can drill down to the raw data for individual tweets.\n",
        "\n",
        "# search.data[1]\n",
        "search.data[1].data"
      ],
      "execution_count": null,
      "outputs": []
    },
    {
      "cell_type": "code",
      "metadata": {
        "id": "uyzmfCMcdgGW"
      },
      "source": [
        "# Since we used a variety of fields in our original query, the .includes attribute\n",
        "# contains a lot of attached data and associated fields.  The example below shows\n",
        "# both \"media\" and \"user\" groupings of additional data not visible in the \n",
        "# search.data.... components.\n",
        "\n",
        "search.includes"
      ],
      "execution_count": null,
      "outputs": []
    },
    {
      "cell_type": "code",
      "metadata": {
        "id": "e26-v0lTgJV9"
      },
      "source": [
        "# Different subsets of .includes can be accessed using [...]\n",
        "\n",
        "search.includes[\"media\"]"
      ],
      "execution_count": null,
      "outputs": []
    },
    {
      "cell_type": "code",
      "metadata": {
        "id": "BWp7WQAOgMD_"
      },
      "source": [
        "# Isolate a specific item in the list\n",
        "\n",
        "search.includes[\"media\"][1]"
      ],
      "execution_count": null,
      "outputs": []
    },
    {
      "cell_type": "code",
      "metadata": {
        "id": "ZL6nMJW7c8nF"
      },
      "source": [
        "# Inspect the data associated with the included media-field requests\n",
        "\n",
        "search.includes[\"media\"][1].data"
      ],
      "execution_count": null,
      "outputs": []
    },
    {
      "cell_type": "code",
      "metadata": {
        "id": "-l5Ej6EPgVga"
      },
      "source": [
        "# Using for-loops and Pandas DataFrame, you can reorganize and merge the data\n",
        "# into a (possibly) more intuitive table form.\n",
        "\n",
        "######\n",
        "# Create search_df, containing the Tweet data\n",
        "search_df = pd.DataFrame()\n",
        "\n",
        "for i in search.data:\n",
        "  temp_data = pd.json_normalize( i.data ,  sep = \"_\")\n",
        "  search_df = search_df.append(temp_data,ignore_index=True)\n",
        "\n",
        "search_df[\"attachments_media_keys\"] = search_df[\"attachments_media_keys\"].str[0]\n",
        "\n",
        "######\n",
        "# Create search_media_df, containing the media data\n",
        "search_media_df = pd.DataFrame()\n",
        "\n",
        "for i in search.includes[\"media\"]:\n",
        "  temp_data = pd.json_normalize( i.data ,  sep = \"_\")\n",
        "  search_media_df = search_media_df.append(temp_data,ignore_index=True)\n",
        "\n",
        "######\n",
        "# Merge the search_df and search_media_df dataframes together.\n",
        "combined_df = search_df.merge(search_media_df, left_on=\"attachments_media_keys\", right_on=\"media_key\")"
      ],
      "execution_count": null,
      "outputs": []
    },
    {
      "cell_type": "code",
      "metadata": {
        "id": "dd6PXoE1Ou_o"
      },
      "source": [
        "# Inspect the core dataframe of tweets\n",
        "search_df.head( 3 )"
      ],
      "execution_count": null,
      "outputs": []
    },
    {
      "cell_type": "code",
      "metadata": {
        "id": "INHmkcAdOqyz"
      },
      "source": [
        "# Inspect the media dataframe\n",
        "search_media_df.head( 3 )"
      ],
      "execution_count": null,
      "outputs": []
    },
    {
      "cell_type": "code",
      "metadata": {
        "id": "iFXTt24fgVY_"
      },
      "source": [
        "# Inspect the combined data\n",
        "combined_df.head( 3 )"
      ],
      "execution_count": null,
      "outputs": []
    },
    {
      "cell_type": "markdown",
      "metadata": {
        "id": "lzsRB8BW9Ueh"
      },
      "source": [
        "# Part 4 - Practice"
      ]
    },
    {
      "cell_type": "markdown",
      "metadata": {
        "id": "e6R0tS-u9Xbe"
      },
      "source": [
        "Using the outlines below, fill in all of ??? in the following blocks of code.  This is simply meant to ensure you understand how to modify and tweak code to produce outputs."
      ]
    },
    {
      "cell_type": "code",
      "metadata": {
        "id": "y9yV4WUePQUI"
      },
      "source": [
        "# Run your own search, specifying the query= and tweet_fields= parameters to \n",
        "# according to your interest.\n",
        "\n",
        "search_practice = client.search_recent_tweets(\n",
        "    ??? = \"????????????????\",    \n",
        "    ??? = [\"???\",\"???\", \"???\", \"???\",\"public_metrics\",],\n",
        "    max_results = 20g\n",
        ")"
      ],
      "execution_count": null,
      "outputs": []
    },
    {
      "cell_type": "code",
      "metadata": {
        "id": "iiSrAkO7PQRu"
      },
      "source": [
        "# Create search_df, containing the Tweet data and display the data below. (nothing to fix here)\n",
        "\n",
        "search_practice_df = pd.DataFrame()\n",
        "\n",
        "for i in search_practice.data:\n",
        "  temp_data = pd.json_normalize( i.data ,  sep = \"_\")\n",
        "  search_practice_df = search_practice_df.append(temp_data,ignore_index=True)\n",
        "\n",
        "search_practice_df"
      ],
      "execution_count": null,
      "outputs": []
    },
    {
      "cell_type": "markdown",
      "metadata": {
        "id": "NbD7roOaQpn1"
      },
      "source": [
        "# Part 5 - Pages, pagination, and rate limits"
      ]
    },
    {
      "cell_type": "markdown",
      "metadata": {
        "id": "RpOZrWmbZDP6"
      },
      "source": [
        "When requesting large chunks of data from the Twitter API, Twitter will segment results into \"pages\" and only provide you with the first \"page\" of results.  You can then subsequently request page#2, page#3 and so forth to iteratively collect the remaining results.  This is done so that Twitter is better able to manage API requests and prevent abuse.\n",
        "\n",
        "* Tweepy - https://docs.tweepy.org/en/latest/pagination.html#api-v2\n",
        "* Twitter API - https://developer.twitter.com/en/docs/twitter-api/pagination"
      ]
    },
    {
      "cell_type": "markdown",
      "metadata": {
        "id": "R5_7DNRZDBWP"
      },
      "source": [
        "WARNING: Be aware that if you re-run the cells below many times in a short period of time, you will quickly exceed the Twitter API Rate Limits."
      ]
    },
    {
      "cell_type": "code",
      "metadata": {
        "id": "wmBu6dGOnLuD"
      },
      "source": [
        "# First, start with a basic search\n",
        "search_results = client.search_recent_tweets(\n",
        "    query = \"pokemon\",\n",
        "    max_results=10\n",
        ")\n",
        "\n",
        "# Inspect the data\n",
        "search_results.data"
      ],
      "execution_count": null,
      "outputs": []
    },
    {
      "cell_type": "markdown",
      "metadata": {
        "id": "6P4W1Tj81RzM"
      },
      "source": [
        "#### tweepy.Paginator (by pages)"
      ]
    },
    {
      "cell_type": "code",
      "metadata": {
        "id": "MyZN50xCl2g-"
      },
      "source": [
        "# To start using tweepy.Paginator(...) there are three core requirements to include\n",
        "# as parameters.\n",
        "\n",
        "# 1) method = the client.tweepy_function_here ; this specifies the iterable API function you want to use.\n",
        "# 2) limit = ### ; this specifies the number of \"pages\" of API results to collect \n",
        "# 3) param1 = .... ; all tweepy functions require at least one parameter (e.g. \"query\" for searching)\n",
        "# and you will need to include all required parameters appropriate to the function specified in the method parameter.\n",
        "\n",
        "# EXAMPLE\n",
        "# tweepy.Paginator(\n",
        "#     method = the_core_tweepy_function_you_want,\n",
        "#     limit = the_number_of_pages,\n",
        "#     param1 = ..., \n",
        "#     param1 = ..., \n",
        "#     param1 = ...,  \n",
        "#     )\n",
        "\n",
        "# The following example will search for recent tweets with the keyword \"Pokemon\".\n",
        "# It will collect 3 \"pages\", each of which will have 10 results; 30 tweets in total.\n",
        "tweepy.Paginator(\n",
        "    method = client.search_recent_tweets,  # required\n",
        "    limit=3,                               # required\n",
        "    query=\"pokemon\",                       # required\n",
        "    max_results=10                         # optional\n",
        "    )"
      ],
      "execution_count": null,
      "outputs": []
    },
    {
      "cell_type": "code",
      "metadata": {
        "id": "AZBSIfFLs0uJ"
      },
      "source": [
        "# Same example as above, but with the results stored in the my_search_paginator object.\n",
        "\n",
        "my_search_paginator = tweepy.Paginator(\n",
        "    method = client.search_recent_tweets,\n",
        "    limit=3,\n",
        "    query=\"pokemon\", \n",
        "    max_results=10\n",
        "    )"
      ],
      "execution_count": null,
      "outputs": []
    },
    {
      "cell_type": "code",
      "metadata": {
        "id": "rDvHXQgQf624"
      },
      "source": [
        "# Even as an object, the Paginator will not actually collect data until you\n",
        "# start to loop through it.\n",
        "my_search_paginator"
      ],
      "execution_count": null,
      "outputs": []
    },
    {
      "cell_type": "code",
      "metadata": {
        "id": "oAU-pb9ef7Wd"
      },
      "source": [
        "# Using a for-loop, loop through the paginator and print() the results\n",
        "\n",
        "for page in my_search_paginator:\n",
        "  print(page)\n",
        "  print(\"-----------------------------------------------\")\n",
        "  print(\"-----------------------------------------------\")\n",
        "  print(\"-----------------------------------------------\")"
      ],
      "execution_count": null,
      "outputs": []
    },
    {
      "cell_type": "code",
      "metadata": {
        "id": "5vG-piOEtd3a"
      },
      "source": [
        "# Same example as above\n",
        "my_search_paginator = tweepy.Paginator(\n",
        "    method = client.search_recent_tweets,\n",
        "    limit=3,\n",
        "    query=\"pokemon\", \n",
        "    max_results=10\n",
        "    )\n",
        "\n",
        "# Iterate through each page of results.\n",
        "# Within each page of results, iterate through each tweet object and print the \n",
        "# tweet's text.  Tweets are segmented with *** and pages are segmented by ---\n",
        "\n",
        "for page in my_search_paginator:  \n",
        "  for tweet in page.data:\n",
        "    print(tweet.text)\n",
        "    print(\"**************************\")\n",
        "\n",
        "  print(\"-----------------------------------------------\")\n",
        "  print(\"-----------------------------------------------\")\n",
        "  print(\"-----------------------------------------------\")"
      ],
      "execution_count": null,
      "outputs": []
    },
    {
      "cell_type": "code",
      "metadata": {
        "id": "4MZfOOD0mEFC"
      },
      "source": [
        "# This example expands both limit= and max_results= to collect 1,000 tweets\n",
        "# in total.  Additional tweet_fields are also specified to collect additional\n",
        "# data about each individual tweet.\n",
        "\n",
        "my_search_paginator = tweepy.Paginator(\n",
        "    method = client.search_recent_tweets,\n",
        "    limit=10,\n",
        "    query=\"pokemon\",\n",
        "    max_results=100,\n",
        "    tweet_fields = [\"attachments\",\"created_at\", \"entities\", \"geo\", \"id\",\"public_metrics\",\"possibly_sensitive\", \"source\", \"text\",],\n",
        "    )\n",
        "\n",
        "# Create an empty Pandas DataFrame\n",
        "paged_results_df = pd.DataFrame()\n",
        "\n",
        "\n",
        "# Iterate through each page of results\n",
        "for n,page in enumerate(my_search_paginator):  \n",
        "\n",
        "  # Print the current page number\n",
        "  print(\"PAGE NUMBER: \",n)\n",
        "  \n",
        "  # Iterate through each tweet in the page.data, convert to a dataframe, and \n",
        "  # then append to the paged_results_df above.\n",
        "  for tweet in page.data:\n",
        "    temp_df = pd.json_normalize(tweet.data, sep=\"_\")\n",
        "    paged_results_df = paged_results_df.append(temp_df, ignore_index=True)"
      ],
      "execution_count": null,
      "outputs": []
    },
    {
      "cell_type": "code",
      "metadata": {
        "id": "E3ZkoQYmheVY"
      },
      "source": [
        "# Inspect final results!\n",
        "\n",
        "paged_results_df"
      ],
      "execution_count": null,
      "outputs": []
    },
    {
      "cell_type": "code",
      "metadata": {
        "id": "6MdN-Kvdz3jT"
      },
      "source": [],
      "execution_count": null,
      "outputs": []
    },
    {
      "cell_type": "code",
      "metadata": {
        "id": "yPw7vdpfjESq"
      },
      "source": [
        "# Once the data is collected, you can start analyzing data!\n",
        "paged_results_df.describe()"
      ],
      "execution_count": null,
      "outputs": []
    },
    {
      "cell_type": "markdown",
      "metadata": {
        "id": "v5Prsfy01ftP"
      },
      "source": [
        "#### tweepy.Paginator (by results)"
      ]
    },
    {
      "cell_type": "code",
      "metadata": {
        "id": "Y8FtMcwrjEPf"
      },
      "source": [
        "# The prior examples relied on collected a fixed number of pages with the limit=\n",
        "# parameter inside of the Paginator(...) function.\n",
        "\n",
        "# The alternative below adds .flatten(...) to the end of Paginator(...) and moves\n",
        "# the limit= parameter to the .flatten(...) method.\n",
        "\n",
        "# In this case, the \"limit\" now refers to the total number of individual results.\n",
        "# In the example below, where limit=75, the Paginator will continue to run until\n",
        "# 75 tweets have been collected.\n",
        "\n",
        "my_search_paginator = tweepy.Paginator(\n",
        "    method = client.search_recent_tweets,\n",
        "    query=\"pokemon\",\n",
        "    max_results=10,\n",
        "    ).flatten(limit = 75)"
      ],
      "execution_count": null,
      "outputs": []
    },
    {
      "cell_type": "code",
      "metadata": {
        "id": "Os1jamCs14Tx"
      },
      "source": [
        "# Same example as above\n",
        "my_search_paginator = tweepy.Paginator(\n",
        "    method = client.search_recent_tweets,\n",
        "    query=\"pokemon\",\n",
        "    max_results=10,\n",
        "    ).flatten(limit = 20)\n",
        "\n",
        "# This version of Paginator will yield every item or result individually, not as\n",
        "# a set of pages like in the prior examples\n",
        "for item in my_search_paginator:\n",
        "  print(item.data)\n",
        "  print()"
      ],
      "execution_count": null,
      "outputs": []
    },
    {
      "cell_type": "code",
      "metadata": {
        "id": "z-QJI1-j1m8C"
      },
      "source": [
        "# Same example as above, but with unevenly matched values between max_results\n",
        "# and limit parameters.\n",
        "\n",
        "my_search_paginator = tweepy.Paginator(\n",
        "    method = client.search_recent_tweets,\n",
        "    query=\"pokemon\",\n",
        "    max_results=10,\n",
        "    ).flatten(limit = 23)\n",
        "\n",
        "# This for-loop will help us keep count of results using enumerate(...)\n",
        "for n,tweet in enumerate(my_search_paginator):\n",
        "  print(n,\"\\t\",tweet.data)\n",
        "  print()"
      ],
      "execution_count": null,
      "outputs": []
    },
    {
      "cell_type": "markdown",
      "metadata": {
        "id": "SpflTZC7DnwA"
      },
      "source": [
        "# Part 5 - Practice"
      ]
    },
    {
      "cell_type": "markdown",
      "metadata": {
        "id": "HamYyxg4DvJN"
      },
      "source": [
        "In the following blocks of code, you are encouraged to change and tweak the code to generate sets of Twitter search results.  Feel free to experiment with different parameters and search operators found on the Twitter API website."
      ]
    },
    {
      "cell_type": "code",
      "metadata": {
        "id": "XxwGNW6QjwZt"
      },
      "source": [
        "# Let's look at Nikema Williams (GA-05 House of Representatives)\n",
        "# https://twitter.com/NikemaWilliams\n",
        "\n",
        "# First, we'll use get_user(...) to get Williams's account details\n",
        "williams = client.get_user(\n",
        "    username = \"NikemaWilliams\",\n",
        "    user_fields = [\"created_at\", \"description\",\"public_metrics\",\"verified\",],\n",
        ")\n",
        "\n",
        "print(\"@NikemaWilliams Twitter ID: \", williams.data.id)\n",
        "print(\"@NikemaWilliams Number of Followers: \", williams.data.public_metrics[\"followers_count\"])"
      ],
      "execution_count": null,
      "outputs": []
    },
    {
      "cell_type": "code",
      "metadata": {
        "id": "QfW1o0W4kr1R"
      },
      "source": [
        "# Configure the Paginator function in order to collect the user-account information\n",
        "# for 10,000 followers of the NikemaWilliams Twitter account.\n",
        "\n",
        "# The following API page contains the request limits and parameter options \n",
        "# relevant to the limit= and max_results= parameters.\n",
        "# https://developer.twitter.com/en/docs/twitter-api/users/follows/api-reference/get-users-id-followers\n",
        "\n",
        "# method = needs to be set to the client.get_users_followers function.\n",
        "\n",
        "# limit = you SHOULD set this to a number smaller than the maximimum number of \n",
        "# requests in the \"Authentication and rate limits\" section near the top of the page\n",
        "\n",
        "# max_results = set this to the largest allowable value as defined by the \n",
        "# Twitter API.  This info is in the \"Query Parameters\" section of the page.\n",
        "\n",
        "# id = set this equal to the williams.data.id OR manually type the number as a string \"#####\"\n",
        "\n",
        "my_practice_paginator = tweepy.Paginator(\n",
        "    method = client.get_users_followers,\n",
        "    limit = ???,\n",
        "    id = williams.data.id,\n",
        "    max_results = ???,\n",
        "    user_fields = [\"created_at\", \"description\",\"public_metrics\",\"verified\",],\n",
        "    )"
      ],
      "execution_count": null,
      "outputs": []
    },
    {
      "cell_type": "code",
      "metadata": {
        "id": "LCfiQjPxjwXE"
      },
      "source": [
        "# Create an empty Pandas DataFrame\n",
        "paged_practice_followers = pd.DataFrame()\n",
        "\n",
        "# Iterate through each page of results\n",
        "for n,page in enumerate(my_practice_paginator):  \n",
        "\n",
        "  # Print the current page number\n",
        "  print(\"PAGE NUMBER: \",n)\n",
        "  \n",
        "  # Iterate through each user-account in the page.data, convert to a dataframe, and \n",
        "  # then append to the paged_practice_followers above.\n",
        "  for user in page.data:\n",
        "    temp_df = pd.json_normalize(user.data, sep=\"_\")\n",
        "    paged_practice_followers = paged_practice_followers.append(temp_df, ignore_index=True)"
      ],
      "execution_count": null,
      "outputs": []
    },
    {
      "cell_type": "code",
      "metadata": {
        "id": "tiucUjhGjwUy"
      },
      "source": [
        "paged_practice_followers"
      ],
      "execution_count": null,
      "outputs": []
    },
    {
      "cell_type": "markdown",
      "metadata": {
        "id": "vZFR681P8uGY"
      },
      "source": [
        "# Part 6 - Streaming Tweets (AKA the \"fire-hose\")"
      ]
    },
    {
      "cell_type": "markdown",
      "metadata": {
        "id": "XNrRWrZo8wcU"
      },
      "source": [
        "Twitter API streams are notably more complicated than everything to this point in the workshop.  These endpoints for the Twitter API allow you to capture Twitter data in realtime.  The examples below simply show the data being printed on screen or stored in local list-objects.  But you could hypothetically write Python commands that store live-streamed tweets into an SQL database OR save tweets as local files (e.g. as a \"pickle\") OR whatever else you'd like to do with data.\n",
        "\n",
        "This portion of the workshop code can be extremely challenging, so please do not feel bad if it takes you a while wrap your head around everything here.\n",
        "\n",
        "* Twitter API - [Streaming](https://developer.twitter.com/en/docs/tutorials/stream-tweets-in-real-time)\n",
        "* Tweepy - [Streaming Guide](https://docs.tweepy.org/en/latest/streaming_how_to.html)"
      ]
    },
    {
      "cell_type": "code",
      "metadata": {
        "id": "Ok6xqy0oTJzH"
      },
      "source": [
        "import tweepy\n",
        "import time"
      ],
      "execution_count": null,
      "outputs": []
    },
    {
      "cell_type": "code",
      "metadata": {
        "id": "bamUYwKXXZ2T"
      },
      "source": [
        "# Create a local list-object that we will use to store results as they come in.\n",
        "# Long-term, this is a VERY BAD STRATEGY for data management and processing.  \n",
        "# But for this workshop it is fine for demonstration purposes.\n",
        "statuses_container = []\n",
        "\n",
        "# Define a custom class to represent our use of the tweepy.Stream tools.\n",
        "# Within the class, we will add custom code to supplement existing on_status(...)\n",
        "# functionality that already comes with tweepy.  This is where we will tell Python\n",
        "# what to do with incoming data and where to store it.\n",
        "\n",
        "class my_streamer_class(tweepy.Stream):\n",
        "    def on_status(self, status):\n",
        "      print(status.id,\"\\t\",status.text)  # print the data on-screen\n",
        "      statuses_container.append(status)  # store the data in statuses_container\n",
        "\n",
        "# Create a stream object by calling on the class defined above.\n",
        "stream = my_streamer_class(\n",
        "    consumer_key = my_consumer_key,\n",
        "    consumer_secret = my_consumer_secret,\n",
        "    access_token = my_access_token,\n",
        "    access_token_secret = my_access_secret,\n",
        ")"
      ],
      "execution_count": null,
      "outputs": []
    },
    {
      "cell_type": "markdown",
      "metadata": {
        "id": "oc9y-OgrsVT9"
      },
      "source": [
        "### stream.sample(...)\n",
        "* Tweepy - https://docs.tweepy.org/en/latest/stream.html#tweepy.Stream.sample\n",
        "* Twitter API (v1) - https://developer.twitter.com/en/docs/twitter-api/v1/tweets/sample-realtime/overview"
      ]
    },
    {
      "cell_type": "code",
      "metadata": {
        "id": "blJSLO44sLaA"
      },
      "source": [
        "# Create/Re-create an empty list for storing results\n",
        "statuses_container = []\n",
        "\n",
        "# Start the sampling stream.  threaded=True is necessary so that we can tell the\n",
        "# stream to stop after a period of time.  Otherwise it will run forever.\n",
        "stream.sample(threaded=True, languages=[\"en\"])\n",
        "\n",
        "# Tell Python to wait for (X) seconds while the stream is running\n",
        "time.sleep(5)\n",
        "\n",
        "# Disconnect the stream\n",
        "stream.disconnect()"
      ],
      "execution_count": null,
      "outputs": []
    },
    {
      "cell_type": "code",
      "metadata": {
        "id": "WSm6qudh7Urr"
      },
      "source": [
        "# The number of statuses captured from stream\n",
        "len(statuses_container)"
      ],
      "execution_count": null,
      "outputs": []
    },
    {
      "cell_type": "code",
      "metadata": {
        "id": "eeQckyettX2T"
      },
      "source": [
        "# Inspect the first few statuses\n",
        "statuses_container[0:5]"
      ],
      "execution_count": null,
      "outputs": []
    },
    {
      "cell_type": "code",
      "metadata": {
        "id": "YIztdZTg9XzA"
      },
      "source": [
        "# Inspect the first item\n",
        "statuses_container[0]"
      ],
      "execution_count": null,
      "outputs": []
    },
    {
      "cell_type": "code",
      "metadata": {
        "id": "XXmag60_7Wrj"
      },
      "source": [
        "# Convert to Pandas DataFrame format\n",
        "pd.json_normalize(statuses_container[0]._json)"
      ],
      "execution_count": null,
      "outputs": []
    },
    {
      "cell_type": "markdown",
      "metadata": {
        "id": "gKuZQScEuiK5"
      },
      "source": [
        "### stream.filter(...)\n",
        "\n",
        "* Tweepy - https://docs.tweepy.org/en/latest/stream.html#tweepy.Stream.filter\n",
        "* Twitter API - https://developer.twitter.com/en/docs/twitter-api/v1/tweets/filter-realtime/api-reference/post-statuses-filter"
      ]
    },
    {
      "cell_type": "markdown",
      "metadata": {
        "id": "bFjXykrZOXwp"
      },
      "source": [
        "#### stream for \"atlanta\""
      ]
    },
    {
      "cell_type": "code",
      "metadata": {
        "id": "8h0Z5TRjuhQW"
      },
      "source": [
        "# Create/Re-create an empty list for storing results\n",
        "statuses_container = []\n",
        "\n",
        "# Start the filtered stream.  Searching for tweets containing the keyword \"atlanta\".\n",
        "stream.filter(track=[\"atlanta\",\"atl\"] , threaded=True, languages=[\"en\"])\n",
        "\n",
        "# Tell Python to wait for (X) seconds will the stream is running\n",
        "time.sleep(15)\n",
        "\n",
        "# Disconnect the stream\n",
        "stream.disconnect()"
      ],
      "execution_count": null,
      "outputs": []
    },
    {
      "cell_type": "code",
      "metadata": {
        "id": "tZzQDZ53IPeW"
      },
      "source": [
        "# Inspect list of tweet objects\n",
        "statuses_container"
      ],
      "execution_count": null,
      "outputs": []
    },
    {
      "cell_type": "markdown",
      "metadata": {
        "id": "9g68xRBQOa_h"
      },
      "source": [
        "#### stream for \"nyc\" OR \"new york city\""
      ]
    },
    {
      "cell_type": "code",
      "metadata": {
        "id": "dV7_bpO6uhNm"
      },
      "source": [
        "# Create/Re-create an empty list for storing results\n",
        "statuses_container = []\n",
        "\n",
        "# Start the filtered stream.  Searching for tweets \n",
        "stream.filter(track=[\"nyc\",\"new york city\"] , threaded=True, languages=[\"en\"])\n",
        "\n",
        "# Tell Python to wait for (X) seconds will the stream is running\n",
        "time.sleep(15)\n",
        "\n",
        "# Disconnect the stream\n",
        "stream.disconnect()"
      ],
      "execution_count": null,
      "outputs": []
    },
    {
      "cell_type": "code",
      "metadata": {
        "id": "HMXFZyRPuhK_"
      },
      "source": [
        "# Inspect list of tweet objects\n",
        "statuses_container"
      ],
      "execution_count": null,
      "outputs": []
    },
    {
      "cell_type": "markdown",
      "metadata": {
        "id": "PWsVp6PlOeeN"
      },
      "source": [
        "#### stream of accounts followed by GSU"
      ]
    },
    {
      "cell_type": "code",
      "metadata": {
        "id": "QboHKzlDyECB"
      },
      "source": [
        "# Collect GSU's Twitter Account\n",
        "gastate = client.get_user(\n",
        "    username = \"GeorgiaStateU\",\n",
        ")\n",
        "\n",
        "# Get a list of accounts that GSU follows on Twitter\n",
        "gastate_follows = client.get_users_following(\n",
        "    id = gastate.data.id,\n",
        "    max_results = 1000\n",
        ")\n",
        "\n",
        "# Create list of IDs\n",
        "gastate_follows_ids = [x.id for x in gastate_follows.data]"
      ],
      "execution_count": null,
      "outputs": []
    },
    {
      "cell_type": "code",
      "metadata": {
        "id": "_Zw586ahQ487"
      },
      "source": [
        "# Preview list of gastate_follows_ids\n",
        "gastate_follows_ids[:10]"
      ],
      "execution_count": null,
      "outputs": []
    },
    {
      "cell_type": "code",
      "metadata": {
        "id": "OeJ1inI_xBcz"
      },
      "source": [
        "# Create/Re-create an empty list for storing results\n",
        "statuses_container = []\n",
        "\n",
        "# Start the filtered stream.  Searching for tweets from accounts followed by GeorgiaStateU\n",
        "stream.filter(follow=gastate_follows_ids , threaded=True)\n",
        "\n",
        "# Tell Python to wait for (X) seconds will the stream is running\n",
        "time.sleep(60)\n",
        "\n",
        "# Disconnect the stream\n",
        "stream.disconnect()"
      ],
      "execution_count": null,
      "outputs": []
    },
    {
      "cell_type": "code",
      "metadata": {
        "id": "9gVyJOF5Ot2U"
      },
      "source": [
        "# Inspect list of tweet objects\n",
        "statuses_container"
      ],
      "execution_count": null,
      "outputs": []
    },
    {
      "cell_type": "markdown",
      "metadata": {
        "id": "s8qPD-bLb9rH"
      },
      "source": [
        "# Part 6 - Practice"
      ]
    },
    {
      "cell_type": "markdown",
      "metadata": {
        "id": "EX5hvMg7cAOY"
      },
      "source": [
        "Much of what could be \"practiced\" in this section may be wildly difficult for some for whom this is their first exposure to working with APIs.  For this section, I suggest just playing around with changing the stream.filter(...) parameters in the second block.  Test different keywords and combinations of languages and see what people are saying right now (on Twitter)!"
      ]
    },
    {
      "cell_type": "code",
      "metadata": {
        "id": "oi4QbUQly9AJ"
      },
      "source": [
        "import tweepy\n",
        "import time\n",
        "\n",
        "class my_streamer_class(tweepy.Stream):\n",
        "    def on_status(self, status):\n",
        "      print(status.id,\"\\t\",status.text)  # print the data on-screen\n",
        "      statuses_container.append(status)  # store the data in statuses_container\n",
        "\n",
        "# Create a stream object by calling on the class defined above.\n",
        "stream = my_streamer_class(\n",
        "    consumer_key = my_consumer_key,\n",
        "    consumer_secret = my_consumer_secret,\n",
        "    access_token = my_access_token,\n",
        "    access_token_secret = my_access_secret,\n",
        ")"
      ],
      "execution_count": null,
      "outputs": []
    },
    {
      "cell_type": "code",
      "metadata": {
        "id": "wvK-9PmZy89Z"
      },
      "source": [
        "# languages options can be found on the search-operators page near the bottom\n",
        "# Twitter API - https://developer.twitter.com/en/docs/twitter-api/tweets/search/integrate/build-a-query\n",
        "\n",
        "# Create/Re-create an empty list for storing results\n",
        "statuses_container = []\n",
        "\n",
        "# Start the filtered stream.  Searching for tweets containing the a keyword of your choice in English (\"en\").\n",
        "stream.filter(languages=[\"???\"], track=[\"???\",\"???\"], threaded=True)\n",
        "\n",
        "# Tell Python to wait for (X) seconds will the stream is running\n",
        "time.sleep(????)\n",
        "\n",
        "# Disconnect the stream\n",
        "stream.disconnect()"
      ],
      "execution_count": null,
      "outputs": []
    },
    {
      "cell_type": "code",
      "metadata": {
        "id": "P6sSFqJVPYLV"
      },
      "source": [
        "# Inspect list of tweet objects\n",
        "statuses_container"
      ],
      "execution_count": null,
      "outputs": []
    },
    {
      "cell_type": "markdown",
      "metadata": {
        "id": "4EcESdc3uxh9"
      },
      "source": [
        "# Examples in the \"wild\"!\n"
      ]
    },
    {
      "cell_type": "markdown",
      "metadata": {
        "id": "_f154ZnWm5TM"
      },
      "source": [
        "The following blocks of code show two heavily truncated examples of how you could potentially use data collected from the Twitter API.  These examples are purely illustrative and are not analytically rigorous.  Naturally, you will need to consider your own research and analytic needs when collecting and making use of data harvested from Twitter."
      ]
    },
    {
      "cell_type": "code",
      "metadata": {
        "id": "77ng6FmbFbwM"
      },
      "source": [
        "# IMPORT NECESSARY PACKAGES AND DEFINE API KEYS AND CLIENT\n",
        "\n",
        "# GENERAL PACKAGES\n",
        "# !pip install git+https://github.com/tweepy/tweepy.git --upgrade\n",
        "import tweepy\n",
        "import pandas as pd\n",
        "import numpy as np\n",
        "\n",
        "\n",
        "# DEFINING API KEYS AND INITIATING CLIENT\n",
        "# my_consumer_key = \"???????????????????\"\n",
        "# my_consumer_secret = \"?????????????????????\"\n",
        "\n",
        "# my_access_token = \"?????????????????\"\n",
        "# my_access_secret = \"????????????????????????????\"\n",
        "\n",
        "# my_bearer_token = \"??????????????????????????????????????????????????????????????\"\n",
        "\n",
        "\n",
        "# client = tweepy.Client(\n",
        "#     wait_on_rate_limit = True,\n",
        "#     consumer_key = my_consumer_key,\n",
        "#     consumer_secret = my_consumer_secret,\n",
        "#     access_token = my_access_token,\n",
        "#     access_token_secret = my_access_secret,\n",
        "#     bearer_token = my_bearer_token,\n",
        "# )"
      ],
      "execution_count": null,
      "outputs": []
    },
    {
      "cell_type": "markdown",
      "metadata": {
        "id": "36IQGDSJFd5D"
      },
      "source": [
        "## Wordcloud"
      ]
    },
    {
      "cell_type": "markdown",
      "metadata": {
        "id": "OrlviAFK9hq5"
      },
      "source": [
        "The following code demonstrates how to collect tweets from two specific Twitter timelines.  Then, using WordCloud package, simple visualizations are created that highlight the relative frequency of different terms from each respective Twitter user.  The code is purely intended to illustrate a single and simple example of what you might do with data collected via the Twitter API and it may not apply directly to your research interests.\n",
        "\n",
        "If you are interested in creating more advanced WordClouds, please refer to the documentation: https://amueller.github.io/word_cloud/index.html"
      ]
    },
    {
      "cell_type": "code",
      "metadata": {
        "id": "s8xt4X0kEIgI"
      },
      "source": [
        "# WORD CLOUD PACKAGES\n",
        "from wordcloud import WordCloud, STOPWORDS\n",
        "import matplotlib.pyplot as plt"
      ],
      "execution_count": null,
      "outputs": []
    },
    {
      "cell_type": "code",
      "metadata": {
        "id": "syrcGcyENElj"
      },
      "source": [
        "# Collect and organize the Twitter timeline from Stacey \n",
        "# Abrams' official Twitter account.\n",
        "\n",
        "abrams_account = client.get_user(username=\"staceyabrams\")\n",
        "\n",
        "abrams_timeline = tweepy.Paginator(\n",
        "        method = client.get_users_tweets,\n",
        "        id = abrams_account.data.id,\n",
        "        max_results = 100,\n",
        "        user_fields = [\"public_metrics\"]\n",
        "        ).flatten(limit=1000)\n",
        "\n",
        "abrams_tweets = []\n",
        "\n",
        "for k in abrams_timeline:\n",
        "  abrams_tweets.append(k.data[\"text\"])"
      ],
      "execution_count": null,
      "outputs": []
    },
    {
      "cell_type": "code",
      "metadata": {
        "id": "HZBXJ2CQNEen"
      },
      "source": [
        "# Collect and organize the Twitter timeline from Marjorie Taylor \n",
        "# Greene's official Twitter account.\n",
        "\n",
        "greene_account = client.get_user(username=\"mtgreenee\")\n",
        "\n",
        "greene_timeline = tweepy.Paginator(\n",
        "        method = client.get_users_tweets,\n",
        "        id = greene_account.data.id,\n",
        "        max_results = 100,\n",
        "        user_fields = [\"public_metrics\"]\n",
        "        ).flatten(limit=1000)\n",
        "\n",
        "greene_tweets = []\n",
        "\n",
        "for k in greene_timeline:\n",
        "  greene_tweets.append(k.data[\"text\"])"
      ],
      "execution_count": null,
      "outputs": []
    },
    {
      "cell_type": "code",
      "metadata": {
        "id": "j1N2Ld5lFbTr"
      },
      "source": [
        "# Create a WordCloud using Abrams' Twitter timeline.  \n",
        "\n",
        "# Define stopwords; words to exclude from the visualization\n",
        "stopwords = set(STOPWORDS) | set([\"rt\",\"https\",\"http\",\"staceyabrams\"])\n",
        "comment_words = ''\n",
        "\n",
        "# iterate through the list of tweets\n",
        "for val in abrams_tweets:\n",
        "      \n",
        "    # typecaste each val to string\n",
        "    val = str(val)\n",
        "  \n",
        "    # split the value\n",
        "    tokens = val.split()\n",
        "      \n",
        "    # Converts each token into lowercase\n",
        "    for i in range(len(tokens)):\n",
        "        tokens[i] = tokens[i].lower()\n",
        "      \n",
        "    comment_words += \" \".join(tokens)+\" \"\n",
        "\n",
        "# Create WordCloud object\n",
        "wordcloud = WordCloud(width = 800, height = 800,\n",
        "                background_color ='white',\n",
        "                stopwords = stopwords,\n",
        "                min_font_size = 10,\n",
        "                regexp = r\"\\w{3,}\"\n",
        "                ).generate(comment_words)\n",
        "  \n",
        "# plot the WordCloud image                       \n",
        "plt.figure(figsize = (8, 8), facecolor = None)\n",
        "plt.imshow(wordcloud)\n",
        "plt.axis(\"off\")\n",
        "plt.tight_layout(pad = 0)\n",
        "plt.title(\"WordCloud of @{} 1,000 most recent Tweets\".format(abrams_account.data.username),fontdict={\"fontsize\":20})\n",
        "\n",
        "plt.show()"
      ],
      "execution_count": null,
      "outputs": []
    },
    {
      "cell_type": "code",
      "metadata": {
        "id": "vEh7Utj1LAsN"
      },
      "source": [
        "# Create a WordCloud using Greene's Twitter timeline.  \n",
        "\n",
        "# Define stopwords; words to exclude from the visualization\n",
        "stopwords = set(STOPWORDS) | set([\"rt\",\"https\",\"http\",\"mtgreenee\",\"repmtg\"])\n",
        "comment_words = ''\n",
        "\n",
        "# iterate through the list of tweets\n",
        "for val in greene_tweets:\n",
        "\n",
        "    # typecaste each val to string\n",
        "    val = str(val)\n",
        "    \n",
        "    # split the value\n",
        "    tokens = val.split()\n",
        "    \n",
        "    # Converts each token into lowercase\n",
        "    for i in range(len(tokens)):\n",
        "        tokens[i] = tokens[i].lower()\n",
        "      \n",
        "    comment_words += \" \".join(tokens)+\" \"\n",
        "\n",
        "# Create WordCloud object    \n",
        "wordcloud = WordCloud(width = 800, height = 800,\n",
        "                background_color ='white',\n",
        "                stopwords = stopwords,\n",
        "                min_font_size = 10,\n",
        "                regexp=r\"\\w{3,}\").generate(comment_words)\n",
        "                \n",
        "# plot the WordCloud image                       \n",
        "plt.figure(figsize = (8, 8), facecolor = None)\n",
        "plt.imshow(wordcloud)\n",
        "plt.axis(\"off\")\n",
        "plt.tight_layout(pad = 0)\n",
        "plt.title(\"WordCloud of @{} 1,000 most recent Tweets\".format(greene_account.data.username),fontdict={\"fontsize\":20})\n",
        "\n",
        "plt.show()"
      ],
      "execution_count": null,
      "outputs": []
    },
    {
      "cell_type": "markdown",
      "metadata": {
        "id": "mX_zSl3oJ8p2"
      },
      "source": [
        "## Topic Modelling"
      ]
    },
    {
      "cell_type": "markdown",
      "metadata": {
        "id": "k8iWQfkWBgME"
      },
      "source": [
        "The following code demonstrates how to collect a batch of 5,000 Tweets, conduct basic topic modelling using the LDA algorithm, and then visualize the \"topics\" using the pyLDAvis package.  This section is included purely for illustration purposes and the underlying methods may be extremely dense and challenging to understand.  For additional information about these specific tools and methods, please refer to the following sources:\n",
        "\n",
        "* Laten Dirichlet allocation (LDA, topic modelling) - https://en.wikipedia.org/wiki/Latent_Dirichlet_allocation\n",
        "* Gensim LDA Model - https://radimrehurek.com/gensim/models/ldamodel.html\n",
        "* pyLDAvis - https://pyldavis.readthedocs.io/en/latest/\n"
      ]
    },
    {
      "cell_type": "code",
      "metadata": {
        "id": "-RtgPO41EdqY"
      },
      "source": [
        "# TOPIC MODELLING PACKAGES\n",
        "# ! pip install git+https://github.com/bmabey/pyLDAvis/ --upgrade\n",
        "import pyLDAvis\n",
        "import pyLDAvis.gensim_models\n",
        "import gensim"
      ],
      "execution_count": null,
      "outputs": []
    },
    {
      "cell_type": "code",
      "metadata": {
        "id": "PtuDP4N1NK95"
      },
      "source": [
        "# Search for, collect, and organize 5,000 tweets\n",
        "tweet_search = tweepy.Paginator(\n",
        "        method = client.search_recent_tweets,\n",
        "        query=\"pokemon lang:en -is:retweet\", # keyword search\n",
        "        max_results=100, # number of results per page\n",
        "        ).flatten(limit=5000) # max number of results to collect\n",
        "\n",
        "tweets_text = []\n",
        "\n",
        "for k in tweet_search:\n",
        "  tweets_text.append(k.data[\"text\"])"
      ],
      "execution_count": null,
      "outputs": []
    },
    {
      "cell_type": "code",
      "metadata": {
        "id": "bMXLhFbkRdbB"
      },
      "source": [
        "# Check to make sure 5,000 tweets have been collected\n",
        "len(tweets_text)"
      ],
      "execution_count": null,
      "outputs": []
    },
    {
      "cell_type": "code",
      "metadata": {
        "id": "zNfJe0XBRv4H"
      },
      "source": [
        "# Preview the first 5 tweets\n",
        "tweets_text[:5]"
      ],
      "execution_count": null,
      "outputs": []
    },
    {
      "cell_type": "code",
      "metadata": {
        "id": "9PeC99vjnMVS"
      },
      "source": [
        "# Process all tweets, tokenize, filter, and create an LDA model using the Gensim package.\n",
        "\n",
        "tweets_tokens = [t.lower().replace(\"'\",\"\").split() for t in tweets_text]\n",
        "tweets_tokens = [[token for token in tweet if len(token) > 3] for tweet in tweets_tokens]\n",
        "\n",
        "dictionary = gensim.corpora.Dictionary(tweets_tokens)\n",
        "dictionary.filter_extremes(no_below=2, no_above=0.5)\n",
        "corpus = [dictionary.doc2bow(text) for text in tweets_tokens]\n",
        "\n",
        "lda_model = gensim.models.LdaMulticore(corpus=corpus,\n",
        "                   id2word=dictionary,\n",
        "                   num_topics=50, \n",
        "                   random_state=0,\n",
        "                   chunksize=100,\n",
        "                   per_word_topics=True,)"
      ],
      "execution_count": null,
      "outputs": []
    },
    {
      "cell_type": "code",
      "metadata": {
        "id": "dza_D_E4pE46"
      },
      "source": [
        "# Create a dashboard visualization of the LDA model using the pyLDAvis package\n",
        "\n",
        "vis = pyLDAvis.gensim_models.prepare(\n",
        "        topic_model = lda_model,\n",
        "        corpus = corpus,\n",
        "        dictionary = dictionary\n",
        ")\n",
        "\n",
        "pyLDAvis.enable_notebook()\n",
        "pyLDAvis.display(vis)"
      ],
      "execution_count": null,
      "outputs": []
    },
    {
      "cell_type": "code",
      "metadata": {
        "id": "ephumEVnva6B"
      },
      "source": [],
      "execution_count": null,
      "outputs": []
    }
  ]
}